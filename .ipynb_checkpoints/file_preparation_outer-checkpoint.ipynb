{
 "cells": [
  {
   "cell_type": "markdown",
   "id": "d663156f",
   "metadata": {},
   "source": [
    "# File preparations"
   ]
  },
  {
   "cell_type": "code",
   "execution_count": 1,
   "id": "75e6471b",
   "metadata": {},
   "outputs": [
    {
     "name": "stderr",
     "output_type": "stream",
     "text": [
      "Global seed set to 0\n",
      "/Users/tiinatuononen/opt/anaconda3/envs/tiina-env/lib/python3.10/site-packages/pytorch_lightning/utilities/warnings.py:53: LightningDeprecationWarning: pytorch_lightning.utilities.warnings.rank_zero_deprecation has been deprecated in v1.6 and will be removed in v1.8. Use the equivalent function from the pytorch_lightning.utilities.rank_zero module instead.\n",
      "  new_rank_zero_deprecation(\n",
      "/Users/tiinatuononen/opt/anaconda3/envs/tiina-env/lib/python3.10/site-packages/pytorch_lightning/utilities/warnings.py:58: LightningDeprecationWarning: The `pytorch_lightning.loggers.base.rank_zero_experiment` is deprecated in v1.7 and will be removed in v1.9. Please use `pytorch_lightning.loggers.logger.rank_zero_experiment` instead.\n",
      "  return new_rank_zero_deprecation(*args, **kwargs)\n"
     ]
    }
   ],
   "source": [
    "import pandas as pd\n",
    "import numpy as np\n",
    "import matplotlib.pyplot as plt\n",
    "import seaborn as sns\n",
    "import anndata as ad\n",
    "import scvi\n",
    "import scanpy as sc\n",
    "import umap\n",
    "\n",
    "from ridgeplot import ridgeplot\n",
    "from muon import prot as pt\n",
    "import anndata\n",
    "\n",
    "import warnings\n",
    "\n",
    "warnings.filterwarnings('ignore')"
   ]
  },
  {
   "cell_type": "markdown",
   "id": "f8ce2956",
   "metadata": {},
   "source": [
    "## CLR normalization"
   ]
  },
  {
   "cell_type": "code",
   "execution_count": 2,
   "id": "8e302fc0",
   "metadata": {},
   "outputs": [],
   "source": [
    "#raw protein data, all datasets\n",
    "\n",
    "adata = sc.read_h5ad('/Users/tiinatuononen/Desktop/Thesis/Project/data/healthy_malig_outer_!m.h5ad')\n",
    "\n",
    "\n"
   ]
  },
  {
   "cell_type": "code",
   "execution_count": 3,
   "id": "287dd4f1",
   "metadata": {},
   "outputs": [
    {
     "data": {
      "text/plain": [
       "AnnData object with n_obs × n_vars = 289154 × 21720\n",
       "    obs: 'GEX_n_genes_by_counts', 'GEX_pct_counts_mt', 'GEX_size_factors', 'GEX_phase', 'ADT_n_antibodies_by_counts', 'ADT_total_counts', 'ADT_iso_count', 'cell_type', 'batch', 'ADT_pseudotime_order', 'GEX_pseudotime_order', 'Samplename', 'Site', 'DonorNumber', 'Modality', 'VendorLot', 'DonorID', 'DonorAge', 'DonorBMI', 'DonorBloodType', 'DonorRace', 'Ethnicity', 'DonorGender', 'QCMeds', 'DonorSmoker', 'is_train', 'n_genes', 'percent_mito', 'percent_ribo', 'n_counts', 'leiden_r2', 'leiden_r2_n_genes_MAD_diff', 'leiden_r2_n_counts_MAD_diff', 'leiden_r2_percent_mito_MAD_diff', 'filter', 'model_group', 'BATCH', 'POOL', 'SAMPLE_SET', 'SAMPLE_TYPE', 'SAMPLE_TISSUE', 'DIAGNOSIS', 'SUBTYPE', 'STATUS'\n",
       "    obsm: 'ADT_X_pca', 'ADT_X_umap', 'ADT_isotype_controls', 'GEX_X_pca', 'GEX_X_umap', 'X_pca', 'X_umap', 'protein_expression'\n",
       "    layers: 'counts'"
      ]
     },
     "execution_count": 3,
     "metadata": {},
     "output_type": "execute_result"
    }
   ],
   "source": [
    "adata"
   ]
  },
  {
   "cell_type": "code",
   "execution_count": 4,
   "id": "b3909370",
   "metadata": {},
   "outputs": [
    {
     "data": {
      "text/plain": [
       "['N', 'S', 'Granja', 'Caron', 'HCA']"
      ]
     },
     "execution_count": 4,
     "metadata": {},
     "output_type": "execute_result"
    }
   ],
   "source": [
    "adata.obs['SAMPLE_SET'].unique().tolist()"
   ]
  },
  {
   "cell_type": "markdown",
   "id": "94eb5cfa",
   "metadata": {},
   "source": [
    "## Neurips"
   ]
  },
  {
   "cell_type": "code",
   "execution_count": 5,
   "id": "b3563662",
   "metadata": {},
   "outputs": [],
   "source": [
    "#Selecting only Neurips, raw data from original anndata file\n",
    "\n",
    "adata_neurips=adata[adata.obs['SAMPLE_SET'] == 'N' ].copy()"
   ]
  },
  {
   "cell_type": "code",
   "execution_count": 6,
   "id": "f3a75be9",
   "metadata": {},
   "outputs": [
    {
     "data": {
      "text/plain": [
       "AnnData object with n_obs × n_vars = 80998 × 21720\n",
       "    obs: 'GEX_n_genes_by_counts', 'GEX_pct_counts_mt', 'GEX_size_factors', 'GEX_phase', 'ADT_n_antibodies_by_counts', 'ADT_total_counts', 'ADT_iso_count', 'cell_type', 'batch', 'ADT_pseudotime_order', 'GEX_pseudotime_order', 'Samplename', 'Site', 'DonorNumber', 'Modality', 'VendorLot', 'DonorID', 'DonorAge', 'DonorBMI', 'DonorBloodType', 'DonorRace', 'Ethnicity', 'DonorGender', 'QCMeds', 'DonorSmoker', 'is_train', 'n_genes', 'percent_mito', 'percent_ribo', 'n_counts', 'leiden_r2', 'leiden_r2_n_genes_MAD_diff', 'leiden_r2_n_counts_MAD_diff', 'leiden_r2_percent_mito_MAD_diff', 'filter', 'model_group', 'BATCH', 'POOL', 'SAMPLE_SET', 'SAMPLE_TYPE', 'SAMPLE_TISSUE', 'DIAGNOSIS', 'SUBTYPE', 'STATUS'\n",
       "    obsm: 'ADT_X_pca', 'ADT_X_umap', 'ADT_isotype_controls', 'GEX_X_pca', 'GEX_X_umap', 'X_pca', 'X_umap', 'protein_expression'\n",
       "    layers: 'counts'"
      ]
     },
     "execution_count": 6,
     "metadata": {},
     "output_type": "execute_result"
    }
   ],
   "source": [
    "adata_neurips"
   ]
  },
  {
   "cell_type": "code",
   "execution_count": 15,
   "id": "00617653",
   "metadata": {},
   "outputs": [],
   "source": [
    "df=adata_neurips.obsm['protein_expression'].astype(float)\n"
   ]
  },
  {
   "cell_type": "code",
   "execution_count": 16,
   "id": "ae06bfe8",
   "metadata": {},
   "outputs": [
    {
     "data": {
      "text/plain": [
       "(80998, 139)"
      ]
     },
     "execution_count": 16,
     "metadata": {},
     "output_type": "execute_result"
    }
   ],
   "source": [
    "adata_neurips.obsm['protein_expression'].shape\n",
    "\n"
   ]
  },
  {
   "cell_type": "code",
   "execution_count": 20,
   "id": "19cdb3b6",
   "metadata": {},
   "outputs": [],
   "source": [
    "#empty anndata file with correct shape\n",
    "\n",
    "adata_e = anndata.AnnData(np.random.poisson(1, size=(80998, 139)))"
   ]
  },
  {
   "cell_type": "code",
   "execution_count": 21,
   "id": "d5f54d49",
   "metadata": {},
   "outputs": [],
   "source": [
    "adata_e.X=df"
   ]
  },
  {
   "cell_type": "code",
   "execution_count": 22,
   "id": "86dc7cb2",
   "metadata": {},
   "outputs": [],
   "source": [
    "adata_e.obs_names = df.index\n",
    "adata_e.var_names = df.columns"
   ]
  },
  {
   "cell_type": "code",
   "execution_count": 23,
   "id": "9cf9feba",
   "metadata": {},
   "outputs": [],
   "source": [
    "#normalization\n",
    "pt.pp.clr(adata_e)"
   ]
  },
  {
   "cell_type": "code",
   "execution_count": 24,
   "id": "ecf0f914",
   "metadata": {},
   "outputs": [],
   "source": [
    "neurips_prot=adata_e.to_df()"
   ]
  },
  {
   "cell_type": "code",
   "execution_count": 25,
   "id": "ad86ca27",
   "metadata": {},
   "outputs": [],
   "source": [
    "#save as new df to obsm\n",
    "adata_neurips.obsm['protein_expression_clr_neurips'] = neurips_prot"
   ]
  },
  {
   "cell_type": "code",
   "execution_count": 26,
   "id": "fab66173",
   "metadata": {},
   "outputs": [
    {
     "data": {
      "text/plain": [
       "AnnData object with n_obs × n_vars = 80998 × 21720\n",
       "    obs: 'GEX_n_genes_by_counts', 'GEX_pct_counts_mt', 'GEX_size_factors', 'GEX_phase', 'ADT_n_antibodies_by_counts', 'ADT_total_counts', 'ADT_iso_count', 'cell_type', 'batch', 'ADT_pseudotime_order', 'GEX_pseudotime_order', 'Samplename', 'Site', 'DonorNumber', 'Modality', 'VendorLot', 'DonorID', 'DonorAge', 'DonorBMI', 'DonorBloodType', 'DonorRace', 'Ethnicity', 'DonorGender', 'QCMeds', 'DonorSmoker', 'is_train', 'n_genes', 'percent_mito', 'percent_ribo', 'n_counts', 'leiden_r2', 'leiden_r2_n_genes_MAD_diff', 'leiden_r2_n_counts_MAD_diff', 'leiden_r2_percent_mito_MAD_diff', 'filter', 'model_group', 'BATCH', 'POOL', 'SAMPLE_SET', 'SAMPLE_TYPE', 'SAMPLE_TISSUE', 'DIAGNOSIS', 'SUBTYPE', 'STATUS'\n",
       "    obsm: 'ADT_X_pca', 'ADT_X_umap', 'ADT_isotype_controls', 'GEX_X_pca', 'GEX_X_umap', 'X_pca', 'X_umap', 'protein_expression', 'protein_expression_clr_neurips'\n",
       "    layers: 'counts'"
      ]
     },
     "execution_count": 26,
     "metadata": {},
     "output_type": "execute_result"
    }
   ],
   "source": [
    "adata_neurips"
   ]
  },
  {
   "cell_type": "code",
   "execution_count": 27,
   "id": "62d386c6",
   "metadata": {},
   "outputs": [],
   "source": [
    "#save the file!\n",
    "\n",
    "adata_neurips.write('/Users/tiinatuononen/Desktop/Thesis/Project/data/adata_neurips_norm_outer.h5ad')"
   ]
  },
  {
   "cell_type": "markdown",
   "id": "bb4b8be4",
   "metadata": {},
   "source": [
    "adata_neurips.obsm['protein_expression_clr_neurips']"
   ]
  },
  {
   "cell_type": "code",
   "execution_count": null,
   "id": "7c5a345e",
   "metadata": {},
   "outputs": [],
   "source": [
    "#Get latent from this file\n",
    "\n",
    "adata= sc.read_h5ad('/Users/tiinatuononen/Desktop/Thesis/Project/data/healthy_malig_!m.h5ad')"
   ]
  },
  {
   "cell_type": "code",
   "execution_count": null,
   "id": "2fa585c1",
   "metadata": {},
   "outputs": [],
   "source": [
    "#file in which we want to add the latent space\n",
    "\n",
    "adata_neurips = sc.read_h5ad('/Users/tiinatuononen/Desktop/Thesis/Project/data/adata_neurips_norm_outer.h5ad')"
   ]
  },
  {
   "cell_type": "code",
   "execution_count": null,
   "id": "7da12302",
   "metadata": {},
   "outputs": [],
   "source": [
    "#Adding \"X_totalVI\" from adata file into adata_neurips file\n",
    "\n",
    "adata_neurips.obsm[\"X_totalVI\"] = adata.obsm['X_totalVI'][adata.obs.batch_group.isin(['Neurips'])]"
   ]
  },
  {
   "cell_type": "code",
   "execution_count": null,
   "id": "06cbc78e",
   "metadata": {},
   "outputs": [],
   "source": [
    "#Adding \"X_totalVI\" from adata file into adata_neurips file\n",
    "\n",
    "adata_neurips.obsm[\"X_totalVI\"] = adata.obsm['X_totalVI'][adata.obs.batch_group.isin(['Neurips'])]"
   ]
  },
  {
   "cell_type": "code",
   "execution_count": null,
   "id": "c8c33eb9",
   "metadata": {},
   "outputs": [],
   "source": [
    "#checking that indexes are matching\n",
    "\n",
    "(~(adata_neurips.obs.index == adata.obs[adata.obs.batch_group.isin(['Neurips'])].index)).sum()"
   ]
  },
  {
   "cell_type": "code",
   "execution_count": null,
   "id": "326e87ae",
   "metadata": {},
   "outputs": [],
   "source": [
    "#save the file!\n",
    "\n",
    "#adata_neurips.write('/Users/tiinatuononen/Desktop/Thesis/Project/data/adata_neurips_norm_outer.h5ad')"
   ]
  },
  {
   "cell_type": "markdown",
   "id": "f65de49f",
   "metadata": {},
   "source": [
    "## Adding IG antibody information"
   ]
  },
  {
   "cell_type": "code",
   "execution_count": 25,
   "id": "d8bef8b1",
   "metadata": {},
   "outputs": [],
   "source": [
    "ig_ab = pd.read_csv('/Users/tiinatuononen/Desktop/Thesis/Project/data/ADT_isotype_controls.csv', index_col=0)  "
   ]
  },
  {
   "cell_type": "code",
   "execution_count": 26,
   "id": "2eaf4b21",
   "metadata": {},
   "outputs": [
    {
     "data": {
      "text/plain": [
       "Index(['GTAGTACCAATCCTTT-1-s4d1', 'CTCAAGAGTCACAGAG-1-s4d1',\n",
       "       'CTGTGGGTCATGCGGC-1-s4d1', 'CGTGATAGTTATCTGG-1-s4d1',\n",
       "       'AGATCCAAGATCGGTG-1-s4d1', 'TGGTTAGTCTATTTCG-1-s4d1',\n",
       "       'AAGCCATCATAATCCG-1-s4d1', 'TAGATCGCAGCCTTCT-1-s4d1',\n",
       "       'TGTGAGTCACTATCGA-1-s4d1', 'GACTGATAGCTAATGA-1-s4d1',\n",
       "       ...\n",
       "       'GGTTGTACAGACCGCT-1-s1d3', 'CCTCTCCCACCCTATC-1-s1d3',\n",
       "       'GTCTAGACAGAGGTTG-1-s1d3', 'ACCTGTCTCACAGTGT-1-s1d3',\n",
       "       'TGGGATTAGCTAAGTA-1-s1d3', 'GTGGTTAGTCGAGTTT-1-s1d3',\n",
       "       'GCTACAACAGTGCGCT-1-s1d3', 'AACAAAGGTTGGTACT-1-s1d3',\n",
       "       'TGACAGTCATGGCTGC-1-s1d3', 'CTGGCAGGTCTCACGG-1-s1d3'],\n",
       "      dtype='object', length=80998)"
      ]
     },
     "execution_count": 26,
     "metadata": {},
     "output_type": "execute_result"
    }
   ],
   "source": [
    "adata_neurips.obs.index"
   ]
  },
  {
   "cell_type": "code",
   "execution_count": 27,
   "id": "e8a3f8fc",
   "metadata": {},
   "outputs": [
    {
     "data": {
      "text/html": [
       "<div>\n",
       "<style scoped>\n",
       "    .dataframe tbody tr th:only-of-type {\n",
       "        vertical-align: middle;\n",
       "    }\n",
       "\n",
       "    .dataframe tbody tr th {\n",
       "        vertical-align: top;\n",
       "    }\n",
       "\n",
       "    .dataframe thead th {\n",
       "        text-align: right;\n",
       "    }\n",
       "</style>\n",
       "<table border=\"1\" class=\"dataframe\">\n",
       "  <thead>\n",
       "    <tr style=\"text-align: right;\">\n",
       "      <th></th>\n",
       "      <th>Mouse-IgG1</th>\n",
       "      <th>Mouse-IgG2a</th>\n",
       "      <th>Mouse-IgG2b</th>\n",
       "      <th>Rat-IgG2b</th>\n",
       "      <th>Rat-IgG1</th>\n",
       "      <th>Rat-IgG2a</th>\n",
       "    </tr>\n",
       "  </thead>\n",
       "  <tbody>\n",
       "    <tr>\n",
       "      <th>GCATTAGCATAAGCGG-1-s1d1</th>\n",
       "      <td>0.154378</td>\n",
       "      <td>0.000000</td>\n",
       "      <td>0.000000</td>\n",
       "      <td>0.154378</td>\n",
       "      <td>0.405996</td>\n",
       "      <td>0.000000</td>\n",
       "    </tr>\n",
       "    <tr>\n",
       "      <th>TACAGGTGTTAGAGTA-1-s1d1</th>\n",
       "      <td>0.164562</td>\n",
       "      <td>0.272340</td>\n",
       "      <td>0.164562</td>\n",
       "      <td>0.085662</td>\n",
       "      <td>0.043748</td>\n",
       "      <td>0.125890</td>\n",
       "    </tr>\n",
       "    <tr>\n",
       "      <th>AGGATCTAGGTCTACT-1-s1d1</th>\n",
       "      <td>0.406494</td>\n",
       "      <td>0.406494</td>\n",
       "      <td>0.319296</td>\n",
       "      <td>0.000000</td>\n",
       "      <td>0.118126</td>\n",
       "      <td>0.000000</td>\n",
       "    </tr>\n",
       "    <tr>\n",
       "      <th>GTAGAAAGTGACACAG-1-s1d1</th>\n",
       "      <td>0.209837</td>\n",
       "      <td>0.209837</td>\n",
       "      <td>0.110412</td>\n",
       "      <td>0.110412</td>\n",
       "      <td>0.300264</td>\n",
       "      <td>0.000000</td>\n",
       "    </tr>\n",
       "    <tr>\n",
       "      <th>TCCGAAAAGGATCATA-1-s1d1</th>\n",
       "      <td>0.487043</td>\n",
       "      <td>0.918685</td>\n",
       "      <td>0.118227</td>\n",
       "      <td>0.223942</td>\n",
       "      <td>0.319543</td>\n",
       "      <td>0.118227</td>\n",
       "    </tr>\n",
       "    <tr>\n",
       "      <th>...</th>\n",
       "      <td>...</td>\n",
       "      <td>...</td>\n",
       "      <td>...</td>\n",
       "      <td>...</td>\n",
       "      <td>...</td>\n",
       "      <td>...</td>\n",
       "    </tr>\n",
       "    <tr>\n",
       "      <th>GAATCACCACGGAAGT-1-s4d9</th>\n",
       "      <td>0.340464</td>\n",
       "      <td>0.126809</td>\n",
       "      <td>0.340464</td>\n",
       "      <td>0.126809</td>\n",
       "      <td>0.126809</td>\n",
       "      <td>0.126809</td>\n",
       "    </tr>\n",
       "    <tr>\n",
       "      <th>GCTGGGTGTACGGATG-1-s4d9</th>\n",
       "      <td>0.565802</td>\n",
       "      <td>0.226035</td>\n",
       "      <td>0.410280</td>\n",
       "      <td>0.119390</td>\n",
       "      <td>0.119390</td>\n",
       "      <td>0.000000</td>\n",
       "    </tr>\n",
       "    <tr>\n",
       "      <th>TCGAAGTGTGACAGGT-1-s4d9</th>\n",
       "      <td>0.509506</td>\n",
       "      <td>0.321863</td>\n",
       "      <td>0.173826</td>\n",
       "      <td>0.000000</td>\n",
       "      <td>0.090685</td>\n",
       "      <td>0.000000</td>\n",
       "    </tr>\n",
       "    <tr>\n",
       "      <th>GCAGGCTGTTGCATAC-1-s4d9</th>\n",
       "      <td>0.197788</td>\n",
       "      <td>0.362841</td>\n",
       "      <td>0.197788</td>\n",
       "      <td>0.070366</td>\n",
       "      <td>0.070366</td>\n",
       "      <td>0.197788</td>\n",
       "    </tr>\n",
       "    <tr>\n",
       "      <th>ACGTAACAGGTCTACT-1-s4d9</th>\n",
       "      <td>0.110872</td>\n",
       "      <td>0.210670</td>\n",
       "      <td>0.210670</td>\n",
       "      <td>0.110872</td>\n",
       "      <td>0.301405</td>\n",
       "      <td>0.110872</td>\n",
       "    </tr>\n",
       "  </tbody>\n",
       "</table>\n",
       "<p>90261 rows × 6 columns</p>\n",
       "</div>"
      ],
      "text/plain": [
       "                         Mouse-IgG1  Mouse-IgG2a  Mouse-IgG2b  Rat-IgG2b  \\\n",
       "GCATTAGCATAAGCGG-1-s1d1    0.154378     0.000000     0.000000   0.154378   \n",
       "TACAGGTGTTAGAGTA-1-s1d1    0.164562     0.272340     0.164562   0.085662   \n",
       "AGGATCTAGGTCTACT-1-s1d1    0.406494     0.406494     0.319296   0.000000   \n",
       "GTAGAAAGTGACACAG-1-s1d1    0.209837     0.209837     0.110412   0.110412   \n",
       "TCCGAAAAGGATCATA-1-s1d1    0.487043     0.918685     0.118227   0.223942   \n",
       "...                             ...          ...          ...        ...   \n",
       "GAATCACCACGGAAGT-1-s4d9    0.340464     0.126809     0.340464   0.126809   \n",
       "GCTGGGTGTACGGATG-1-s4d9    0.565802     0.226035     0.410280   0.119390   \n",
       "TCGAAGTGTGACAGGT-1-s4d9    0.509506     0.321863     0.173826   0.000000   \n",
       "GCAGGCTGTTGCATAC-1-s4d9    0.197788     0.362841     0.197788   0.070366   \n",
       "ACGTAACAGGTCTACT-1-s4d9    0.110872     0.210670     0.210670   0.110872   \n",
       "\n",
       "                         Rat-IgG1  Rat-IgG2a  \n",
       "GCATTAGCATAAGCGG-1-s1d1  0.405996   0.000000  \n",
       "TACAGGTGTTAGAGTA-1-s1d1  0.043748   0.125890  \n",
       "AGGATCTAGGTCTACT-1-s1d1  0.118126   0.000000  \n",
       "GTAGAAAGTGACACAG-1-s1d1  0.300264   0.000000  \n",
       "TCCGAAAAGGATCATA-1-s1d1  0.319543   0.118227  \n",
       "...                           ...        ...  \n",
       "GAATCACCACGGAAGT-1-s4d9  0.126809   0.126809  \n",
       "GCTGGGTGTACGGATG-1-s4d9  0.119390   0.000000  \n",
       "TCGAAGTGTGACAGGT-1-s4d9  0.090685   0.000000  \n",
       "GCAGGCTGTTGCATAC-1-s4d9  0.070366   0.197788  \n",
       "ACGTAACAGGTCTACT-1-s4d9  0.301405   0.110872  \n",
       "\n",
       "[90261 rows x 6 columns]"
      ]
     },
     "execution_count": 27,
     "metadata": {},
     "output_type": "execute_result"
    }
   ],
   "source": [
    "ig_ab\n"
   ]
  },
  {
   "cell_type": "code",
   "execution_count": 28,
   "id": "ce1aa649",
   "metadata": {},
   "outputs": [
    {
     "data": {
      "text/plain": [
       "AnnData object with n_obs × n_vars = 80998 × 21720\n",
       "    obs: 'GEX_n_genes_by_counts', 'GEX_pct_counts_mt', 'GEX_size_factors', 'GEX_phase', 'ADT_n_antibodies_by_counts', 'ADT_total_counts', 'ADT_iso_count', 'cell_type', 'batch', 'ADT_pseudotime_order', 'GEX_pseudotime_order', 'Samplename', 'Site', 'DonorNumber', 'Modality', 'VendorLot', 'DonorID', 'DonorAge', 'DonorBMI', 'DonorBloodType', 'DonorRace', 'Ethnicity', 'DonorGender', 'QCMeds', 'DonorSmoker', 'is_train', 'n_genes', 'percent_mito', 'percent_ribo', 'n_counts', 'leiden_r2', 'leiden_r2_n_genes_MAD_diff', 'leiden_r2_n_counts_MAD_diff', 'leiden_r2_percent_mito_MAD_diff', 'filter', 'model_group', 'BATCH', 'POOL', 'SAMPLE_SET', 'SAMPLE_TYPE', 'SAMPLE_TISSUE', 'DIAGNOSIS', 'SUBTYPE', 'STATUS'\n",
       "    obsm: 'ADT_X_pca', 'ADT_X_umap', 'ADT_isotype_controls', 'GEX_X_pca', 'GEX_X_umap', 'X_pca', 'X_umap', 'protein_expression'\n",
       "    layers: 'counts'"
      ]
     },
     "execution_count": 28,
     "metadata": {},
     "output_type": "execute_result"
    }
   ],
   "source": [
    "adata_neurips.copy()"
   ]
  },
  {
   "cell_type": "code",
   "execution_count": 29,
   "id": "25e8365e",
   "metadata": {},
   "outputs": [],
   "source": [
    "selector = ig_ab.index.isin(adata_neurips.obs.index)"
   ]
  },
  {
   "cell_type": "code",
   "execution_count": 30,
   "id": "9225e798",
   "metadata": {},
   "outputs": [],
   "source": [
    "selected_df = ig_ab[selector]"
   ]
  },
  {
   "cell_type": "code",
   "execution_count": 31,
   "id": "2f4c1a7a",
   "metadata": {},
   "outputs": [
    {
     "data": {
      "text/html": [
       "<div>\n",
       "<style scoped>\n",
       "    .dataframe tbody tr th:only-of-type {\n",
       "        vertical-align: middle;\n",
       "    }\n",
       "\n",
       "    .dataframe tbody tr th {\n",
       "        vertical-align: top;\n",
       "    }\n",
       "\n",
       "    .dataframe thead th {\n",
       "        text-align: right;\n",
       "    }\n",
       "</style>\n",
       "<table border=\"1\" class=\"dataframe\">\n",
       "  <thead>\n",
       "    <tr style=\"text-align: right;\">\n",
       "      <th></th>\n",
       "      <th>Mouse-IgG1</th>\n",
       "      <th>Mouse-IgG2a</th>\n",
       "      <th>Mouse-IgG2b</th>\n",
       "      <th>Rat-IgG2b</th>\n",
       "      <th>Rat-IgG1</th>\n",
       "      <th>Rat-IgG2a</th>\n",
       "    </tr>\n",
       "  </thead>\n",
       "  <tbody>\n",
       "    <tr>\n",
       "      <th>TACAGGTGTTAGAGTA-1-s1d1</th>\n",
       "      <td>0.164562</td>\n",
       "      <td>0.272340</td>\n",
       "      <td>0.164562</td>\n",
       "      <td>0.085662</td>\n",
       "      <td>0.043748</td>\n",
       "      <td>0.125890</td>\n",
       "    </tr>\n",
       "    <tr>\n",
       "      <th>AGGATCTAGGTCTACT-1-s1d1</th>\n",
       "      <td>0.406494</td>\n",
       "      <td>0.406494</td>\n",
       "      <td>0.319296</td>\n",
       "      <td>0.000000</td>\n",
       "      <td>0.118126</td>\n",
       "      <td>0.000000</td>\n",
       "    </tr>\n",
       "    <tr>\n",
       "      <th>GTAGAAAGTGACACAG-1-s1d1</th>\n",
       "      <td>0.209837</td>\n",
       "      <td>0.209837</td>\n",
       "      <td>0.110412</td>\n",
       "      <td>0.110412</td>\n",
       "      <td>0.300264</td>\n",
       "      <td>0.000000</td>\n",
       "    </tr>\n",
       "    <tr>\n",
       "      <th>GACCAATCAATTTCGG-1-s1d1</th>\n",
       "      <td>0.154884</td>\n",
       "      <td>0.000000</td>\n",
       "      <td>0.407175</td>\n",
       "      <td>0.000000</td>\n",
       "      <td>0.000000</td>\n",
       "      <td>0.000000</td>\n",
       "    </tr>\n",
       "    <tr>\n",
       "      <th>TTCCGGTAGTTGTAAG-1-s1d1</th>\n",
       "      <td>0.130658</td>\n",
       "      <td>0.130658</td>\n",
       "      <td>0.045476</td>\n",
       "      <td>0.130658</td>\n",
       "      <td>0.000000</td>\n",
       "      <td>0.045476</td>\n",
       "    </tr>\n",
       "    <tr>\n",
       "      <th>...</th>\n",
       "      <td>...</td>\n",
       "      <td>...</td>\n",
       "      <td>...</td>\n",
       "      <td>...</td>\n",
       "      <td>...</td>\n",
       "      <td>...</td>\n",
       "    </tr>\n",
       "    <tr>\n",
       "      <th>GAATCACCACGGAAGT-1-s4d9</th>\n",
       "      <td>0.340464</td>\n",
       "      <td>0.126809</td>\n",
       "      <td>0.340464</td>\n",
       "      <td>0.126809</td>\n",
       "      <td>0.126809</td>\n",
       "      <td>0.126809</td>\n",
       "    </tr>\n",
       "    <tr>\n",
       "      <th>GCTGGGTGTACGGATG-1-s4d9</th>\n",
       "      <td>0.565802</td>\n",
       "      <td>0.226035</td>\n",
       "      <td>0.410280</td>\n",
       "      <td>0.119390</td>\n",
       "      <td>0.119390</td>\n",
       "      <td>0.000000</td>\n",
       "    </tr>\n",
       "    <tr>\n",
       "      <th>TCGAAGTGTGACAGGT-1-s4d9</th>\n",
       "      <td>0.509506</td>\n",
       "      <td>0.321863</td>\n",
       "      <td>0.173826</td>\n",
       "      <td>0.000000</td>\n",
       "      <td>0.090685</td>\n",
       "      <td>0.000000</td>\n",
       "    </tr>\n",
       "    <tr>\n",
       "      <th>GCAGGCTGTTGCATAC-1-s4d9</th>\n",
       "      <td>0.197788</td>\n",
       "      <td>0.362841</td>\n",
       "      <td>0.197788</td>\n",
       "      <td>0.070366</td>\n",
       "      <td>0.070366</td>\n",
       "      <td>0.197788</td>\n",
       "    </tr>\n",
       "    <tr>\n",
       "      <th>ACGTAACAGGTCTACT-1-s4d9</th>\n",
       "      <td>0.110872</td>\n",
       "      <td>0.210670</td>\n",
       "      <td>0.210670</td>\n",
       "      <td>0.110872</td>\n",
       "      <td>0.301405</td>\n",
       "      <td>0.110872</td>\n",
       "    </tr>\n",
       "  </tbody>\n",
       "</table>\n",
       "<p>80998 rows × 6 columns</p>\n",
       "</div>"
      ],
      "text/plain": [
       "                         Mouse-IgG1  Mouse-IgG2a  Mouse-IgG2b  Rat-IgG2b  \\\n",
       "TACAGGTGTTAGAGTA-1-s1d1    0.164562     0.272340     0.164562   0.085662   \n",
       "AGGATCTAGGTCTACT-1-s1d1    0.406494     0.406494     0.319296   0.000000   \n",
       "GTAGAAAGTGACACAG-1-s1d1    0.209837     0.209837     0.110412   0.110412   \n",
       "GACCAATCAATTTCGG-1-s1d1    0.154884     0.000000     0.407175   0.000000   \n",
       "TTCCGGTAGTTGTAAG-1-s1d1    0.130658     0.130658     0.045476   0.130658   \n",
       "...                             ...          ...          ...        ...   \n",
       "GAATCACCACGGAAGT-1-s4d9    0.340464     0.126809     0.340464   0.126809   \n",
       "GCTGGGTGTACGGATG-1-s4d9    0.565802     0.226035     0.410280   0.119390   \n",
       "TCGAAGTGTGACAGGT-1-s4d9    0.509506     0.321863     0.173826   0.000000   \n",
       "GCAGGCTGTTGCATAC-1-s4d9    0.197788     0.362841     0.197788   0.070366   \n",
       "ACGTAACAGGTCTACT-1-s4d9    0.110872     0.210670     0.210670   0.110872   \n",
       "\n",
       "                         Rat-IgG1  Rat-IgG2a  \n",
       "TACAGGTGTTAGAGTA-1-s1d1  0.043748   0.125890  \n",
       "AGGATCTAGGTCTACT-1-s1d1  0.118126   0.000000  \n",
       "GTAGAAAGTGACACAG-1-s1d1  0.300264   0.000000  \n",
       "GACCAATCAATTTCGG-1-s1d1  0.000000   0.000000  \n",
       "TTCCGGTAGTTGTAAG-1-s1d1  0.000000   0.045476  \n",
       "...                           ...        ...  \n",
       "GAATCACCACGGAAGT-1-s4d9  0.126809   0.126809  \n",
       "GCTGGGTGTACGGATG-1-s4d9  0.119390   0.000000  \n",
       "TCGAAGTGTGACAGGT-1-s4d9  0.090685   0.000000  \n",
       "GCAGGCTGTTGCATAC-1-s4d9  0.070366   0.197788  \n",
       "ACGTAACAGGTCTACT-1-s4d9  0.301405   0.110872  \n",
       "\n",
       "[80998 rows x 6 columns]"
      ]
     },
     "execution_count": 31,
     "metadata": {},
     "output_type": "execute_result"
    }
   ],
   "source": [
    "selected_df"
   ]
  },
  {
   "cell_type": "code",
   "execution_count": 32,
   "id": "d6b499e8",
   "metadata": {},
   "outputs": [],
   "source": [
    "adata_obs=adata_neurips.obs.copy()"
   ]
  },
  {
   "cell_type": "code",
   "execution_count": 33,
   "id": "fc038706",
   "metadata": {},
   "outputs": [],
   "source": [
    "adata_obs=pd.merge(adata_obs, selected_df, left_index=True, right_index=True)"
   ]
  },
  {
   "cell_type": "code",
   "execution_count": 34,
   "id": "a57f734b",
   "metadata": {},
   "outputs": [],
   "source": [
    "selected_df=adata_obs[selected_df.columns]"
   ]
  },
  {
   "cell_type": "code",
   "execution_count": 35,
   "id": "680b2920",
   "metadata": {},
   "outputs": [],
   "source": [
    "adata_neurips.obsm['ADT_isotype_controls'] = selected_df"
   ]
  },
  {
   "cell_type": "code",
   "execution_count": 36,
   "id": "127d9a9d",
   "metadata": {},
   "outputs": [
    {
     "data": {
      "text/plain": [
       "AxisArrays with keys: ADT_X_pca, ADT_X_umap, ADT_isotype_controls, GEX_X_pca, GEX_X_umap, X_pca, X_umap, protein_expression"
      ]
     },
     "execution_count": 36,
     "metadata": {},
     "output_type": "execute_result"
    }
   ],
   "source": [
    "adata_neurips.obsm"
   ]
  },
  {
   "cell_type": "code",
   "execution_count": 40,
   "id": "ba3a457b",
   "metadata": {},
   "outputs": [
    {
     "data": {
      "text/html": [
       "<div>\n",
       "<style scoped>\n",
       "    .dataframe tbody tr th:only-of-type {\n",
       "        vertical-align: middle;\n",
       "    }\n",
       "\n",
       "    .dataframe tbody tr th {\n",
       "        vertical-align: top;\n",
       "    }\n",
       "\n",
       "    .dataframe thead th {\n",
       "        text-align: right;\n",
       "    }\n",
       "</style>\n",
       "<table border=\"1\" class=\"dataframe\">\n",
       "  <thead>\n",
       "    <tr style=\"text-align: right;\">\n",
       "      <th></th>\n",
       "      <th>Mouse-IgG1</th>\n",
       "      <th>Mouse-IgG2a</th>\n",
       "      <th>Mouse-IgG2b</th>\n",
       "      <th>Rat-IgG2b</th>\n",
       "      <th>Rat-IgG1</th>\n",
       "      <th>Rat-IgG2a</th>\n",
       "    </tr>\n",
       "  </thead>\n",
       "  <tbody>\n",
       "    <tr>\n",
       "      <th>GTAGTACCAATCCTTT-1-s4d1</th>\n",
       "      <td>0.371773</td>\n",
       "      <td>0.415173</td>\n",
       "      <td>0.371773</td>\n",
       "      <td>0.062345</td>\n",
       "      <td>0.176460</td>\n",
       "      <td>0.228980</td>\n",
       "    </tr>\n",
       "    <tr>\n",
       "      <th>CTCAAGAGTCACAGAG-1-s4d1</th>\n",
       "      <td>0.825608</td>\n",
       "      <td>0.266617</td>\n",
       "      <td>0.312361</td>\n",
       "      <td>0.115305</td>\n",
       "      <td>0.266617</td>\n",
       "      <td>0.438237</td>\n",
       "    </tr>\n",
       "    <tr>\n",
       "      <th>CTGTGGGTCATGCGGC-1-s4d1</th>\n",
       "      <td>0.533398</td>\n",
       "      <td>0.162271</td>\n",
       "      <td>0.424311</td>\n",
       "      <td>0.301850</td>\n",
       "      <td>0.000000</td>\n",
       "      <td>0.424311</td>\n",
       "    </tr>\n",
       "    <tr>\n",
       "      <th>CGTGATAGTTATCTGG-1-s4d1</th>\n",
       "      <td>0.476004</td>\n",
       "      <td>0.626420</td>\n",
       "      <td>0.578752</td>\n",
       "      <td>0.000000</td>\n",
       "      <td>0.298889</td>\n",
       "      <td>0.160570</td>\n",
       "    </tr>\n",
       "    <tr>\n",
       "      <th>AGATCCAAGATCGGTG-1-s4d1</th>\n",
       "      <td>0.340203</td>\n",
       "      <td>0.340203</td>\n",
       "      <td>0.387147</td>\n",
       "      <td>0.065356</td>\n",
       "      <td>0.265379</td>\n",
       "      <td>0.156018</td>\n",
       "    </tr>\n",
       "    <tr>\n",
       "      <th>...</th>\n",
       "      <td>...</td>\n",
       "      <td>...</td>\n",
       "      <td>...</td>\n",
       "      <td>...</td>\n",
       "      <td>...</td>\n",
       "      <td>...</td>\n",
       "    </tr>\n",
       "    <tr>\n",
       "      <th>GTGGTTAGTCGAGTTT-1-s1d3</th>\n",
       "      <td>0.315857</td>\n",
       "      <td>0.170348</td>\n",
       "      <td>0.170348</td>\n",
       "      <td>0.170348</td>\n",
       "      <td>0.000000</td>\n",
       "      <td>0.170348</td>\n",
       "    </tr>\n",
       "    <tr>\n",
       "      <th>GCTACAACAGTGCGCT-1-s1d3</th>\n",
       "      <td>0.122104</td>\n",
       "      <td>0.000000</td>\n",
       "      <td>0.122104</td>\n",
       "      <td>0.122104</td>\n",
       "      <td>0.418373</td>\n",
       "      <td>0.122104</td>\n",
       "    </tr>\n",
       "    <tr>\n",
       "      <th>AACAAAGGTTGGTACT-1-s1d3</th>\n",
       "      <td>0.000000</td>\n",
       "      <td>0.000000</td>\n",
       "      <td>0.112242</td>\n",
       "      <td>0.112242</td>\n",
       "      <td>0.112242</td>\n",
       "      <td>0.112242</td>\n",
       "    </tr>\n",
       "    <tr>\n",
       "      <th>TGACAGTCATGGCTGC-1-s1d3</th>\n",
       "      <td>0.000000</td>\n",
       "      <td>0.120106</td>\n",
       "      <td>0.120106</td>\n",
       "      <td>0.000000</td>\n",
       "      <td>0.120106</td>\n",
       "      <td>0.000000</td>\n",
       "    </tr>\n",
       "    <tr>\n",
       "      <th>CTGGCAGGTCTCACGG-1-s1d3</th>\n",
       "      <td>0.284905</td>\n",
       "      <td>0.198652</td>\n",
       "      <td>0.437864</td>\n",
       "      <td>0.198652</td>\n",
       "      <td>0.000000</td>\n",
       "      <td>0.284905</td>\n",
       "    </tr>\n",
       "  </tbody>\n",
       "</table>\n",
       "<p>80998 rows × 6 columns</p>\n",
       "</div>"
      ],
      "text/plain": [
       "                         Mouse-IgG1  Mouse-IgG2a  Mouse-IgG2b  Rat-IgG2b  \\\n",
       "GTAGTACCAATCCTTT-1-s4d1    0.371773     0.415173     0.371773   0.062345   \n",
       "CTCAAGAGTCACAGAG-1-s4d1    0.825608     0.266617     0.312361   0.115305   \n",
       "CTGTGGGTCATGCGGC-1-s4d1    0.533398     0.162271     0.424311   0.301850   \n",
       "CGTGATAGTTATCTGG-1-s4d1    0.476004     0.626420     0.578752   0.000000   \n",
       "AGATCCAAGATCGGTG-1-s4d1    0.340203     0.340203     0.387147   0.065356   \n",
       "...                             ...          ...          ...        ...   \n",
       "GTGGTTAGTCGAGTTT-1-s1d3    0.315857     0.170348     0.170348   0.170348   \n",
       "GCTACAACAGTGCGCT-1-s1d3    0.122104     0.000000     0.122104   0.122104   \n",
       "AACAAAGGTTGGTACT-1-s1d3    0.000000     0.000000     0.112242   0.112242   \n",
       "TGACAGTCATGGCTGC-1-s1d3    0.000000     0.120106     0.120106   0.000000   \n",
       "CTGGCAGGTCTCACGG-1-s1d3    0.284905     0.198652     0.437864   0.198652   \n",
       "\n",
       "                         Rat-IgG1  Rat-IgG2a  \n",
       "GTAGTACCAATCCTTT-1-s4d1  0.176460   0.228980  \n",
       "CTCAAGAGTCACAGAG-1-s4d1  0.266617   0.438237  \n",
       "CTGTGGGTCATGCGGC-1-s4d1  0.000000   0.424311  \n",
       "CGTGATAGTTATCTGG-1-s4d1  0.298889   0.160570  \n",
       "AGATCCAAGATCGGTG-1-s4d1  0.265379   0.156018  \n",
       "...                           ...        ...  \n",
       "GTGGTTAGTCGAGTTT-1-s1d3  0.000000   0.170348  \n",
       "GCTACAACAGTGCGCT-1-s1d3  0.418373   0.122104  \n",
       "AACAAAGGTTGGTACT-1-s1d3  0.112242   0.112242  \n",
       "TGACAGTCATGGCTGC-1-s1d3  0.120106   0.000000  \n",
       "CTGGCAGGTCTCACGG-1-s1d3  0.000000   0.284905  \n",
       "\n",
       "[80998 rows x 6 columns]"
      ]
     },
     "execution_count": 40,
     "metadata": {},
     "output_type": "execute_result"
    }
   ],
   "source": [
    "adata_neurips.obsm['ADT_isotype_controls']"
   ]
  },
  {
   "cell_type": "code",
   "execution_count": 41,
   "id": "e373dc89",
   "metadata": {},
   "outputs": [],
   "source": [
    "#save the file!\n",
    "\n",
    "adata_neurips.write('/Users/tiinatuononen/Desktop/Thesis/Project/data/adata_neurips_norm_outer.h5ad')"
   ]
  },
  {
   "cell_type": "code",
   "execution_count": null,
   "id": "ab71b963",
   "metadata": {},
   "outputs": [],
   "source": []
  }
 ],
 "metadata": {
  "kernelspec": {
   "display_name": "tiina-env",
   "language": "python",
   "name": "tiina-env"
  },
  "language_info": {
   "codemirror_mode": {
    "name": "ipython",
    "version": 3
   },
   "file_extension": ".py",
   "mimetype": "text/x-python",
   "name": "python",
   "nbconvert_exporter": "python",
   "pygments_lexer": "ipython3",
   "version": "3.10.6"
  }
 },
 "nbformat": 4,
 "nbformat_minor": 5
}
