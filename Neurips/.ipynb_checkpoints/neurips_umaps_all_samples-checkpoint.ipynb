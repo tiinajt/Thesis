{
 "cells": [
  {
   "cell_type": "code",
   "execution_count": 37,
   "id": "44c0bb96",
   "metadata": {},
   "outputs": [],
   "source": [
    "import pandas as pd\n",
    "import numpy as np\n",
    "import matplotlib.pyplot as plt\n",
    "import seaborn as sns\n",
    "import anndata as ad\n",
    "import scvi\n",
    "import scanpy as sc\n",
    "import umap\n",
    "\n",
    "from ridgeplot import ridgeplot\n",
    "\n",
    "import warnings\n",
    "\n",
    "warnings.filterwarnings('ignore')\n",
    "\n"
   ]
  },
  {
   "cell_type": "code",
   "execution_count": 3,
   "id": "17d48ff6",
   "metadata": {},
   "outputs": [],
   "source": [
    "#Neurips\n",
    "\n",
    "adata_neurips = sc.read_h5ad('/Users/tiinatuononen/Desktop/Thesis/Project/data/adata_neurips_norm.h5ad')"
   ]
  },
  {
   "cell_type": "code",
   "execution_count": 4,
   "id": "7a97bb5e",
   "metadata": {},
   "outputs": [],
   "source": [
    "#Select only NK cells\n",
    "\n",
    "neurips_nk=adata_neurips[adata_neurips.obs['new_cell_type'] == 'NK' ]"
   ]
  },
  {
   "cell_type": "code",
   "execution_count": 5,
   "id": "f0d4efee",
   "metadata": {},
   "outputs": [],
   "source": [
    "neurips_nk_prot=neurips_nk.obsm['protein_expression_clr_neurips']"
   ]
  },
  {
   "cell_type": "code",
   "execution_count": 6,
   "id": "06fcca44",
   "metadata": {},
   "outputs": [],
   "source": [
    "#To exclude columns that contain only zeros\n",
    "\n",
    "neurips_nk_prot = pd.DataFrame(neurips_nk_prot)\n",
    "neurips_nk_prot != 0\n",
    "(neurips_nk_prot != 0).any(axis=0)\n",
    "neurips_nk_prot.loc[:, (neurips_nk_prot != 0).any(axis=0)]\n",
    "neurips_nk_prot = neurips_nk_prot.loc[:, (neurips_nk_prot != 0).any(axis=0)]"
   ]
  },
  {
   "cell_type": "code",
   "execution_count": 42,
   "id": "b7a6f55a",
   "metadata": {},
   "outputs": [
    {
     "data": {
      "text/plain": [
       "['s4d1',\n",
       " 's3d6',\n",
       " 's1d2',\n",
       " 's2d1',\n",
       " 's3d7',\n",
       " 's2d4',\n",
       " 's1d1',\n",
       " 's4d9',\n",
       " 's4d8',\n",
       " 's2d5',\n",
       " 's3d1',\n",
       " 's1d3']"
      ]
     },
     "execution_count": 42,
     "metadata": {},
     "output_type": "execute_result"
    }
   ],
   "source": [
    "samples=adata_neurips.obs['POOL'].unique().tolist()\n",
    "samples\n",
    "    "
   ]
  },
  {
   "cell_type": "code",
   "execution_count": 23,
   "id": "363004d3",
   "metadata": {},
   "outputs": [],
   "source": [
    "nk_immature = ['CD56']\n",
    "nk_activating= ['CD335', 'CD314', 'CD2', 'CD226']\n",
    "nk_maturation= ['CD57']"
   ]
  },
  {
   "cell_type": "code",
   "execution_count": 33,
   "id": "d6f959cf",
   "metadata": {},
   "outputs": [
    {
     "data": {
      "text/plain": [
       "AnnData object with n_obs × n_vars = 80998 × 8051\n",
       "    obs: 'cell_type', 'n_genes', 'percent_mito', 'percent_ribo', 'n_counts', 'leiden_r2', 'leiden_r2_n_genes_MAD_diff', 'leiden_r2_n_counts_MAD_diff', 'leiden_r2_percent_mito_MAD_diff', 'filter', 'model_group', 'BATCH', 'POOL', 'SAMPLE_SET', 'SAMPLE_TYPE', 'SAMPLE_TISSUE', 'DIAGNOSIS', 'SUBTYPE', 'STATUS', 'eg_code', 'leiden_r1', 'new_cell_type', 'batch_group'\n",
       "    uns: 'neighbors', 'new_cell_type_colors', 'umap'\n",
       "    obsm: 'X_pca', 'X_totalVI', 'X_umap', 'protein_expression', 'protein_expression_clr_neurips'\n",
       "    obsp: 'connectivities', 'distances'"
      ]
     },
     "execution_count": 33,
     "metadata": {},
     "output_type": "execute_result"
    }
   ],
   "source": [
    "adata_neurips.copy()"
   ]
  },
  {
   "cell_type": "code",
   "execution_count": 43,
   "id": "44f84288",
   "metadata": {},
   "outputs": [],
   "source": [
    "for sample in samples:\n",
    "    eg=adata_neurips[adata_neurips.obs['new_cell_type'] == 'NK']\n",
    "    eg=adata_neurips[adata_neurips.obs['POOL'] == sample]\n",
    "    prot=eg.obsm['protein_expression_clr_granja']\n",
    "    \n",
    "    a = eg.obs\n",
    "    b = prot\n",
    "\n",
    "    adata_eg=pd.concat([a, b], axis=1)\n",
    "    adata_eg.obs=adata_eg\n",
    "    sc.pl.umap(adata_nk, color = nk_immature, vmax=\"p99\", color_map = 'viridis', ncols=1)\n"
   ]
  },
  {
   "cell_type": "code",
   "execution_count": null,
   "id": "f03f4d60",
   "metadata": {},
   "outputs": [],
   "source": []
  },
  {
   "cell_type": "code",
   "execution_count": null,
   "id": "bfb6a601",
   "metadata": {},
   "outputs": [],
   "source": []
  }
 ],
 "metadata": {
  "kernelspec": {
   "display_name": "tiina-env",
   "language": "python",
   "name": "tiina-env"
  },
  "language_info": {
   "codemirror_mode": {
    "name": "ipython",
    "version": 3
   },
   "file_extension": ".py",
   "mimetype": "text/x-python",
   "name": "python",
   "nbconvert_exporter": "python",
   "pygments_lexer": "ipython3",
   "version": "3.10.6"
  }
 },
 "nbformat": 4,
 "nbformat_minor": 5
}
