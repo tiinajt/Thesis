{
 "cells": [
  {
   "cell_type": "markdown",
   "id": "290ae441",
   "metadata": {},
   "source": [
    "# UMAPs Neurips samples, NK cells"
   ]
  },
  {
   "cell_type": "code",
   "execution_count": 28,
   "id": "a3e0c4fa",
   "metadata": {},
   "outputs": [],
   "source": [
    "import pandas as pd\n",
    "import numpy as np\n",
    "import matplotlib.pyplot as plt\n",
    "import seaborn as sns\n",
    "import anndata as ad\n",
    "import scvi\n",
    "import scanpy as sc\n",
    "import umap\n",
    "\n",
    "from ridgeplot import ridgeplot\n",
    "\n",
    "import warnings\n",
    "\n",
    "warnings.filterwarnings('ignore')\n",
    "\n"
   ]
  },
  {
   "cell_type": "code",
   "execution_count": 29,
   "id": "51e5dc93",
   "metadata": {},
   "outputs": [],
   "source": [
    "#Easigenomics dataset, only one sample\n",
    "\n",
    "adata1 = sc.read_h5ad('/Users/tiinatuononen/Desktop/Thesis/Project/data/easi/EG49.h5ad')"
   ]
  },
  {
   "cell_type": "code",
   "execution_count": 30,
   "id": "973c36df",
   "metadata": {},
   "outputs": [],
   "source": [
    "adata = adata1.copy()"
   ]
  },
  {
   "cell_type": "code",
   "execution_count": 31,
   "id": "18aaff7c",
   "metadata": {},
   "outputs": [],
   "source": [
    "#wholeEasigenomics dataset\n",
    "\n",
    "adata_2 = sc.read_h5ad('/Users/tiinatuononen/Desktop/Thesis/Project/data/adata_easi_norm.h5ad')"
   ]
  },
  {
   "cell_type": "code",
   "execution_count": 32,
   "id": "4465aef1",
   "metadata": {},
   "outputs": [],
   "source": [
    "adata2 = adata_2.copy()"
   ]
  },
  {
   "cell_type": "code",
   "execution_count": 33,
   "id": "68c512a0",
   "metadata": {},
   "outputs": [
    {
     "data": {
      "text/html": [
       "<div>\n",
       "<style scoped>\n",
       "    .dataframe tbody tr th:only-of-type {\n",
       "        vertical-align: middle;\n",
       "    }\n",
       "\n",
       "    .dataframe tbody tr th {\n",
       "        vertical-align: top;\n",
       "    }\n",
       "\n",
       "    .dataframe thead th {\n",
       "        text-align: right;\n",
       "    }\n",
       "</style>\n",
       "<table border=\"1\" class=\"dataframe\">\n",
       "  <thead>\n",
       "    <tr style=\"text-align: right;\">\n",
       "      <th></th>\n",
       "      <th>CD19-1</th>\n",
       "      <th>CD10</th>\n",
       "      <th>CD20</th>\n",
       "      <th>CD3</th>\n",
       "      <th>CD2-1</th>\n",
       "      <th>CD11b</th>\n",
       "      <th>HLADR</th>\n",
       "      <th>CD38-1</th>\n",
       "      <th>CD11c</th>\n",
       "      <th>CD7-1</th>\n",
       "      <th>...</th>\n",
       "      <th>CD5-1</th>\n",
       "      <th>CD15</th>\n",
       "      <th>CD64</th>\n",
       "      <th>CD117</th>\n",
       "      <th>CD24</th>\n",
       "      <th>CD44-1</th>\n",
       "      <th>CD58-1</th>\n",
       "      <th>CD66ace</th>\n",
       "      <th>CD13</th>\n",
       "      <th>CD34-1</th>\n",
       "    </tr>\n",
       "  </thead>\n",
       "  <tbody>\n",
       "    <tr>\n",
       "      <th>AAACCTGCAAACCCAT-1</th>\n",
       "      <td>4.0</td>\n",
       "      <td>9.0</td>\n",
       "      <td>4.0</td>\n",
       "      <td>5.0</td>\n",
       "      <td>10.0</td>\n",
       "      <td>12.0</td>\n",
       "      <td>42.0</td>\n",
       "      <td>8.0</td>\n",
       "      <td>19.0</td>\n",
       "      <td>2.0</td>\n",
       "      <td>...</td>\n",
       "      <td>2.0</td>\n",
       "      <td>15.0</td>\n",
       "      <td>3.0</td>\n",
       "      <td>59.0</td>\n",
       "      <td>0.0</td>\n",
       "      <td>149.0</td>\n",
       "      <td>151.0</td>\n",
       "      <td>4.0</td>\n",
       "      <td>0.0</td>\n",
       "      <td>48.0</td>\n",
       "    </tr>\n",
       "    <tr>\n",
       "      <th>AAACCTGCATGTCTCC-1</th>\n",
       "      <td>19.0</td>\n",
       "      <td>18.0</td>\n",
       "      <td>17.0</td>\n",
       "      <td>6.0</td>\n",
       "      <td>26.0</td>\n",
       "      <td>23.0</td>\n",
       "      <td>19.0</td>\n",
       "      <td>27.0</td>\n",
       "      <td>30.0</td>\n",
       "      <td>8.0</td>\n",
       "      <td>...</td>\n",
       "      <td>10.0</td>\n",
       "      <td>30.0</td>\n",
       "      <td>9.0</td>\n",
       "      <td>11.0</td>\n",
       "      <td>7.0</td>\n",
       "      <td>58.0</td>\n",
       "      <td>244.0</td>\n",
       "      <td>13.0</td>\n",
       "      <td>9.0</td>\n",
       "      <td>27.0</td>\n",
       "    </tr>\n",
       "    <tr>\n",
       "      <th>AAACCTGGTACATCCA-1</th>\n",
       "      <td>34.0</td>\n",
       "      <td>42.0</td>\n",
       "      <td>25.0</td>\n",
       "      <td>10.0</td>\n",
       "      <td>56.0</td>\n",
       "      <td>27.0</td>\n",
       "      <td>43.0</td>\n",
       "      <td>26.0</td>\n",
       "      <td>75.0</td>\n",
       "      <td>15.0</td>\n",
       "      <td>...</td>\n",
       "      <td>14.0</td>\n",
       "      <td>51.0</td>\n",
       "      <td>9.0</td>\n",
       "      <td>82.0</td>\n",
       "      <td>13.0</td>\n",
       "      <td>705.0</td>\n",
       "      <td>449.0</td>\n",
       "      <td>23.0</td>\n",
       "      <td>11.0</td>\n",
       "      <td>90.0</td>\n",
       "    </tr>\n",
       "    <tr>\n",
       "      <th>AAACCTGGTCTTGATG-1</th>\n",
       "      <td>20.0</td>\n",
       "      <td>20.0</td>\n",
       "      <td>15.0</td>\n",
       "      <td>8.0</td>\n",
       "      <td>23.0</td>\n",
       "      <td>16.0</td>\n",
       "      <td>37.0</td>\n",
       "      <td>12.0</td>\n",
       "      <td>75.0</td>\n",
       "      <td>13.0</td>\n",
       "      <td>...</td>\n",
       "      <td>7.0</td>\n",
       "      <td>31.0</td>\n",
       "      <td>8.0</td>\n",
       "      <td>52.0</td>\n",
       "      <td>2.0</td>\n",
       "      <td>588.0</td>\n",
       "      <td>123.0</td>\n",
       "      <td>22.0</td>\n",
       "      <td>7.0</td>\n",
       "      <td>24.0</td>\n",
       "    </tr>\n",
       "    <tr>\n",
       "      <th>AAACGGGAGCTCCTCT-1</th>\n",
       "      <td>16.0</td>\n",
       "      <td>23.0</td>\n",
       "      <td>11.0</td>\n",
       "      <td>8.0</td>\n",
       "      <td>22.0</td>\n",
       "      <td>22.0</td>\n",
       "      <td>91.0</td>\n",
       "      <td>18.0</td>\n",
       "      <td>19.0</td>\n",
       "      <td>18.0</td>\n",
       "      <td>...</td>\n",
       "      <td>8.0</td>\n",
       "      <td>31.0</td>\n",
       "      <td>3.0</td>\n",
       "      <td>38.0</td>\n",
       "      <td>3.0</td>\n",
       "      <td>612.0</td>\n",
       "      <td>163.0</td>\n",
       "      <td>13.0</td>\n",
       "      <td>9.0</td>\n",
       "      <td>68.0</td>\n",
       "    </tr>\n",
       "    <tr>\n",
       "      <th>...</th>\n",
       "      <td>...</td>\n",
       "      <td>...</td>\n",
       "      <td>...</td>\n",
       "      <td>...</td>\n",
       "      <td>...</td>\n",
       "      <td>...</td>\n",
       "      <td>...</td>\n",
       "      <td>...</td>\n",
       "      <td>...</td>\n",
       "      <td>...</td>\n",
       "      <td>...</td>\n",
       "      <td>...</td>\n",
       "      <td>...</td>\n",
       "      <td>...</td>\n",
       "      <td>...</td>\n",
       "      <td>...</td>\n",
       "      <td>...</td>\n",
       "      <td>...</td>\n",
       "      <td>...</td>\n",
       "      <td>...</td>\n",
       "      <td>...</td>\n",
       "    </tr>\n",
       "    <tr>\n",
       "      <th>TTTGGTTTCGGCTTGG-1</th>\n",
       "      <td>25.0</td>\n",
       "      <td>13.0</td>\n",
       "      <td>17.0</td>\n",
       "      <td>2.0</td>\n",
       "      <td>20.0</td>\n",
       "      <td>14.0</td>\n",
       "      <td>57.0</td>\n",
       "      <td>22.0</td>\n",
       "      <td>25.0</td>\n",
       "      <td>16.0</td>\n",
       "      <td>...</td>\n",
       "      <td>7.0</td>\n",
       "      <td>36.0</td>\n",
       "      <td>6.0</td>\n",
       "      <td>41.0</td>\n",
       "      <td>6.0</td>\n",
       "      <td>300.0</td>\n",
       "      <td>95.0</td>\n",
       "      <td>9.0</td>\n",
       "      <td>7.0</td>\n",
       "      <td>60.0</td>\n",
       "    </tr>\n",
       "    <tr>\n",
       "      <th>TTTGGTTTCTATCGCC-1</th>\n",
       "      <td>14.0</td>\n",
       "      <td>16.0</td>\n",
       "      <td>16.0</td>\n",
       "      <td>10.0</td>\n",
       "      <td>30.0</td>\n",
       "      <td>21.0</td>\n",
       "      <td>58.0</td>\n",
       "      <td>12.0</td>\n",
       "      <td>25.0</td>\n",
       "      <td>9.0</td>\n",
       "      <td>...</td>\n",
       "      <td>8.0</td>\n",
       "      <td>33.0</td>\n",
       "      <td>12.0</td>\n",
       "      <td>23.0</td>\n",
       "      <td>6.0</td>\n",
       "      <td>163.0</td>\n",
       "      <td>148.0</td>\n",
       "      <td>12.0</td>\n",
       "      <td>8.0</td>\n",
       "      <td>143.0</td>\n",
       "    </tr>\n",
       "    <tr>\n",
       "      <th>TTTGTCAAGAAGAAGC-1</th>\n",
       "      <td>14.0</td>\n",
       "      <td>19.0</td>\n",
       "      <td>11.0</td>\n",
       "      <td>8.0</td>\n",
       "      <td>23.0</td>\n",
       "      <td>15.0</td>\n",
       "      <td>105.0</td>\n",
       "      <td>17.0</td>\n",
       "      <td>30.0</td>\n",
       "      <td>5.0</td>\n",
       "      <td>...</td>\n",
       "      <td>8.0</td>\n",
       "      <td>48.0</td>\n",
       "      <td>9.0</td>\n",
       "      <td>113.0</td>\n",
       "      <td>5.0</td>\n",
       "      <td>146.0</td>\n",
       "      <td>423.0</td>\n",
       "      <td>7.0</td>\n",
       "      <td>2.0</td>\n",
       "      <td>23.0</td>\n",
       "    </tr>\n",
       "    <tr>\n",
       "      <th>TTTGTCACAGTTAACC-1</th>\n",
       "      <td>15.0</td>\n",
       "      <td>16.0</td>\n",
       "      <td>20.0</td>\n",
       "      <td>13.0</td>\n",
       "      <td>23.0</td>\n",
       "      <td>23.0</td>\n",
       "      <td>54.0</td>\n",
       "      <td>9.0</td>\n",
       "      <td>27.0</td>\n",
       "      <td>10.0</td>\n",
       "      <td>...</td>\n",
       "      <td>13.0</td>\n",
       "      <td>35.0</td>\n",
       "      <td>4.0</td>\n",
       "      <td>100.0</td>\n",
       "      <td>5.0</td>\n",
       "      <td>293.0</td>\n",
       "      <td>499.0</td>\n",
       "      <td>9.0</td>\n",
       "      <td>10.0</td>\n",
       "      <td>131.0</td>\n",
       "    </tr>\n",
       "    <tr>\n",
       "      <th>TTTGTCATCCAGAGGA-1</th>\n",
       "      <td>42.0</td>\n",
       "      <td>36.0</td>\n",
       "      <td>28.0</td>\n",
       "      <td>21.0</td>\n",
       "      <td>50.0</td>\n",
       "      <td>211.0</td>\n",
       "      <td>308.0</td>\n",
       "      <td>33.0</td>\n",
       "      <td>128.0</td>\n",
       "      <td>21.0</td>\n",
       "      <td>...</td>\n",
       "      <td>26.0</td>\n",
       "      <td>80.0</td>\n",
       "      <td>103.0</td>\n",
       "      <td>25.0</td>\n",
       "      <td>9.0</td>\n",
       "      <td>623.0</td>\n",
       "      <td>273.0</td>\n",
       "      <td>32.0</td>\n",
       "      <td>12.0</td>\n",
       "      <td>45.0</td>\n",
       "    </tr>\n",
       "  </tbody>\n",
       "</table>\n",
       "<p>2111 rows × 33 columns</p>\n",
       "</div>"
      ],
      "text/plain": [
       "                    CD19-1  CD10  CD20   CD3  CD2-1  CD11b  HLADR  CD38-1  \\\n",
       "AAACCTGCAAACCCAT-1     4.0   9.0   4.0   5.0   10.0   12.0   42.0     8.0   \n",
       "AAACCTGCATGTCTCC-1    19.0  18.0  17.0   6.0   26.0   23.0   19.0    27.0   \n",
       "AAACCTGGTACATCCA-1    34.0  42.0  25.0  10.0   56.0   27.0   43.0    26.0   \n",
       "AAACCTGGTCTTGATG-1    20.0  20.0  15.0   8.0   23.0   16.0   37.0    12.0   \n",
       "AAACGGGAGCTCCTCT-1    16.0  23.0  11.0   8.0   22.0   22.0   91.0    18.0   \n",
       "...                    ...   ...   ...   ...    ...    ...    ...     ...   \n",
       "TTTGGTTTCGGCTTGG-1    25.0  13.0  17.0   2.0   20.0   14.0   57.0    22.0   \n",
       "TTTGGTTTCTATCGCC-1    14.0  16.0  16.0  10.0   30.0   21.0   58.0    12.0   \n",
       "TTTGTCAAGAAGAAGC-1    14.0  19.0  11.0   8.0   23.0   15.0  105.0    17.0   \n",
       "TTTGTCACAGTTAACC-1    15.0  16.0  20.0  13.0   23.0   23.0   54.0     9.0   \n",
       "TTTGTCATCCAGAGGA-1    42.0  36.0  28.0  21.0   50.0  211.0  308.0    33.0   \n",
       "\n",
       "                    CD11c  CD7-1  ...  CD5-1  CD15   CD64  CD117  CD24  \\\n",
       "AAACCTGCAAACCCAT-1   19.0    2.0  ...    2.0  15.0    3.0   59.0   0.0   \n",
       "AAACCTGCATGTCTCC-1   30.0    8.0  ...   10.0  30.0    9.0   11.0   7.0   \n",
       "AAACCTGGTACATCCA-1   75.0   15.0  ...   14.0  51.0    9.0   82.0  13.0   \n",
       "AAACCTGGTCTTGATG-1   75.0   13.0  ...    7.0  31.0    8.0   52.0   2.0   \n",
       "AAACGGGAGCTCCTCT-1   19.0   18.0  ...    8.0  31.0    3.0   38.0   3.0   \n",
       "...                   ...    ...  ...    ...   ...    ...    ...   ...   \n",
       "TTTGGTTTCGGCTTGG-1   25.0   16.0  ...    7.0  36.0    6.0   41.0   6.0   \n",
       "TTTGGTTTCTATCGCC-1   25.0    9.0  ...    8.0  33.0   12.0   23.0   6.0   \n",
       "TTTGTCAAGAAGAAGC-1   30.0    5.0  ...    8.0  48.0    9.0  113.0   5.0   \n",
       "TTTGTCACAGTTAACC-1   27.0   10.0  ...   13.0  35.0    4.0  100.0   5.0   \n",
       "TTTGTCATCCAGAGGA-1  128.0   21.0  ...   26.0  80.0  103.0   25.0   9.0   \n",
       "\n",
       "                    CD44-1  CD58-1  CD66ace  CD13  CD34-1  \n",
       "AAACCTGCAAACCCAT-1   149.0   151.0      4.0   0.0    48.0  \n",
       "AAACCTGCATGTCTCC-1    58.0   244.0     13.0   9.0    27.0  \n",
       "AAACCTGGTACATCCA-1   705.0   449.0     23.0  11.0    90.0  \n",
       "AAACCTGGTCTTGATG-1   588.0   123.0     22.0   7.0    24.0  \n",
       "AAACGGGAGCTCCTCT-1   612.0   163.0     13.0   9.0    68.0  \n",
       "...                    ...     ...      ...   ...     ...  \n",
       "TTTGGTTTCGGCTTGG-1   300.0    95.0      9.0   7.0    60.0  \n",
       "TTTGGTTTCTATCGCC-1   163.0   148.0     12.0   8.0   143.0  \n",
       "TTTGTCAAGAAGAAGC-1   146.0   423.0      7.0   2.0    23.0  \n",
       "TTTGTCACAGTTAACC-1   293.0   499.0      9.0  10.0   131.0  \n",
       "TTTGTCATCCAGAGGA-1   623.0   273.0     32.0  12.0    45.0  \n",
       "\n",
       "[2111 rows x 33 columns]"
      ]
     },
     "execution_count": 33,
     "metadata": {},
     "output_type": "execute_result"
    }
   ],
   "source": [
    "adata.obsm['protein_expression']"
   ]
  },
  {
   "cell_type": "code",
   "execution_count": 34,
   "id": "a6a1f0ba",
   "metadata": {},
   "outputs": [
    {
     "data": {
      "text/plain": [
       "AnnData object with n_obs × n_vars = 121340 × 8051\n",
       "    obs: 'cell_type', 'n_genes', 'percent_mito', 'percent_ribo', 'n_counts', 'leiden_r2', 'leiden_r2_n_genes_MAD_diff', 'leiden_r2_n_counts_MAD_diff', 'leiden_r2_percent_mito_MAD_diff', 'filter', 'model_group', 'BATCH', 'POOL', 'SAMPLE_SET', 'SAMPLE_TYPE', 'SAMPLE_TISSUE', 'DIAGNOSIS', 'SUBTYPE', 'STATUS', 'eg_code', 'leiden_r1', 'new_cell_type', 'batch_group'\n",
       "    uns: 'neighbors', 'new_cell_type_colors', 'umap'\n",
       "    obsm: 'X_pca', 'X_totalVI', 'X_umap', 'protein_expression', 'protein_expression_clr', 'protein_expression_dsb'\n",
       "    obsp: 'connectivities', 'distances'"
      ]
     },
     "execution_count": 34,
     "metadata": {},
     "output_type": "execute_result"
    }
   ],
   "source": [
    "adata2"
   ]
  },
  {
   "cell_type": "code",
   "execution_count": 35,
   "id": "15a5da3c",
   "metadata": {},
   "outputs": [
    {
     "data": {
      "text/plain": [
       "(2111, 8051)"
      ]
     },
     "execution_count": 35,
     "metadata": {},
     "output_type": "execute_result"
    }
   ],
   "source": [
    "adata_norm = adata2[adata2.obs[\"eg_code\"] == 'EG49']\n",
    "\n",
    "adata_norm.shape"
   ]
  },
  {
   "cell_type": "code",
   "execution_count": 36,
   "id": "678c87b4",
   "metadata": {},
   "outputs": [
    {
     "data": {
      "text/plain": [
       "Index(['AAACCTGCAAACCCAT-1-116', 'AAACCTGCATGTCTCC-1-116',\n",
       "       'AAACCTGGTACATCCA-1-116', 'AAACCTGGTCTTGATG-1-116',\n",
       "       'AAACGGGAGCTCCTCT-1-116', 'AAACGGGAGGCCCTTG-1-116',\n",
       "       'AAACGGGCAAGCTGGA-1-116', 'AAACGGGCAATAAGCA-1-116',\n",
       "       'AAACGGGGTCCGAAGA-1-116', 'AAACGGGTCACTTACT-1-116',\n",
       "       ...\n",
       "       'TTTGCGCTCTAGAGTC-1-116', 'TTTGCGCTCTGAGGGA-1-116',\n",
       "       'TTTGGTTAGTGTCCCG-1-116', 'TTTGGTTGTCCCTACT-1-116',\n",
       "       'TTTGGTTGTCTAGTCA-1-116', 'TTTGGTTTCGGCTTGG-1-116',\n",
       "       'TTTGGTTTCTATCGCC-1-116', 'TTTGTCAAGAAGAAGC-1-116',\n",
       "       'TTTGTCACAGTTAACC-1-116', 'TTTGTCATCCAGAGGA-1-116'],\n",
       "      dtype='object', length=2111)"
      ]
     },
     "execution_count": 36,
     "metadata": {},
     "output_type": "execute_result"
    }
   ],
   "source": [
    "adata_norm.obs.index"
   ]
  },
  {
   "cell_type": "code",
   "execution_count": 37,
   "id": "948fee9e",
   "metadata": {},
   "outputs": [
    {
     "data": {
      "text/plain": [
       "Index(['AAACCTGCAAACCCAT-1', 'AAACCTGCATGTCTCC-1', 'AAACCTGGTACATCCA-1',\n",
       "       'AAACCTGGTCTTGATG-1', 'AAACGGGAGCTCCTCT-1', 'AAACGGGAGGCCCTTG-1',\n",
       "       'AAACGGGCAAGCTGGA-1', 'AAACGGGCAATAAGCA-1', 'AAACGGGGTCCGAAGA-1',\n",
       "       'AAACGGGTCACTTACT-1',\n",
       "       ...\n",
       "       'TTTGCGCTCTAGAGTC-1', 'TTTGCGCTCTGAGGGA-1', 'TTTGGTTAGTGTCCCG-1',\n",
       "       'TTTGGTTGTCCCTACT-1', 'TTTGGTTGTCTAGTCA-1', 'TTTGGTTTCGGCTTGG-1',\n",
       "       'TTTGGTTTCTATCGCC-1', 'TTTGTCAAGAAGAAGC-1', 'TTTGTCACAGTTAACC-1',\n",
       "       'TTTGTCATCCAGAGGA-1'],\n",
       "      dtype='object', length=2111)"
      ]
     },
     "execution_count": 37,
     "metadata": {},
     "output_type": "execute_result"
    }
   ],
   "source": [
    "adata.obs.index"
   ]
  },
  {
   "cell_type": "code",
   "execution_count": null,
   "id": "1dbb6fae",
   "metadata": {},
   "outputs": [],
   "source": []
  },
  {
   "cell_type": "markdown",
   "id": "317dd712",
   "metadata": {},
   "source": [
    "## Adding normalized protein + fixing indexes"
   ]
  },
  {
   "cell_type": "code",
   "execution_count": 38,
   "id": "4d22f605",
   "metadata": {},
   "outputs": [
    {
     "data": {
      "text/plain": [
       "AnnData object with n_obs × n_vars = 2111 × 14711\n",
       "    obs: 'EG_code', 'leiden_r1', 'n_genes', 'percent_mito', 'percent_ribo', 'n_counts', 'leiden_r1_n_genes_MAD_diff', 'leiden_r1_n_counts_MAD_diff', 'leiden_r1_percent_mito_MAD_diff', 'filter'\n",
       "    var: 'gene_ids', 'feature_types', 'n_cells', 'highly_variable', 'means', 'dispersions', 'dispersions_norm'\n",
       "    uns: 'hvg', 'leiden_r1_colors', 'log1p', 'neighbors', 'pca', 'umap'\n",
       "    obsm: 'X_pca', 'X_umap', 'protein_expression'\n",
       "    varm: 'PCs'\n",
       "    obsp: 'connectivities', 'distances'"
      ]
     },
     "execution_count": 38,
     "metadata": {},
     "output_type": "execute_result"
    }
   ],
   "source": [
    "adata"
   ]
  },
  {
   "cell_type": "code",
   "execution_count": 39,
   "id": "72df7961",
   "metadata": {},
   "outputs": [
    {
     "data": {
      "text/plain": [
       "View of AnnData object with n_obs × n_vars = 2111 × 8051\n",
       "    obs: 'cell_type', 'n_genes', 'percent_mito', 'percent_ribo', 'n_counts', 'leiden_r2', 'leiden_r2_n_genes_MAD_diff', 'leiden_r2_n_counts_MAD_diff', 'leiden_r2_percent_mito_MAD_diff', 'filter', 'model_group', 'BATCH', 'POOL', 'SAMPLE_SET', 'SAMPLE_TYPE', 'SAMPLE_TISSUE', 'DIAGNOSIS', 'SUBTYPE', 'STATUS', 'eg_code', 'leiden_r1', 'new_cell_type', 'batch_group'\n",
       "    uns: 'neighbors', 'new_cell_type_colors', 'umap'\n",
       "    obsm: 'X_pca', 'X_totalVI', 'X_umap', 'protein_expression', 'protein_expression_clr', 'protein_expression_dsb'\n",
       "    obsp: 'connectivities', 'distances'"
      ]
     },
     "execution_count": 39,
     "metadata": {},
     "output_type": "execute_result"
    }
   ],
   "source": [
    "#protein info from adata_norm to adata with maching indexes\n",
    "adata_norm"
   ]
  },
  {
   "cell_type": "code",
   "execution_count": 40,
   "id": "10455ac0",
   "metadata": {},
   "outputs": [
    {
     "data": {
      "text/plain": [
       "['EG49']"
      ]
     },
     "execution_count": 40,
     "metadata": {},
     "output_type": "execute_result"
    }
   ],
   "source": [
    "eg_list=adata.obs[\"EG_code\"].unique().tolist()\n",
    "\n",
    "eg_list"
   ]
  },
  {
   "cell_type": "code",
   "execution_count": 41,
   "id": "67b6eaed",
   "metadata": {},
   "outputs": [],
   "source": [
    "result = None\n",
    "\n",
    "for eg in eg_list:\n",
    "    try:\n",
    "        tail = adata_norm.obs[adata_norm.obs[\"eg_code\"] == eg].index[0][-4:]\n",
    "        new_index=adata.obs[adata.obs[\"EG_code\"] == eg].index+tail\n",
    "        if result is None:\n",
    "            result=new_index.tolist()\n",
    "        else:\n",
    "            result+=(new_index.tolist())\n",
    "    except:\n",
    "        new_index=adata_norm.obs[adata_norm.obs[\"eg_code\"] == eg].index\n",
    "        result+=(new_index.tolist())"
   ]
  },
  {
   "cell_type": "code",
   "execution_count": 42,
   "id": "0c001e46",
   "metadata": {},
   "outputs": [
    {
     "data": {
      "text/plain": [
       "Index(['AAACCTGCAAACCCAT-1-116', 'AAACCTGCATGTCTCC-1-116',\n",
       "       'AAACCTGGTACATCCA-1-116', 'AAACCTGGTCTTGATG-1-116',\n",
       "       'AAACGGGAGCTCCTCT-1-116', 'AAACGGGAGGCCCTTG-1-116',\n",
       "       'AAACGGGCAAGCTGGA-1-116', 'AAACGGGCAATAAGCA-1-116',\n",
       "       'AAACGGGGTCCGAAGA-1-116', 'AAACGGGTCACTTACT-1-116',\n",
       "       ...\n",
       "       'TTTGCGCTCTAGAGTC-1-116', 'TTTGCGCTCTGAGGGA-1-116',\n",
       "       'TTTGGTTAGTGTCCCG-1-116', 'TTTGGTTGTCCCTACT-1-116',\n",
       "       'TTTGGTTGTCTAGTCA-1-116', 'TTTGGTTTCGGCTTGG-1-116',\n",
       "       'TTTGGTTTCTATCGCC-1-116', 'TTTGTCAAGAAGAAGC-1-116',\n",
       "       'TTTGTCACAGTTAACC-1-116', 'TTTGTCATCCAGAGGA-1-116'],\n",
       "      dtype='object', length=2111)"
      ]
     },
     "execution_count": 42,
     "metadata": {},
     "output_type": "execute_result"
    }
   ],
   "source": [
    "adata_norm.obs.index"
   ]
  },
  {
   "cell_type": "code",
   "execution_count": 43,
   "id": "550a9178",
   "metadata": {},
   "outputs": [
    {
     "data": {
      "text/plain": [
       "Index(['AAACCTGCAAACCCAT-1', 'AAACCTGCATGTCTCC-1', 'AAACCTGGTACATCCA-1',\n",
       "       'AAACCTGGTCTTGATG-1', 'AAACGGGAGCTCCTCT-1', 'AAACGGGAGGCCCTTG-1',\n",
       "       'AAACGGGCAAGCTGGA-1', 'AAACGGGCAATAAGCA-1', 'AAACGGGGTCCGAAGA-1',\n",
       "       'AAACGGGTCACTTACT-1',\n",
       "       ...\n",
       "       'TTTGCGCTCTAGAGTC-1', 'TTTGCGCTCTGAGGGA-1', 'TTTGGTTAGTGTCCCG-1',\n",
       "       'TTTGGTTGTCCCTACT-1', 'TTTGGTTGTCTAGTCA-1', 'TTTGGTTTCGGCTTGG-1',\n",
       "       'TTTGGTTTCTATCGCC-1', 'TTTGTCAAGAAGAAGC-1', 'TTTGTCACAGTTAACC-1',\n",
       "       'TTTGTCATCCAGAGGA-1'],\n",
       "      dtype='object', length=2111)"
      ]
     },
     "execution_count": 43,
     "metadata": {},
     "output_type": "execute_result"
    }
   ],
   "source": [
    "adata.obs.index"
   ]
  },
  {
   "cell_type": "code",
   "execution_count": 44,
   "id": "7e4cec5e",
   "metadata": {},
   "outputs": [],
   "source": [
    "adata.obs.index=pd.Index(result)"
   ]
  },
  {
   "cell_type": "code",
   "execution_count": 45,
   "id": "8ca034c3",
   "metadata": {},
   "outputs": [
    {
     "data": {
      "text/plain": [
       "Index(['AAACCTGCAAACCCAT-1-116', 'AAACCTGCATGTCTCC-1-116',\n",
       "       'AAACCTGGTACATCCA-1-116', 'AAACCTGGTCTTGATG-1-116',\n",
       "       'AAACGGGAGCTCCTCT-1-116', 'AAACGGGAGGCCCTTG-1-116',\n",
       "       'AAACGGGCAAGCTGGA-1-116', 'AAACGGGCAATAAGCA-1-116',\n",
       "       'AAACGGGGTCCGAAGA-1-116', 'AAACGGGTCACTTACT-1-116',\n",
       "       ...\n",
       "       'TTTGCGCTCTAGAGTC-1-116', 'TTTGCGCTCTGAGGGA-1-116',\n",
       "       'TTTGGTTAGTGTCCCG-1-116', 'TTTGGTTGTCCCTACT-1-116',\n",
       "       'TTTGGTTGTCTAGTCA-1-116', 'TTTGGTTTCGGCTTGG-1-116',\n",
       "       'TTTGGTTTCTATCGCC-1-116', 'TTTGTCAAGAAGAAGC-1-116',\n",
       "       'TTTGTCACAGTTAACC-1-116', 'TTTGTCATCCAGAGGA-1-116'],\n",
       "      dtype='object', length=2111)"
      ]
     },
     "execution_count": 45,
     "metadata": {},
     "output_type": "execute_result"
    }
   ],
   "source": [
    "adata.obs.index"
   ]
  },
  {
   "cell_type": "code",
   "execution_count": 46,
   "id": "5bb58169",
   "metadata": {},
   "outputs": [
    {
     "data": {
      "text/plain": [
       "0"
      ]
     },
     "execution_count": 46,
     "metadata": {},
     "output_type": "execute_result"
    }
   ],
   "source": [
    "#all indexes the same\n",
    "\n",
    "(~(adata.obs.index == adata_norm.obs.index)).sum()"
   ]
  },
  {
   "cell_type": "code",
   "execution_count": 47,
   "id": "15cd56b7",
   "metadata": {},
   "outputs": [
    {
     "data": {
      "text/plain": [
       "View of AnnData object with n_obs × n_vars = 2111 × 8051\n",
       "    obs: 'cell_type', 'n_genes', 'percent_mito', 'percent_ribo', 'n_counts', 'leiden_r2', 'leiden_r2_n_genes_MAD_diff', 'leiden_r2_n_counts_MAD_diff', 'leiden_r2_percent_mito_MAD_diff', 'filter', 'model_group', 'BATCH', 'POOL', 'SAMPLE_SET', 'SAMPLE_TYPE', 'SAMPLE_TISSUE', 'DIAGNOSIS', 'SUBTYPE', 'STATUS', 'eg_code', 'leiden_r1', 'new_cell_type', 'batch_group'\n",
       "    uns: 'neighbors', 'new_cell_type_colors', 'umap'\n",
       "    obsm: 'X_pca', 'X_totalVI', 'X_umap', 'protein_expression', 'protein_expression_clr', 'protein_expression_dsb'\n",
       "    obsp: 'connectivities', 'distances'"
      ]
     },
     "execution_count": 47,
     "metadata": {},
     "output_type": "execute_result"
    }
   ],
   "source": [
    "adata_norm"
   ]
  },
  {
   "cell_type": "code",
   "execution_count": 48,
   "id": "a84b843d",
   "metadata": {},
   "outputs": [
    {
     "data": {
      "text/plain": [
       "Index(['AAACCTGCAAACCCAT-1-116', 'AAACCTGCATGTCTCC-1-116',\n",
       "       'AAACCTGGTACATCCA-1-116', 'AAACCTGGTCTTGATG-1-116',\n",
       "       'AAACGGGAGCTCCTCT-1-116', 'AAACGGGAGGCCCTTG-1-116',\n",
       "       'AAACGGGCAAGCTGGA-1-116', 'AAACGGGCAATAAGCA-1-116',\n",
       "       'AAACGGGGTCCGAAGA-1-116', 'AAACGGGTCACTTACT-1-116',\n",
       "       ...\n",
       "       'TTTGCGCTCTAGAGTC-1-116', 'TTTGCGCTCTGAGGGA-1-116',\n",
       "       'TTTGGTTAGTGTCCCG-1-116', 'TTTGGTTGTCCCTACT-1-116',\n",
       "       'TTTGGTTGTCTAGTCA-1-116', 'TTTGGTTTCGGCTTGG-1-116',\n",
       "       'TTTGGTTTCTATCGCC-1-116', 'TTTGTCAAGAAGAAGC-1-116',\n",
       "       'TTTGTCACAGTTAACC-1-116', 'TTTGTCATCCAGAGGA-1-116'],\n",
       "      dtype='object', length=2111)"
      ]
     },
     "execution_count": 48,
     "metadata": {},
     "output_type": "execute_result"
    }
   ],
   "source": [
    "adata_norm.obsm['protein_expression_clr'].index"
   ]
  },
  {
   "cell_type": "code",
   "execution_count": 49,
   "id": "6342d7bb",
   "metadata": {},
   "outputs": [],
   "source": [
    "clr = adata_norm.obsm['protein_expression_clr']\n",
    "\n",
    "dsb = adata_norm.obsm['protein_expression_dsb']"
   ]
  },
  {
   "cell_type": "code",
   "execution_count": 50,
   "id": "714860a2",
   "metadata": {},
   "outputs": [
    {
     "data": {
      "text/plain": [
       "View of AnnData object with n_obs × n_vars = 2111 × 8051\n",
       "    obs: 'cell_type', 'n_genes', 'percent_mito', 'percent_ribo', 'n_counts', 'leiden_r2', 'leiden_r2_n_genes_MAD_diff', 'leiden_r2_n_counts_MAD_diff', 'leiden_r2_percent_mito_MAD_diff', 'filter', 'model_group', 'BATCH', 'POOL', 'SAMPLE_SET', 'SAMPLE_TYPE', 'SAMPLE_TISSUE', 'DIAGNOSIS', 'SUBTYPE', 'STATUS', 'eg_code', 'leiden_r1', 'new_cell_type', 'batch_group'\n",
       "    uns: 'neighbors', 'new_cell_type_colors', 'umap'\n",
       "    obsm: 'X_pca', 'X_totalVI', 'X_umap', 'protein_expression', 'protein_expression_clr', 'protein_expression_dsb'\n",
       "    obsp: 'connectivities', 'distances'"
      ]
     },
     "execution_count": 50,
     "metadata": {},
     "output_type": "execute_result"
    }
   ],
   "source": [
    "adata_norm"
   ]
  },
  {
   "cell_type": "code",
   "execution_count": 51,
   "id": "3238534f",
   "metadata": {},
   "outputs": [],
   "source": [
    "adata.obsm = adata_norm.obsm"
   ]
  },
  {
   "cell_type": "code",
   "execution_count": 52,
   "id": "0fe8568f",
   "metadata": {},
   "outputs": [
    {
     "data": {
      "text/plain": [
       "AxisArrays with keys: X_pca, X_totalVI, X_umap, protein_expression, protein_expression_clr, protein_expression_dsb"
      ]
     },
     "execution_count": 52,
     "metadata": {},
     "output_type": "execute_result"
    }
   ],
   "source": [
    "adata.obsm"
   ]
  },
  {
   "cell_type": "code",
   "execution_count": 53,
   "id": "d3356665",
   "metadata": {},
   "outputs": [],
   "source": [
    "adata.obs = adata_norm.obs"
   ]
  },
  {
   "cell_type": "code",
   "execution_count": 54,
   "id": "a81de2fa",
   "metadata": {},
   "outputs": [],
   "source": [
    "#save the file!\n",
    "\n",
    "adata.write('/Users/tiinatuononen/Desktop/Thesis/Project/data/EG49_norm.h5ad')"
   ]
  },
  {
   "cell_type": "code",
   "execution_count": null,
   "id": "4fc8fe1d",
   "metadata": {},
   "outputs": [],
   "source": []
  },
  {
   "cell_type": "code",
   "execution_count": null,
   "id": "e79c9885",
   "metadata": {},
   "outputs": [],
   "source": []
  },
  {
   "cell_type": "code",
   "execution_count": null,
   "id": "1bfd0efa",
   "metadata": {},
   "outputs": [],
   "source": []
  }
 ],
 "metadata": {
  "kernelspec": {
   "display_name": "tiina-env",
   "language": "python",
   "name": "tiina-env"
  },
  "language_info": {
   "codemirror_mode": {
    "name": "ipython",
    "version": 3
   },
   "file_extension": ".py",
   "mimetype": "text/x-python",
   "name": "python",
   "nbconvert_exporter": "python",
   "pygments_lexer": "ipython3",
   "version": "3.10.6"
  }
 },
 "nbformat": 4,
 "nbformat_minor": 5
}
