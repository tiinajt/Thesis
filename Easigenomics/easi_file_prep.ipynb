{
 "cells": [
  {
   "cell_type": "markdown",
   "id": "290ae441",
   "metadata": {},
   "source": [
    "# UMAPs Neurips samples, NK cells"
   ]
  },
  {
   "cell_type": "code",
   "execution_count": 109,
   "id": "a3e0c4fa",
   "metadata": {},
   "outputs": [],
   "source": [
    "import pandas as pd\n",
    "import numpy as np\n",
    "import matplotlib.pyplot as plt\n",
    "import seaborn as sns\n",
    "import anndata as ad\n",
    "import scvi\n",
    "import scanpy as sc\n",
    "import umap\n",
    "\n",
    "from ridgeplot import ridgeplot\n",
    "\n",
    "import warnings\n",
    "\n",
    "warnings.filterwarnings('ignore')\n",
    "\n"
   ]
  },
  {
   "cell_type": "code",
   "execution_count": 110,
   "id": "51e5dc93",
   "metadata": {},
   "outputs": [],
   "source": [
    "#Easigenomics dataset, only one sample\n",
    "\n",
    "adata1 = sc.read_h5ad('/Users/tiinatuononen/Desktop/Thesis/Project/data/easi/EG58.h5ad')"
   ]
  },
  {
   "cell_type": "code",
   "execution_count": 111,
   "id": "973c36df",
   "metadata": {},
   "outputs": [],
   "source": [
    "adata = adata1.copy()"
   ]
  },
  {
   "cell_type": "code",
   "execution_count": 112,
   "id": "18aaff7c",
   "metadata": {},
   "outputs": [],
   "source": [
    "#wholeEasigenomics dataset\n",
    "\n",
    "adata_2 = sc.read_h5ad('/Users/tiinatuononen/Desktop/Thesis/Project/data/adata_easi_norm.h5ad')"
   ]
  },
  {
   "cell_type": "code",
   "execution_count": 113,
   "id": "4465aef1",
   "metadata": {},
   "outputs": [],
   "source": [
    "adata2 = adata_2.copy()"
   ]
  },
  {
   "cell_type": "code",
   "execution_count": 114,
   "id": "68c512a0",
   "metadata": {},
   "outputs": [
    {
     "data": {
      "text/html": [
       "<div>\n",
       "<style scoped>\n",
       "    .dataframe tbody tr th:only-of-type {\n",
       "        vertical-align: middle;\n",
       "    }\n",
       "\n",
       "    .dataframe tbody tr th {\n",
       "        vertical-align: top;\n",
       "    }\n",
       "\n",
       "    .dataframe thead th {\n",
       "        text-align: right;\n",
       "    }\n",
       "</style>\n",
       "<table border=\"1\" class=\"dataframe\">\n",
       "  <thead>\n",
       "    <tr style=\"text-align: right;\">\n",
       "      <th></th>\n",
       "      <th>CD19-1</th>\n",
       "      <th>CD10</th>\n",
       "      <th>CD20</th>\n",
       "      <th>CD3</th>\n",
       "      <th>CD2-1</th>\n",
       "      <th>CD11b</th>\n",
       "      <th>HLADR</th>\n",
       "      <th>CD38-1</th>\n",
       "      <th>CD11c</th>\n",
       "      <th>CD7-1</th>\n",
       "      <th>...</th>\n",
       "      <th>CD5-1</th>\n",
       "      <th>CD15</th>\n",
       "      <th>CD64</th>\n",
       "      <th>CD117</th>\n",
       "      <th>CD24</th>\n",
       "      <th>CD44-1</th>\n",
       "      <th>CD58-1</th>\n",
       "      <th>CD66ace</th>\n",
       "      <th>CD13</th>\n",
       "      <th>CD34-1</th>\n",
       "    </tr>\n",
       "  </thead>\n",
       "  <tbody>\n",
       "    <tr>\n",
       "      <th>AAACCTGAGCTGCCCA-1</th>\n",
       "      <td>7.0</td>\n",
       "      <td>13.0</td>\n",
       "      <td>13.0</td>\n",
       "      <td>2.0</td>\n",
       "      <td>52.0</td>\n",
       "      <td>119.0</td>\n",
       "      <td>100.0</td>\n",
       "      <td>19.0</td>\n",
       "      <td>112.0</td>\n",
       "      <td>8.0</td>\n",
       "      <td>...</td>\n",
       "      <td>9.0</td>\n",
       "      <td>31.0</td>\n",
       "      <td>30.0</td>\n",
       "      <td>2.0</td>\n",
       "      <td>8.0</td>\n",
       "      <td>677.0</td>\n",
       "      <td>23.0</td>\n",
       "      <td>8.0</td>\n",
       "      <td>31.0</td>\n",
       "      <td>11.0</td>\n",
       "    </tr>\n",
       "    <tr>\n",
       "      <th>AAACCTGAGTGTGGCA-1</th>\n",
       "      <td>6.0</td>\n",
       "      <td>9.0</td>\n",
       "      <td>7.0</td>\n",
       "      <td>7.0</td>\n",
       "      <td>17.0</td>\n",
       "      <td>138.0</td>\n",
       "      <td>53.0</td>\n",
       "      <td>10.0</td>\n",
       "      <td>57.0</td>\n",
       "      <td>11.0</td>\n",
       "      <td>...</td>\n",
       "      <td>9.0</td>\n",
       "      <td>23.0</td>\n",
       "      <td>37.0</td>\n",
       "      <td>4.0</td>\n",
       "      <td>7.0</td>\n",
       "      <td>550.0</td>\n",
       "      <td>19.0</td>\n",
       "      <td>9.0</td>\n",
       "      <td>25.0</td>\n",
       "      <td>15.0</td>\n",
       "    </tr>\n",
       "    <tr>\n",
       "      <th>AAACCTGCAAGACGTG-1</th>\n",
       "      <td>6.0</td>\n",
       "      <td>22.0</td>\n",
       "      <td>20.0</td>\n",
       "      <td>4.0</td>\n",
       "      <td>34.0</td>\n",
       "      <td>214.0</td>\n",
       "      <td>929.0</td>\n",
       "      <td>29.0</td>\n",
       "      <td>318.0</td>\n",
       "      <td>16.0</td>\n",
       "      <td>...</td>\n",
       "      <td>16.0</td>\n",
       "      <td>32.0</td>\n",
       "      <td>39.0</td>\n",
       "      <td>5.0</td>\n",
       "      <td>4.0</td>\n",
       "      <td>1044.0</td>\n",
       "      <td>52.0</td>\n",
       "      <td>17.0</td>\n",
       "      <td>43.0</td>\n",
       "      <td>13.0</td>\n",
       "    </tr>\n",
       "    <tr>\n",
       "      <th>AAACCTGCACATCCAA-1</th>\n",
       "      <td>9.0</td>\n",
       "      <td>18.0</td>\n",
       "      <td>11.0</td>\n",
       "      <td>3.0</td>\n",
       "      <td>30.0</td>\n",
       "      <td>82.0</td>\n",
       "      <td>75.0</td>\n",
       "      <td>18.0</td>\n",
       "      <td>73.0</td>\n",
       "      <td>10.0</td>\n",
       "      <td>...</td>\n",
       "      <td>9.0</td>\n",
       "      <td>15.0</td>\n",
       "      <td>48.0</td>\n",
       "      <td>5.0</td>\n",
       "      <td>5.0</td>\n",
       "      <td>573.0</td>\n",
       "      <td>10.0</td>\n",
       "      <td>10.0</td>\n",
       "      <td>18.0</td>\n",
       "      <td>11.0</td>\n",
       "    </tr>\n",
       "    <tr>\n",
       "      <th>AAACCTGCACGGTTTA-1</th>\n",
       "      <td>9.0</td>\n",
       "      <td>10.0</td>\n",
       "      <td>7.0</td>\n",
       "      <td>3.0</td>\n",
       "      <td>23.0</td>\n",
       "      <td>59.0</td>\n",
       "      <td>118.0</td>\n",
       "      <td>12.0</td>\n",
       "      <td>65.0</td>\n",
       "      <td>5.0</td>\n",
       "      <td>...</td>\n",
       "      <td>4.0</td>\n",
       "      <td>25.0</td>\n",
       "      <td>28.0</td>\n",
       "      <td>5.0</td>\n",
       "      <td>4.0</td>\n",
       "      <td>475.0</td>\n",
       "      <td>13.0</td>\n",
       "      <td>11.0</td>\n",
       "      <td>12.0</td>\n",
       "      <td>10.0</td>\n",
       "    </tr>\n",
       "    <tr>\n",
       "      <th>...</th>\n",
       "      <td>...</td>\n",
       "      <td>...</td>\n",
       "      <td>...</td>\n",
       "      <td>...</td>\n",
       "      <td>...</td>\n",
       "      <td>...</td>\n",
       "      <td>...</td>\n",
       "      <td>...</td>\n",
       "      <td>...</td>\n",
       "      <td>...</td>\n",
       "      <td>...</td>\n",
       "      <td>...</td>\n",
       "      <td>...</td>\n",
       "      <td>...</td>\n",
       "      <td>...</td>\n",
       "      <td>...</td>\n",
       "      <td>...</td>\n",
       "      <td>...</td>\n",
       "      <td>...</td>\n",
       "      <td>...</td>\n",
       "      <td>...</td>\n",
       "    </tr>\n",
       "    <tr>\n",
       "      <th>TTTGTCACACATTCGA-1</th>\n",
       "      <td>10.0</td>\n",
       "      <td>16.0</td>\n",
       "      <td>7.0</td>\n",
       "      <td>3.0</td>\n",
       "      <td>27.0</td>\n",
       "      <td>157.0</td>\n",
       "      <td>105.0</td>\n",
       "      <td>23.0</td>\n",
       "      <td>85.0</td>\n",
       "      <td>12.0</td>\n",
       "      <td>...</td>\n",
       "      <td>11.0</td>\n",
       "      <td>30.0</td>\n",
       "      <td>20.0</td>\n",
       "      <td>6.0</td>\n",
       "      <td>5.0</td>\n",
       "      <td>907.0</td>\n",
       "      <td>24.0</td>\n",
       "      <td>13.0</td>\n",
       "      <td>15.0</td>\n",
       "      <td>9.0</td>\n",
       "    </tr>\n",
       "    <tr>\n",
       "      <th>TTTGTCAGTACCCAAT-1</th>\n",
       "      <td>5.0</td>\n",
       "      <td>15.0</td>\n",
       "      <td>21.0</td>\n",
       "      <td>2.0</td>\n",
       "      <td>43.0</td>\n",
       "      <td>212.0</td>\n",
       "      <td>73.0</td>\n",
       "      <td>49.0</td>\n",
       "      <td>120.0</td>\n",
       "      <td>10.0</td>\n",
       "      <td>...</td>\n",
       "      <td>11.0</td>\n",
       "      <td>86.0</td>\n",
       "      <td>65.0</td>\n",
       "      <td>4.0</td>\n",
       "      <td>6.0</td>\n",
       "      <td>726.0</td>\n",
       "      <td>21.0</td>\n",
       "      <td>30.0</td>\n",
       "      <td>4.0</td>\n",
       "      <td>21.0</td>\n",
       "    </tr>\n",
       "    <tr>\n",
       "      <th>TTTGTCAGTTCCACTC-1</th>\n",
       "      <td>3.0</td>\n",
       "      <td>11.0</td>\n",
       "      <td>12.0</td>\n",
       "      <td>1.0</td>\n",
       "      <td>16.0</td>\n",
       "      <td>29.0</td>\n",
       "      <td>86.0</td>\n",
       "      <td>8.0</td>\n",
       "      <td>51.0</td>\n",
       "      <td>7.0</td>\n",
       "      <td>...</td>\n",
       "      <td>3.0</td>\n",
       "      <td>18.0</td>\n",
       "      <td>25.0</td>\n",
       "      <td>7.0</td>\n",
       "      <td>3.0</td>\n",
       "      <td>239.0</td>\n",
       "      <td>8.0</td>\n",
       "      <td>8.0</td>\n",
       "      <td>7.0</td>\n",
       "      <td>5.0</td>\n",
       "    </tr>\n",
       "    <tr>\n",
       "      <th>TTTGTCATCAACACCA-1</th>\n",
       "      <td>6.0</td>\n",
       "      <td>22.0</td>\n",
       "      <td>10.0</td>\n",
       "      <td>5.0</td>\n",
       "      <td>30.0</td>\n",
       "      <td>169.0</td>\n",
       "      <td>136.0</td>\n",
       "      <td>16.0</td>\n",
       "      <td>86.0</td>\n",
       "      <td>11.0</td>\n",
       "      <td>...</td>\n",
       "      <td>9.0</td>\n",
       "      <td>25.0</td>\n",
       "      <td>37.0</td>\n",
       "      <td>1.0</td>\n",
       "      <td>5.0</td>\n",
       "      <td>477.0</td>\n",
       "      <td>19.0</td>\n",
       "      <td>6.0</td>\n",
       "      <td>15.0</td>\n",
       "      <td>17.0</td>\n",
       "    </tr>\n",
       "    <tr>\n",
       "      <th>TTTGTCATCTACGAGT-1</th>\n",
       "      <td>20.0</td>\n",
       "      <td>179.0</td>\n",
       "      <td>19.0</td>\n",
       "      <td>4.0</td>\n",
       "      <td>47.0</td>\n",
       "      <td>8.0</td>\n",
       "      <td>298.0</td>\n",
       "      <td>68.0</td>\n",
       "      <td>12.0</td>\n",
       "      <td>8.0</td>\n",
       "      <td>...</td>\n",
       "      <td>11.0</td>\n",
       "      <td>7.0</td>\n",
       "      <td>7.0</td>\n",
       "      <td>6.0</td>\n",
       "      <td>8.0</td>\n",
       "      <td>95.0</td>\n",
       "      <td>10.0</td>\n",
       "      <td>10.0</td>\n",
       "      <td>3.0</td>\n",
       "      <td>25.0</td>\n",
       "    </tr>\n",
       "  </tbody>\n",
       "</table>\n",
       "<p>3980 rows × 33 columns</p>\n",
       "</div>"
      ],
      "text/plain": [
       "                    CD19-1   CD10  CD20  CD3  CD2-1  CD11b  HLADR  CD38-1  \\\n",
       "AAACCTGAGCTGCCCA-1     7.0   13.0  13.0  2.0   52.0  119.0  100.0    19.0   \n",
       "AAACCTGAGTGTGGCA-1     6.0    9.0   7.0  7.0   17.0  138.0   53.0    10.0   \n",
       "AAACCTGCAAGACGTG-1     6.0   22.0  20.0  4.0   34.0  214.0  929.0    29.0   \n",
       "AAACCTGCACATCCAA-1     9.0   18.0  11.0  3.0   30.0   82.0   75.0    18.0   \n",
       "AAACCTGCACGGTTTA-1     9.0   10.0   7.0  3.0   23.0   59.0  118.0    12.0   \n",
       "...                    ...    ...   ...  ...    ...    ...    ...     ...   \n",
       "TTTGTCACACATTCGA-1    10.0   16.0   7.0  3.0   27.0  157.0  105.0    23.0   \n",
       "TTTGTCAGTACCCAAT-1     5.0   15.0  21.0  2.0   43.0  212.0   73.0    49.0   \n",
       "TTTGTCAGTTCCACTC-1     3.0   11.0  12.0  1.0   16.0   29.0   86.0     8.0   \n",
       "TTTGTCATCAACACCA-1     6.0   22.0  10.0  5.0   30.0  169.0  136.0    16.0   \n",
       "TTTGTCATCTACGAGT-1    20.0  179.0  19.0  4.0   47.0    8.0  298.0    68.0   \n",
       "\n",
       "                    CD11c  CD7-1  ...  CD5-1  CD15  CD64  CD117  CD24  CD44-1  \\\n",
       "AAACCTGAGCTGCCCA-1  112.0    8.0  ...    9.0  31.0  30.0    2.0   8.0   677.0   \n",
       "AAACCTGAGTGTGGCA-1   57.0   11.0  ...    9.0  23.0  37.0    4.0   7.0   550.0   \n",
       "AAACCTGCAAGACGTG-1  318.0   16.0  ...   16.0  32.0  39.0    5.0   4.0  1044.0   \n",
       "AAACCTGCACATCCAA-1   73.0   10.0  ...    9.0  15.0  48.0    5.0   5.0   573.0   \n",
       "AAACCTGCACGGTTTA-1   65.0    5.0  ...    4.0  25.0  28.0    5.0   4.0   475.0   \n",
       "...                   ...    ...  ...    ...   ...   ...    ...   ...     ...   \n",
       "TTTGTCACACATTCGA-1   85.0   12.0  ...   11.0  30.0  20.0    6.0   5.0   907.0   \n",
       "TTTGTCAGTACCCAAT-1  120.0   10.0  ...   11.0  86.0  65.0    4.0   6.0   726.0   \n",
       "TTTGTCAGTTCCACTC-1   51.0    7.0  ...    3.0  18.0  25.0    7.0   3.0   239.0   \n",
       "TTTGTCATCAACACCA-1   86.0   11.0  ...    9.0  25.0  37.0    1.0   5.0   477.0   \n",
       "TTTGTCATCTACGAGT-1   12.0    8.0  ...   11.0   7.0   7.0    6.0   8.0    95.0   \n",
       "\n",
       "                    CD58-1  CD66ace  CD13  CD34-1  \n",
       "AAACCTGAGCTGCCCA-1    23.0      8.0  31.0    11.0  \n",
       "AAACCTGAGTGTGGCA-1    19.0      9.0  25.0    15.0  \n",
       "AAACCTGCAAGACGTG-1    52.0     17.0  43.0    13.0  \n",
       "AAACCTGCACATCCAA-1    10.0     10.0  18.0    11.0  \n",
       "AAACCTGCACGGTTTA-1    13.0     11.0  12.0    10.0  \n",
       "...                    ...      ...   ...     ...  \n",
       "TTTGTCACACATTCGA-1    24.0     13.0  15.0     9.0  \n",
       "TTTGTCAGTACCCAAT-1    21.0     30.0   4.0    21.0  \n",
       "TTTGTCAGTTCCACTC-1     8.0      8.0   7.0     5.0  \n",
       "TTTGTCATCAACACCA-1    19.0      6.0  15.0    17.0  \n",
       "TTTGTCATCTACGAGT-1    10.0     10.0   3.0    25.0  \n",
       "\n",
       "[3980 rows x 33 columns]"
      ]
     },
     "execution_count": 114,
     "metadata": {},
     "output_type": "execute_result"
    }
   ],
   "source": [
    "adata.obsm['protein_expression']"
   ]
  },
  {
   "cell_type": "code",
   "execution_count": 115,
   "id": "d14a3182",
   "metadata": {},
   "outputs": [
    {
     "data": {
      "text/plain": [
       "AnnData object with n_obs × n_vars = 121340 × 8051\n",
       "    obs: 'cell_type', 'n_genes', 'percent_mito', 'percent_ribo', 'n_counts', 'leiden_r2', 'leiden_r2_n_genes_MAD_diff', 'leiden_r2_n_counts_MAD_diff', 'leiden_r2_percent_mito_MAD_diff', 'filter', 'model_group', 'BATCH', 'POOL', 'SAMPLE_SET', 'SAMPLE_TYPE', 'SAMPLE_TISSUE', 'DIAGNOSIS', 'SUBTYPE', 'STATUS', 'eg_code', 'leiden_r1', 'new_cell_type', 'batch_group'\n",
       "    uns: 'neighbors', 'new_cell_type_colors', 'umap'\n",
       "    obsm: 'X_pca', 'X_totalVI', 'X_umap', 'protein_expression', 'protein_expression_clr', 'protein_expression_dsb'\n",
       "    obsp: 'connectivities', 'distances'"
      ]
     },
     "execution_count": 115,
     "metadata": {},
     "output_type": "execute_result"
    }
   ],
   "source": [
    "adata2"
   ]
  },
  {
   "cell_type": "code",
   "execution_count": 116,
   "id": "15a5da3c",
   "metadata": {},
   "outputs": [
    {
     "data": {
      "text/plain": [
       "(3980, 8051)"
      ]
     },
     "execution_count": 116,
     "metadata": {},
     "output_type": "execute_result"
    }
   ],
   "source": [
    "adata_norm = adata2[adata2.obs[\"eg_code\"] == 'EG58']\n",
    "\n",
    "adata_norm.shape"
   ]
  },
  {
   "cell_type": "code",
   "execution_count": 117,
   "id": "678c87b4",
   "metadata": {},
   "outputs": [
    {
     "data": {
      "text/plain": [
       "Index(['AAACCTGAGCTGCCCA-1-102', 'AAACCTGAGTGTGGCA-1-102',\n",
       "       'AAACCTGCAAGACGTG-1-102', 'AAACCTGCACATCCAA-1-102',\n",
       "       'AAACCTGCACGGTTTA-1-102', 'AAACCTGCATTAACCG-1-102',\n",
       "       'AAACCTGGTTCCAACA-1-102', 'AAACGGGCATGTAGTC-1-102',\n",
       "       'AAACGGGTCAGCTCGG-1-102', 'AAACGGGTCCTAGTGA-1-102',\n",
       "       ...\n",
       "       'TTTGGTTCATAGACTC-1-102', 'TTTGGTTGTGCAACTT-1-102',\n",
       "       'TTTGGTTTCCTTTCGG-1-102', 'TTTGTCAAGAGCCTAG-1-102',\n",
       "       'TTTGTCAAGCACAGGT-1-102', 'TTTGTCACACATTCGA-1-102',\n",
       "       'TTTGTCAGTACCCAAT-1-102', 'TTTGTCAGTTCCACTC-1-102',\n",
       "       'TTTGTCATCAACACCA-1-102', 'TTTGTCATCTACGAGT-1-102'],\n",
       "      dtype='object', length=3980)"
      ]
     },
     "execution_count": 117,
     "metadata": {},
     "output_type": "execute_result"
    }
   ],
   "source": [
    "adata_norm.obs.index"
   ]
  },
  {
   "cell_type": "code",
   "execution_count": 118,
   "id": "71e700aa",
   "metadata": {},
   "outputs": [
    {
     "data": {
      "text/plain": [
       "Index(['AAACCTGAGCTGCCCA-1', 'AAACCTGAGTGTGGCA-1', 'AAACCTGCAAGACGTG-1',\n",
       "       'AAACCTGCACATCCAA-1', 'AAACCTGCACGGTTTA-1', 'AAACCTGCATTAACCG-1',\n",
       "       'AAACCTGGTTCCAACA-1', 'AAACGGGCATGTAGTC-1', 'AAACGGGTCAGCTCGG-1',\n",
       "       'AAACGGGTCCTAGTGA-1',\n",
       "       ...\n",
       "       'TTTGGTTCATAGACTC-1', 'TTTGGTTGTGCAACTT-1', 'TTTGGTTTCCTTTCGG-1',\n",
       "       'TTTGTCAAGAGCCTAG-1', 'TTTGTCAAGCACAGGT-1', 'TTTGTCACACATTCGA-1',\n",
       "       'TTTGTCAGTACCCAAT-1', 'TTTGTCAGTTCCACTC-1', 'TTTGTCATCAACACCA-1',\n",
       "       'TTTGTCATCTACGAGT-1'],\n",
       "      dtype='object', length=3980)"
      ]
     },
     "execution_count": 118,
     "metadata": {},
     "output_type": "execute_result"
    }
   ],
   "source": [
    "adata.obs.index"
   ]
  },
  {
   "cell_type": "code",
   "execution_count": null,
   "id": "d0eea7d4",
   "metadata": {},
   "outputs": [],
   "source": []
  },
  {
   "cell_type": "markdown",
   "id": "317dd712",
   "metadata": {},
   "source": [
    "## Adding normalized protein + fixing indexes"
   ]
  },
  {
   "cell_type": "code",
   "execution_count": 119,
   "id": "4d22f605",
   "metadata": {},
   "outputs": [
    {
     "data": {
      "text/plain": [
       "AnnData object with n_obs × n_vars = 3980 × 14231\n",
       "    obs: 'EG_code', 'leiden_r1', 'n_genes', 'percent_mito', 'percent_ribo', 'n_counts', 'leiden_r1_n_genes_MAD_diff', 'leiden_r1_n_counts_MAD_diff', 'leiden_r1_percent_mito_MAD_diff', 'filter'\n",
       "    var: 'gene_ids', 'feature_types', 'n_cells', 'highly_variable', 'means', 'dispersions', 'dispersions_norm'\n",
       "    uns: 'hvg', 'leiden_r1_colors', 'log1p', 'neighbors', 'pca', 'umap'\n",
       "    obsm: 'X_pca', 'X_umap', 'protein_expression'\n",
       "    varm: 'PCs'\n",
       "    obsp: 'connectivities', 'distances'"
      ]
     },
     "execution_count": 119,
     "metadata": {},
     "output_type": "execute_result"
    }
   ],
   "source": [
    "adata"
   ]
  },
  {
   "cell_type": "code",
   "execution_count": 120,
   "id": "72df7961",
   "metadata": {},
   "outputs": [
    {
     "data": {
      "text/plain": [
       "View of AnnData object with n_obs × n_vars = 3980 × 8051\n",
       "    obs: 'cell_type', 'n_genes', 'percent_mito', 'percent_ribo', 'n_counts', 'leiden_r2', 'leiden_r2_n_genes_MAD_diff', 'leiden_r2_n_counts_MAD_diff', 'leiden_r2_percent_mito_MAD_diff', 'filter', 'model_group', 'BATCH', 'POOL', 'SAMPLE_SET', 'SAMPLE_TYPE', 'SAMPLE_TISSUE', 'DIAGNOSIS', 'SUBTYPE', 'STATUS', 'eg_code', 'leiden_r1', 'new_cell_type', 'batch_group'\n",
       "    uns: 'neighbors', 'new_cell_type_colors', 'umap'\n",
       "    obsm: 'X_pca', 'X_totalVI', 'X_umap', 'protein_expression', 'protein_expression_clr', 'protein_expression_dsb'\n",
       "    obsp: 'connectivities', 'distances'"
      ]
     },
     "execution_count": 120,
     "metadata": {},
     "output_type": "execute_result"
    }
   ],
   "source": [
    "#protein info from adata_norm to adata with maching indexes\n",
    "adata_norm"
   ]
  },
  {
   "cell_type": "code",
   "execution_count": 121,
   "id": "10455ac0",
   "metadata": {},
   "outputs": [
    {
     "data": {
      "text/plain": [
       "['EG58']"
      ]
     },
     "execution_count": 121,
     "metadata": {},
     "output_type": "execute_result"
    }
   ],
   "source": [
    "eg_list=adata.obs[\"EG_code\"].unique().tolist()\n",
    "\n",
    "eg_list"
   ]
  },
  {
   "cell_type": "code",
   "execution_count": 122,
   "id": "67b6eaed",
   "metadata": {},
   "outputs": [],
   "source": [
    "result = None\n",
    "\n",
    "for eg in eg_list:\n",
    "    try:\n",
    "        tail = adata_norm.obs[adata_norm.obs[\"eg_code\"] == eg].index[0][-4:]\n",
    "        new_index=adata.obs[adata.obs[\"EG_code\"] == eg].index+tail\n",
    "        if result is None:\n",
    "            result=new_index.tolist()\n",
    "        else:\n",
    "            result+=(new_index.tolist())\n",
    "    except:\n",
    "        new_index=adata_norm.obs[adata_norm.obs[\"eg_code\"] == eg].index\n",
    "        result+=(new_index.tolist())"
   ]
  },
  {
   "cell_type": "code",
   "execution_count": 123,
   "id": "0c001e46",
   "metadata": {},
   "outputs": [
    {
     "data": {
      "text/plain": [
       "Index(['AAACCTGAGCTGCCCA-1-102', 'AAACCTGAGTGTGGCA-1-102',\n",
       "       'AAACCTGCAAGACGTG-1-102', 'AAACCTGCACATCCAA-1-102',\n",
       "       'AAACCTGCACGGTTTA-1-102', 'AAACCTGCATTAACCG-1-102',\n",
       "       'AAACCTGGTTCCAACA-1-102', 'AAACGGGCATGTAGTC-1-102',\n",
       "       'AAACGGGTCAGCTCGG-1-102', 'AAACGGGTCCTAGTGA-1-102',\n",
       "       ...\n",
       "       'TTTGGTTCATAGACTC-1-102', 'TTTGGTTGTGCAACTT-1-102',\n",
       "       'TTTGGTTTCCTTTCGG-1-102', 'TTTGTCAAGAGCCTAG-1-102',\n",
       "       'TTTGTCAAGCACAGGT-1-102', 'TTTGTCACACATTCGA-1-102',\n",
       "       'TTTGTCAGTACCCAAT-1-102', 'TTTGTCAGTTCCACTC-1-102',\n",
       "       'TTTGTCATCAACACCA-1-102', 'TTTGTCATCTACGAGT-1-102'],\n",
       "      dtype='object', length=3980)"
      ]
     },
     "execution_count": 123,
     "metadata": {},
     "output_type": "execute_result"
    }
   ],
   "source": [
    "adata_norm.obs.index"
   ]
  },
  {
   "cell_type": "code",
   "execution_count": 124,
   "id": "550a9178",
   "metadata": {},
   "outputs": [
    {
     "data": {
      "text/plain": [
       "Index(['AAACCTGAGCTGCCCA-1', 'AAACCTGAGTGTGGCA-1', 'AAACCTGCAAGACGTG-1',\n",
       "       'AAACCTGCACATCCAA-1', 'AAACCTGCACGGTTTA-1', 'AAACCTGCATTAACCG-1',\n",
       "       'AAACCTGGTTCCAACA-1', 'AAACGGGCATGTAGTC-1', 'AAACGGGTCAGCTCGG-1',\n",
       "       'AAACGGGTCCTAGTGA-1',\n",
       "       ...\n",
       "       'TTTGGTTCATAGACTC-1', 'TTTGGTTGTGCAACTT-1', 'TTTGGTTTCCTTTCGG-1',\n",
       "       'TTTGTCAAGAGCCTAG-1', 'TTTGTCAAGCACAGGT-1', 'TTTGTCACACATTCGA-1',\n",
       "       'TTTGTCAGTACCCAAT-1', 'TTTGTCAGTTCCACTC-1', 'TTTGTCATCAACACCA-1',\n",
       "       'TTTGTCATCTACGAGT-1'],\n",
       "      dtype='object', length=3980)"
      ]
     },
     "execution_count": 124,
     "metadata": {},
     "output_type": "execute_result"
    }
   ],
   "source": [
    "adata.obs.index"
   ]
  },
  {
   "cell_type": "code",
   "execution_count": 125,
   "id": "7e4cec5e",
   "metadata": {},
   "outputs": [],
   "source": [
    "adata.obs.index=pd.Index(result)"
   ]
  },
  {
   "cell_type": "code",
   "execution_count": 126,
   "id": "8ca034c3",
   "metadata": {},
   "outputs": [
    {
     "data": {
      "text/plain": [
       "Index(['AAACCTGAGCTGCCCA-1-102', 'AAACCTGAGTGTGGCA-1-102',\n",
       "       'AAACCTGCAAGACGTG-1-102', 'AAACCTGCACATCCAA-1-102',\n",
       "       'AAACCTGCACGGTTTA-1-102', 'AAACCTGCATTAACCG-1-102',\n",
       "       'AAACCTGGTTCCAACA-1-102', 'AAACGGGCATGTAGTC-1-102',\n",
       "       'AAACGGGTCAGCTCGG-1-102', 'AAACGGGTCCTAGTGA-1-102',\n",
       "       ...\n",
       "       'TTTGGTTCATAGACTC-1-102', 'TTTGGTTGTGCAACTT-1-102',\n",
       "       'TTTGGTTTCCTTTCGG-1-102', 'TTTGTCAAGAGCCTAG-1-102',\n",
       "       'TTTGTCAAGCACAGGT-1-102', 'TTTGTCACACATTCGA-1-102',\n",
       "       'TTTGTCAGTACCCAAT-1-102', 'TTTGTCAGTTCCACTC-1-102',\n",
       "       'TTTGTCATCAACACCA-1-102', 'TTTGTCATCTACGAGT-1-102'],\n",
       "      dtype='object', length=3980)"
      ]
     },
     "execution_count": 126,
     "metadata": {},
     "output_type": "execute_result"
    }
   ],
   "source": [
    "adata.obs.index"
   ]
  },
  {
   "cell_type": "code",
   "execution_count": 127,
   "id": "5bb58169",
   "metadata": {},
   "outputs": [
    {
     "data": {
      "text/plain": [
       "0"
      ]
     },
     "execution_count": 127,
     "metadata": {},
     "output_type": "execute_result"
    }
   ],
   "source": [
    "#all indexes the same\n",
    "\n",
    "(~(adata.obs.index == adata_norm.obs.index)).sum()"
   ]
  },
  {
   "cell_type": "code",
   "execution_count": 128,
   "id": "15cd56b7",
   "metadata": {},
   "outputs": [
    {
     "data": {
      "text/plain": [
       "View of AnnData object with n_obs × n_vars = 3980 × 8051\n",
       "    obs: 'cell_type', 'n_genes', 'percent_mito', 'percent_ribo', 'n_counts', 'leiden_r2', 'leiden_r2_n_genes_MAD_diff', 'leiden_r2_n_counts_MAD_diff', 'leiden_r2_percent_mito_MAD_diff', 'filter', 'model_group', 'BATCH', 'POOL', 'SAMPLE_SET', 'SAMPLE_TYPE', 'SAMPLE_TISSUE', 'DIAGNOSIS', 'SUBTYPE', 'STATUS', 'eg_code', 'leiden_r1', 'new_cell_type', 'batch_group'\n",
       "    uns: 'neighbors', 'new_cell_type_colors', 'umap'\n",
       "    obsm: 'X_pca', 'X_totalVI', 'X_umap', 'protein_expression', 'protein_expression_clr', 'protein_expression_dsb'\n",
       "    obsp: 'connectivities', 'distances'"
      ]
     },
     "execution_count": 128,
     "metadata": {},
     "output_type": "execute_result"
    }
   ],
   "source": [
    "adata_norm"
   ]
  },
  {
   "cell_type": "code",
   "execution_count": 129,
   "id": "fd7f5081",
   "metadata": {},
   "outputs": [
    {
     "data": {
      "text/plain": [
       "Index(['AAACCTGAGCTGCCCA-1-102', 'AAACCTGAGTGTGGCA-1-102',\n",
       "       'AAACCTGCAAGACGTG-1-102', 'AAACCTGCACATCCAA-1-102',\n",
       "       'AAACCTGCACGGTTTA-1-102', 'AAACCTGCATTAACCG-1-102',\n",
       "       'AAACCTGGTTCCAACA-1-102', 'AAACGGGCATGTAGTC-1-102',\n",
       "       'AAACGGGTCAGCTCGG-1-102', 'AAACGGGTCCTAGTGA-1-102',\n",
       "       ...\n",
       "       'TTTGGTTCATAGACTC-1-102', 'TTTGGTTGTGCAACTT-1-102',\n",
       "       'TTTGGTTTCCTTTCGG-1-102', 'TTTGTCAAGAGCCTAG-1-102',\n",
       "       'TTTGTCAAGCACAGGT-1-102', 'TTTGTCACACATTCGA-1-102',\n",
       "       'TTTGTCAGTACCCAAT-1-102', 'TTTGTCAGTTCCACTC-1-102',\n",
       "       'TTTGTCATCAACACCA-1-102', 'TTTGTCATCTACGAGT-1-102'],\n",
       "      dtype='object', length=3980)"
      ]
     },
     "execution_count": 129,
     "metadata": {},
     "output_type": "execute_result"
    }
   ],
   "source": [
    "adata_norm.obsm['protein_expression_clr'].index"
   ]
  },
  {
   "cell_type": "code",
   "execution_count": 130,
   "id": "6342d7bb",
   "metadata": {},
   "outputs": [],
   "source": [
    "clr = adata_norm.obsm['protein_expression_clr']\n",
    "\n",
    "dsb = adata_norm.obsm['protein_expression_dsb']"
   ]
  },
  {
   "cell_type": "code",
   "execution_count": 131,
   "id": "23e93058",
   "metadata": {},
   "outputs": [
    {
     "data": {
      "text/plain": [
       "View of AnnData object with n_obs × n_vars = 3980 × 8051\n",
       "    obs: 'cell_type', 'n_genes', 'percent_mito', 'percent_ribo', 'n_counts', 'leiden_r2', 'leiden_r2_n_genes_MAD_diff', 'leiden_r2_n_counts_MAD_diff', 'leiden_r2_percent_mito_MAD_diff', 'filter', 'model_group', 'BATCH', 'POOL', 'SAMPLE_SET', 'SAMPLE_TYPE', 'SAMPLE_TISSUE', 'DIAGNOSIS', 'SUBTYPE', 'STATUS', 'eg_code', 'leiden_r1', 'new_cell_type', 'batch_group'\n",
       "    uns: 'neighbors', 'new_cell_type_colors', 'umap'\n",
       "    obsm: 'X_pca', 'X_totalVI', 'X_umap', 'protein_expression', 'protein_expression_clr', 'protein_expression_dsb'\n",
       "    obsp: 'connectivities', 'distances'"
      ]
     },
     "execution_count": 131,
     "metadata": {},
     "output_type": "execute_result"
    }
   ],
   "source": [
    "adata_norm"
   ]
  },
  {
   "cell_type": "code",
   "execution_count": 132,
   "id": "3238534f",
   "metadata": {},
   "outputs": [],
   "source": [
    "adata.obsm = adata_norm.obsm"
   ]
  },
  {
   "cell_type": "code",
   "execution_count": 133,
   "id": "4688a5a5",
   "metadata": {},
   "outputs": [
    {
     "data": {
      "text/plain": [
       "AxisArrays with keys: X_pca, X_totalVI, X_umap, protein_expression, protein_expression_clr, protein_expression_dsb"
      ]
     },
     "execution_count": 133,
     "metadata": {},
     "output_type": "execute_result"
    }
   ],
   "source": [
    "adata.obsm"
   ]
  },
  {
   "cell_type": "code",
   "execution_count": 134,
   "id": "e393b292",
   "metadata": {},
   "outputs": [],
   "source": [
    "adata.obs = adata_norm.obs"
   ]
  },
  {
   "cell_type": "code",
   "execution_count": 135,
   "id": "a81de2fa",
   "metadata": {},
   "outputs": [],
   "source": [
    "#save the file!\n",
    "\n",
    "adata.write('/Users/tiinatuononen/Desktop/Thesis/Project/data/EG58_norm.h5ad')"
   ]
  },
  {
   "cell_type": "code",
   "execution_count": null,
   "id": "4fc8fe1d",
   "metadata": {},
   "outputs": [],
   "source": []
  },
  {
   "cell_type": "code",
   "execution_count": null,
   "id": "e79c9885",
   "metadata": {},
   "outputs": [],
   "source": []
  },
  {
   "cell_type": "code",
   "execution_count": null,
   "id": "1bfd0efa",
   "metadata": {},
   "outputs": [],
   "source": []
  }
 ],
 "metadata": {
  "kernelspec": {
   "display_name": "tiina-env",
   "language": "python",
   "name": "tiina-env"
  },
  "language_info": {
   "codemirror_mode": {
    "name": "ipython",
    "version": 3
   },
   "file_extension": ".py",
   "mimetype": "text/x-python",
   "name": "python",
   "nbconvert_exporter": "python",
   "pygments_lexer": "ipython3",
   "version": "3.10.6"
  }
 },
 "nbformat": 4,
 "nbformat_minor": 5
}
