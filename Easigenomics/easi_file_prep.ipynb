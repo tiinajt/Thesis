{
 "cells": [
  {
   "cell_type": "markdown",
   "id": "290ae441",
   "metadata": {},
   "source": [
    "# UMAPs Neurips samples, NK cells"
   ]
  },
  {
   "cell_type": "code",
   "execution_count": 136,
   "id": "a3e0c4fa",
   "metadata": {},
   "outputs": [],
   "source": [
    "import pandas as pd\n",
    "import numpy as np\n",
    "import matplotlib.pyplot as plt\n",
    "import seaborn as sns\n",
    "import anndata as ad\n",
    "import scvi\n",
    "import scanpy as sc\n",
    "import umap\n",
    "\n",
    "from ridgeplot import ridgeplot\n",
    "\n",
    "import warnings\n",
    "\n",
    "warnings.filterwarnings('ignore')\n",
    "\n"
   ]
  },
  {
   "cell_type": "code",
   "execution_count": 137,
   "id": "51e5dc93",
   "metadata": {},
   "outputs": [],
   "source": [
    "#Easigenomics dataset, only one sample\n",
    "\n",
    "adata1 = sc.read_h5ad('/Users/tiinatuononen/Desktop/Thesis/Project/data/easi/EG63.h5ad')"
   ]
  },
  {
   "cell_type": "code",
   "execution_count": 138,
   "id": "973c36df",
   "metadata": {},
   "outputs": [],
   "source": [
    "adata = adata1.copy()"
   ]
  },
  {
   "cell_type": "code",
   "execution_count": 139,
   "id": "18aaff7c",
   "metadata": {},
   "outputs": [],
   "source": [
    "#wholeEasigenomics dataset\n",
    "\n",
    "adata_2 = sc.read_h5ad('/Users/tiinatuononen/Desktop/Thesis/Project/data/adata_easi_norm.h5ad')"
   ]
  },
  {
   "cell_type": "code",
   "execution_count": 140,
   "id": "4465aef1",
   "metadata": {},
   "outputs": [],
   "source": [
    "adata2 = adata_2.copy()"
   ]
  },
  {
   "cell_type": "code",
   "execution_count": 141,
   "id": "68c512a0",
   "metadata": {},
   "outputs": [
    {
     "data": {
      "text/html": [
       "<div>\n",
       "<style scoped>\n",
       "    .dataframe tbody tr th:only-of-type {\n",
       "        vertical-align: middle;\n",
       "    }\n",
       "\n",
       "    .dataframe tbody tr th {\n",
       "        vertical-align: top;\n",
       "    }\n",
       "\n",
       "    .dataframe thead th {\n",
       "        text-align: right;\n",
       "    }\n",
       "</style>\n",
       "<table border=\"1\" class=\"dataframe\">\n",
       "  <thead>\n",
       "    <tr style=\"text-align: right;\">\n",
       "      <th></th>\n",
       "      <th>CD19-1</th>\n",
       "      <th>CD10</th>\n",
       "      <th>CD20</th>\n",
       "      <th>CD3</th>\n",
       "      <th>CD2-1</th>\n",
       "      <th>CD11b</th>\n",
       "      <th>HLADR</th>\n",
       "      <th>CD38-1</th>\n",
       "      <th>CD11c</th>\n",
       "      <th>CD7-1</th>\n",
       "      <th>...</th>\n",
       "      <th>CD5-1</th>\n",
       "      <th>CD15</th>\n",
       "      <th>CD64</th>\n",
       "      <th>CD117</th>\n",
       "      <th>CD24</th>\n",
       "      <th>CD44-1</th>\n",
       "      <th>CD58-1</th>\n",
       "      <th>CD66ace</th>\n",
       "      <th>CD13</th>\n",
       "      <th>CD34-1</th>\n",
       "    </tr>\n",
       "  </thead>\n",
       "  <tbody>\n",
       "    <tr>\n",
       "      <th>AAACCTGCAGATCTGT-1</th>\n",
       "      <td>9.0</td>\n",
       "      <td>25.0</td>\n",
       "      <td>29.0</td>\n",
       "      <td>7.0</td>\n",
       "      <td>40.0</td>\n",
       "      <td>60.0</td>\n",
       "      <td>162.0</td>\n",
       "      <td>31.0</td>\n",
       "      <td>122.0</td>\n",
       "      <td>11.0</td>\n",
       "      <td>...</td>\n",
       "      <td>20.0</td>\n",
       "      <td>31.0</td>\n",
       "      <td>80.0</td>\n",
       "      <td>9.0</td>\n",
       "      <td>11.0</td>\n",
       "      <td>539.0</td>\n",
       "      <td>23.0</td>\n",
       "      <td>10.0</td>\n",
       "      <td>8.0</td>\n",
       "      <td>48.0</td>\n",
       "    </tr>\n",
       "    <tr>\n",
       "      <th>AAACCTGTCCTGTACC-1</th>\n",
       "      <td>7.0</td>\n",
       "      <td>15.0</td>\n",
       "      <td>18.0</td>\n",
       "      <td>9.0</td>\n",
       "      <td>21.0</td>\n",
       "      <td>22.0</td>\n",
       "      <td>149.0</td>\n",
       "      <td>39.0</td>\n",
       "      <td>38.0</td>\n",
       "      <td>10.0</td>\n",
       "      <td>...</td>\n",
       "      <td>15.0</td>\n",
       "      <td>23.0</td>\n",
       "      <td>29.0</td>\n",
       "      <td>43.0</td>\n",
       "      <td>5.0</td>\n",
       "      <td>695.0</td>\n",
       "      <td>11.0</td>\n",
       "      <td>2.0</td>\n",
       "      <td>9.0</td>\n",
       "      <td>23.0</td>\n",
       "    </tr>\n",
       "    <tr>\n",
       "      <th>AAACGGGAGAGCTGCA-1</th>\n",
       "      <td>7.0</td>\n",
       "      <td>11.0</td>\n",
       "      <td>14.0</td>\n",
       "      <td>10.0</td>\n",
       "      <td>27.0</td>\n",
       "      <td>47.0</td>\n",
       "      <td>152.0</td>\n",
       "      <td>16.0</td>\n",
       "      <td>256.0</td>\n",
       "      <td>0.0</td>\n",
       "      <td>...</td>\n",
       "      <td>9.0</td>\n",
       "      <td>13.0</td>\n",
       "      <td>38.0</td>\n",
       "      <td>1.0</td>\n",
       "      <td>1.0</td>\n",
       "      <td>954.0</td>\n",
       "      <td>20.0</td>\n",
       "      <td>7.0</td>\n",
       "      <td>5.0</td>\n",
       "      <td>22.0</td>\n",
       "    </tr>\n",
       "    <tr>\n",
       "      <th>AAACGGGAGAGTCGGT-1</th>\n",
       "      <td>6.0</td>\n",
       "      <td>9.0</td>\n",
       "      <td>11.0</td>\n",
       "      <td>2.0</td>\n",
       "      <td>19.0</td>\n",
       "      <td>19.0</td>\n",
       "      <td>423.0</td>\n",
       "      <td>27.0</td>\n",
       "      <td>109.0</td>\n",
       "      <td>5.0</td>\n",
       "      <td>...</td>\n",
       "      <td>14.0</td>\n",
       "      <td>19.0</td>\n",
       "      <td>58.0</td>\n",
       "      <td>14.0</td>\n",
       "      <td>3.0</td>\n",
       "      <td>1231.0</td>\n",
       "      <td>17.0</td>\n",
       "      <td>7.0</td>\n",
       "      <td>5.0</td>\n",
       "      <td>30.0</td>\n",
       "    </tr>\n",
       "    <tr>\n",
       "      <th>AAACGGGAGCGGCTTC-1</th>\n",
       "      <td>9.0</td>\n",
       "      <td>11.0</td>\n",
       "      <td>14.0</td>\n",
       "      <td>4.0</td>\n",
       "      <td>20.0</td>\n",
       "      <td>172.0</td>\n",
       "      <td>184.0</td>\n",
       "      <td>29.0</td>\n",
       "      <td>159.0</td>\n",
       "      <td>5.0</td>\n",
       "      <td>...</td>\n",
       "      <td>14.0</td>\n",
       "      <td>24.0</td>\n",
       "      <td>89.0</td>\n",
       "      <td>3.0</td>\n",
       "      <td>3.0</td>\n",
       "      <td>779.0</td>\n",
       "      <td>18.0</td>\n",
       "      <td>16.0</td>\n",
       "      <td>7.0</td>\n",
       "      <td>23.0</td>\n",
       "    </tr>\n",
       "    <tr>\n",
       "      <th>...</th>\n",
       "      <td>...</td>\n",
       "      <td>...</td>\n",
       "      <td>...</td>\n",
       "      <td>...</td>\n",
       "      <td>...</td>\n",
       "      <td>...</td>\n",
       "      <td>...</td>\n",
       "      <td>...</td>\n",
       "      <td>...</td>\n",
       "      <td>...</td>\n",
       "      <td>...</td>\n",
       "      <td>...</td>\n",
       "      <td>...</td>\n",
       "      <td>...</td>\n",
       "      <td>...</td>\n",
       "      <td>...</td>\n",
       "      <td>...</td>\n",
       "      <td>...</td>\n",
       "      <td>...</td>\n",
       "      <td>...</td>\n",
       "      <td>...</td>\n",
       "    </tr>\n",
       "    <tr>\n",
       "      <th>TTTGTCACAATCGGTT-1</th>\n",
       "      <td>9.0</td>\n",
       "      <td>16.0</td>\n",
       "      <td>13.0</td>\n",
       "      <td>5.0</td>\n",
       "      <td>17.0</td>\n",
       "      <td>97.0</td>\n",
       "      <td>311.0</td>\n",
       "      <td>29.0</td>\n",
       "      <td>115.0</td>\n",
       "      <td>4.0</td>\n",
       "      <td>...</td>\n",
       "      <td>9.0</td>\n",
       "      <td>17.0</td>\n",
       "      <td>76.0</td>\n",
       "      <td>4.0</td>\n",
       "      <td>10.0</td>\n",
       "      <td>1350.0</td>\n",
       "      <td>22.0</td>\n",
       "      <td>9.0</td>\n",
       "      <td>8.0</td>\n",
       "      <td>20.0</td>\n",
       "    </tr>\n",
       "    <tr>\n",
       "      <th>TTTGTCACACGAGGTA-1</th>\n",
       "      <td>10.0</td>\n",
       "      <td>17.0</td>\n",
       "      <td>19.0</td>\n",
       "      <td>9.0</td>\n",
       "      <td>21.0</td>\n",
       "      <td>144.0</td>\n",
       "      <td>102.0</td>\n",
       "      <td>18.0</td>\n",
       "      <td>135.0</td>\n",
       "      <td>11.0</td>\n",
       "      <td>...</td>\n",
       "      <td>14.0</td>\n",
       "      <td>20.0</td>\n",
       "      <td>48.0</td>\n",
       "      <td>5.0</td>\n",
       "      <td>6.0</td>\n",
       "      <td>527.0</td>\n",
       "      <td>23.0</td>\n",
       "      <td>11.0</td>\n",
       "      <td>5.0</td>\n",
       "      <td>26.0</td>\n",
       "    </tr>\n",
       "    <tr>\n",
       "      <th>TTTGTCAGTATAGGTA-1</th>\n",
       "      <td>7.0</td>\n",
       "      <td>15.0</td>\n",
       "      <td>9.0</td>\n",
       "      <td>2.0</td>\n",
       "      <td>31.0</td>\n",
       "      <td>182.0</td>\n",
       "      <td>113.0</td>\n",
       "      <td>23.0</td>\n",
       "      <td>165.0</td>\n",
       "      <td>9.0</td>\n",
       "      <td>...</td>\n",
       "      <td>15.0</td>\n",
       "      <td>15.0</td>\n",
       "      <td>48.0</td>\n",
       "      <td>8.0</td>\n",
       "      <td>7.0</td>\n",
       "      <td>1090.0</td>\n",
       "      <td>13.0</td>\n",
       "      <td>12.0</td>\n",
       "      <td>4.0</td>\n",
       "      <td>22.0</td>\n",
       "    </tr>\n",
       "    <tr>\n",
       "      <th>TTTGTCAGTCGATTGT-1</th>\n",
       "      <td>11.0</td>\n",
       "      <td>15.0</td>\n",
       "      <td>10.0</td>\n",
       "      <td>6.0</td>\n",
       "      <td>25.0</td>\n",
       "      <td>79.0</td>\n",
       "      <td>79.0</td>\n",
       "      <td>21.0</td>\n",
       "      <td>68.0</td>\n",
       "      <td>9.0</td>\n",
       "      <td>...</td>\n",
       "      <td>3.0</td>\n",
       "      <td>16.0</td>\n",
       "      <td>26.0</td>\n",
       "      <td>5.0</td>\n",
       "      <td>2.0</td>\n",
       "      <td>475.0</td>\n",
       "      <td>22.0</td>\n",
       "      <td>6.0</td>\n",
       "      <td>4.0</td>\n",
       "      <td>22.0</td>\n",
       "    </tr>\n",
       "    <tr>\n",
       "      <th>TTTGTCATCTTCGAGA-1</th>\n",
       "      <td>8.0</td>\n",
       "      <td>21.0</td>\n",
       "      <td>20.0</td>\n",
       "      <td>8.0</td>\n",
       "      <td>20.0</td>\n",
       "      <td>29.0</td>\n",
       "      <td>271.0</td>\n",
       "      <td>11.0</td>\n",
       "      <td>77.0</td>\n",
       "      <td>4.0</td>\n",
       "      <td>...</td>\n",
       "      <td>9.0</td>\n",
       "      <td>17.0</td>\n",
       "      <td>49.0</td>\n",
       "      <td>10.0</td>\n",
       "      <td>8.0</td>\n",
       "      <td>527.0</td>\n",
       "      <td>10.0</td>\n",
       "      <td>2.0</td>\n",
       "      <td>4.0</td>\n",
       "      <td>26.0</td>\n",
       "    </tr>\n",
       "  </tbody>\n",
       "</table>\n",
       "<p>1753 rows × 33 columns</p>\n",
       "</div>"
      ],
      "text/plain": [
       "                    CD19-1  CD10  CD20   CD3  CD2-1  CD11b  HLADR  CD38-1  \\\n",
       "AAACCTGCAGATCTGT-1     9.0  25.0  29.0   7.0   40.0   60.0  162.0    31.0   \n",
       "AAACCTGTCCTGTACC-1     7.0  15.0  18.0   9.0   21.0   22.0  149.0    39.0   \n",
       "AAACGGGAGAGCTGCA-1     7.0  11.0  14.0  10.0   27.0   47.0  152.0    16.0   \n",
       "AAACGGGAGAGTCGGT-1     6.0   9.0  11.0   2.0   19.0   19.0  423.0    27.0   \n",
       "AAACGGGAGCGGCTTC-1     9.0  11.0  14.0   4.0   20.0  172.0  184.0    29.0   \n",
       "...                    ...   ...   ...   ...    ...    ...    ...     ...   \n",
       "TTTGTCACAATCGGTT-1     9.0  16.0  13.0   5.0   17.0   97.0  311.0    29.0   \n",
       "TTTGTCACACGAGGTA-1    10.0  17.0  19.0   9.0   21.0  144.0  102.0    18.0   \n",
       "TTTGTCAGTATAGGTA-1     7.0  15.0   9.0   2.0   31.0  182.0  113.0    23.0   \n",
       "TTTGTCAGTCGATTGT-1    11.0  15.0  10.0   6.0   25.0   79.0   79.0    21.0   \n",
       "TTTGTCATCTTCGAGA-1     8.0  21.0  20.0   8.0   20.0   29.0  271.0    11.0   \n",
       "\n",
       "                    CD11c  CD7-1  ...  CD5-1  CD15  CD64  CD117  CD24  CD44-1  \\\n",
       "AAACCTGCAGATCTGT-1  122.0   11.0  ...   20.0  31.0  80.0    9.0  11.0   539.0   \n",
       "AAACCTGTCCTGTACC-1   38.0   10.0  ...   15.0  23.0  29.0   43.0   5.0   695.0   \n",
       "AAACGGGAGAGCTGCA-1  256.0    0.0  ...    9.0  13.0  38.0    1.0   1.0   954.0   \n",
       "AAACGGGAGAGTCGGT-1  109.0    5.0  ...   14.0  19.0  58.0   14.0   3.0  1231.0   \n",
       "AAACGGGAGCGGCTTC-1  159.0    5.0  ...   14.0  24.0  89.0    3.0   3.0   779.0   \n",
       "...                   ...    ...  ...    ...   ...   ...    ...   ...     ...   \n",
       "TTTGTCACAATCGGTT-1  115.0    4.0  ...    9.0  17.0  76.0    4.0  10.0  1350.0   \n",
       "TTTGTCACACGAGGTA-1  135.0   11.0  ...   14.0  20.0  48.0    5.0   6.0   527.0   \n",
       "TTTGTCAGTATAGGTA-1  165.0    9.0  ...   15.0  15.0  48.0    8.0   7.0  1090.0   \n",
       "TTTGTCAGTCGATTGT-1   68.0    9.0  ...    3.0  16.0  26.0    5.0   2.0   475.0   \n",
       "TTTGTCATCTTCGAGA-1   77.0    4.0  ...    9.0  17.0  49.0   10.0   8.0   527.0   \n",
       "\n",
       "                    CD58-1  CD66ace  CD13  CD34-1  \n",
       "AAACCTGCAGATCTGT-1    23.0     10.0   8.0    48.0  \n",
       "AAACCTGTCCTGTACC-1    11.0      2.0   9.0    23.0  \n",
       "AAACGGGAGAGCTGCA-1    20.0      7.0   5.0    22.0  \n",
       "AAACGGGAGAGTCGGT-1    17.0      7.0   5.0    30.0  \n",
       "AAACGGGAGCGGCTTC-1    18.0     16.0   7.0    23.0  \n",
       "...                    ...      ...   ...     ...  \n",
       "TTTGTCACAATCGGTT-1    22.0      9.0   8.0    20.0  \n",
       "TTTGTCACACGAGGTA-1    23.0     11.0   5.0    26.0  \n",
       "TTTGTCAGTATAGGTA-1    13.0     12.0   4.0    22.0  \n",
       "TTTGTCAGTCGATTGT-1    22.0      6.0   4.0    22.0  \n",
       "TTTGTCATCTTCGAGA-1    10.0      2.0   4.0    26.0  \n",
       "\n",
       "[1753 rows x 33 columns]"
      ]
     },
     "execution_count": 141,
     "metadata": {},
     "output_type": "execute_result"
    }
   ],
   "source": [
    "adata.obsm['protein_expression']"
   ]
  },
  {
   "cell_type": "code",
   "execution_count": 142,
   "id": "d14a3182",
   "metadata": {},
   "outputs": [
    {
     "data": {
      "text/plain": [
       "AnnData object with n_obs × n_vars = 121340 × 8051\n",
       "    obs: 'cell_type', 'n_genes', 'percent_mito', 'percent_ribo', 'n_counts', 'leiden_r2', 'leiden_r2_n_genes_MAD_diff', 'leiden_r2_n_counts_MAD_diff', 'leiden_r2_percent_mito_MAD_diff', 'filter', 'model_group', 'BATCH', 'POOL', 'SAMPLE_SET', 'SAMPLE_TYPE', 'SAMPLE_TISSUE', 'DIAGNOSIS', 'SUBTYPE', 'STATUS', 'eg_code', 'leiden_r1', 'new_cell_type', 'batch_group'\n",
       "    uns: 'neighbors', 'new_cell_type_colors', 'umap'\n",
       "    obsm: 'X_pca', 'X_totalVI', 'X_umap', 'protein_expression', 'protein_expression_clr', 'protein_expression_dsb'\n",
       "    obsp: 'connectivities', 'distances'"
      ]
     },
     "execution_count": 142,
     "metadata": {},
     "output_type": "execute_result"
    }
   ],
   "source": [
    "adata2"
   ]
  },
  {
   "cell_type": "code",
   "execution_count": 143,
   "id": "15a5da3c",
   "metadata": {},
   "outputs": [
    {
     "data": {
      "text/plain": [
       "(1753, 8051)"
      ]
     },
     "execution_count": 143,
     "metadata": {},
     "output_type": "execute_result"
    }
   ],
   "source": [
    "adata_norm = adata2[adata2.obs[\"eg_code\"] == 'EG63']\n",
    "\n",
    "adata_norm.shape"
   ]
  },
  {
   "cell_type": "code",
   "execution_count": 144,
   "id": "678c87b4",
   "metadata": {},
   "outputs": [
    {
     "data": {
      "text/plain": [
       "Index(['AAACCTGCAGATCTGT-1-130', 'AAACCTGTCCTGTACC-1-130',\n",
       "       'AAACGGGAGAGCTGCA-1-130', 'AAACGGGAGAGTCGGT-1-130',\n",
       "       'AAACGGGAGCGGCTTC-1-130', 'AAACGGGGTCTAGGTT-1-130',\n",
       "       'AAACGGGTCCTCAATT-1-130', 'AAAGATGAGAGTCGGT-1-130',\n",
       "       'AAAGATGAGCCAACAG-1-130', 'AAAGATGCATGGAATA-1-130',\n",
       "       ...\n",
       "       'TTTGGTTAGAGTAATC-1-130', 'TTTGGTTCACACTGCG-1-130',\n",
       "       'TTTGGTTTCAAGAAGT-1-130', 'TTTGGTTTCATCTGCC-1-130',\n",
       "       'TTTGTCAAGTTGCAGG-1-130', 'TTTGTCACAATCGGTT-1-130',\n",
       "       'TTTGTCACACGAGGTA-1-130', 'TTTGTCAGTATAGGTA-1-130',\n",
       "       'TTTGTCAGTCGATTGT-1-130', 'TTTGTCATCTTCGAGA-1-130'],\n",
       "      dtype='object', length=1753)"
      ]
     },
     "execution_count": 144,
     "metadata": {},
     "output_type": "execute_result"
    }
   ],
   "source": [
    "adata_norm.obs.index"
   ]
  },
  {
   "cell_type": "code",
   "execution_count": 145,
   "id": "71e700aa",
   "metadata": {},
   "outputs": [
    {
     "data": {
      "text/plain": [
       "Index(['AAACCTGCAGATCTGT-1', 'AAACCTGTCCTGTACC-1', 'AAACGGGAGAGCTGCA-1',\n",
       "       'AAACGGGAGAGTCGGT-1', 'AAACGGGAGCGGCTTC-1', 'AAACGGGGTCTAGGTT-1',\n",
       "       'AAACGGGTCCTCAATT-1', 'AAAGATGAGAGTCGGT-1', 'AAAGATGAGCCAACAG-1',\n",
       "       'AAAGATGCATGGAATA-1',\n",
       "       ...\n",
       "       'TTTGGTTAGAGTAATC-1', 'TTTGGTTCACACTGCG-1', 'TTTGGTTTCAAGAAGT-1',\n",
       "       'TTTGGTTTCATCTGCC-1', 'TTTGTCAAGTTGCAGG-1', 'TTTGTCACAATCGGTT-1',\n",
       "       'TTTGTCACACGAGGTA-1', 'TTTGTCAGTATAGGTA-1', 'TTTGTCAGTCGATTGT-1',\n",
       "       'TTTGTCATCTTCGAGA-1'],\n",
       "      dtype='object', length=1753)"
      ]
     },
     "execution_count": 145,
     "metadata": {},
     "output_type": "execute_result"
    }
   ],
   "source": [
    "adata.obs.index"
   ]
  },
  {
   "cell_type": "code",
   "execution_count": null,
   "id": "d0eea7d4",
   "metadata": {},
   "outputs": [],
   "source": []
  },
  {
   "cell_type": "markdown",
   "id": "317dd712",
   "metadata": {},
   "source": [
    "## Adding normalized protein + fixing indexes"
   ]
  },
  {
   "cell_type": "code",
   "execution_count": 146,
   "id": "4d22f605",
   "metadata": {},
   "outputs": [
    {
     "data": {
      "text/plain": [
       "AnnData object with n_obs × n_vars = 1753 × 11647\n",
       "    obs: 'EG_code', 'leiden_r1', 'n_genes', 'percent_mito', 'percent_ribo', 'n_counts', 'leiden_r1_n_genes_MAD_diff', 'leiden_r1_n_counts_MAD_diff', 'leiden_r1_percent_mito_MAD_diff', 'filter'\n",
       "    var: 'gene_ids', 'feature_types', 'n_cells', 'highly_variable', 'means', 'dispersions', 'dispersions_norm'\n",
       "    uns: 'hvg', 'leiden_r1_colors', 'log1p', 'neighbors', 'pca', 'umap'\n",
       "    obsm: 'X_pca', 'X_umap', 'protein_expression'\n",
       "    varm: 'PCs'\n",
       "    obsp: 'connectivities', 'distances'"
      ]
     },
     "execution_count": 146,
     "metadata": {},
     "output_type": "execute_result"
    }
   ],
   "source": [
    "adata"
   ]
  },
  {
   "cell_type": "code",
   "execution_count": 147,
   "id": "72df7961",
   "metadata": {},
   "outputs": [
    {
     "data": {
      "text/plain": [
       "View of AnnData object with n_obs × n_vars = 1753 × 8051\n",
       "    obs: 'cell_type', 'n_genes', 'percent_mito', 'percent_ribo', 'n_counts', 'leiden_r2', 'leiden_r2_n_genes_MAD_diff', 'leiden_r2_n_counts_MAD_diff', 'leiden_r2_percent_mito_MAD_diff', 'filter', 'model_group', 'BATCH', 'POOL', 'SAMPLE_SET', 'SAMPLE_TYPE', 'SAMPLE_TISSUE', 'DIAGNOSIS', 'SUBTYPE', 'STATUS', 'eg_code', 'leiden_r1', 'new_cell_type', 'batch_group'\n",
       "    uns: 'neighbors', 'new_cell_type_colors', 'umap'\n",
       "    obsm: 'X_pca', 'X_totalVI', 'X_umap', 'protein_expression', 'protein_expression_clr', 'protein_expression_dsb'\n",
       "    obsp: 'connectivities', 'distances'"
      ]
     },
     "execution_count": 147,
     "metadata": {},
     "output_type": "execute_result"
    }
   ],
   "source": [
    "#protein info from adata_norm to adata with maching indexes\n",
    "adata_norm"
   ]
  },
  {
   "cell_type": "code",
   "execution_count": 148,
   "id": "10455ac0",
   "metadata": {},
   "outputs": [
    {
     "data": {
      "text/plain": [
       "['EG63']"
      ]
     },
     "execution_count": 148,
     "metadata": {},
     "output_type": "execute_result"
    }
   ],
   "source": [
    "eg_list=adata.obs[\"EG_code\"].unique().tolist()\n",
    "\n",
    "eg_list"
   ]
  },
  {
   "cell_type": "code",
   "execution_count": 149,
   "id": "67b6eaed",
   "metadata": {},
   "outputs": [],
   "source": [
    "result = None\n",
    "\n",
    "for eg in eg_list:\n",
    "    try:\n",
    "        tail = adata_norm.obs[adata_norm.obs[\"eg_code\"] == eg].index[0][-4:]\n",
    "        new_index=adata.obs[adata.obs[\"EG_code\"] == eg].index+tail\n",
    "        if result is None:\n",
    "            result=new_index.tolist()\n",
    "        else:\n",
    "            result+=(new_index.tolist())\n",
    "    except:\n",
    "        new_index=adata_norm.obs[adata_norm.obs[\"eg_code\"] == eg].index\n",
    "        result+=(new_index.tolist())"
   ]
  },
  {
   "cell_type": "code",
   "execution_count": 150,
   "id": "0c001e46",
   "metadata": {},
   "outputs": [
    {
     "data": {
      "text/plain": [
       "Index(['AAACCTGCAGATCTGT-1-130', 'AAACCTGTCCTGTACC-1-130',\n",
       "       'AAACGGGAGAGCTGCA-1-130', 'AAACGGGAGAGTCGGT-1-130',\n",
       "       'AAACGGGAGCGGCTTC-1-130', 'AAACGGGGTCTAGGTT-1-130',\n",
       "       'AAACGGGTCCTCAATT-1-130', 'AAAGATGAGAGTCGGT-1-130',\n",
       "       'AAAGATGAGCCAACAG-1-130', 'AAAGATGCATGGAATA-1-130',\n",
       "       ...\n",
       "       'TTTGGTTAGAGTAATC-1-130', 'TTTGGTTCACACTGCG-1-130',\n",
       "       'TTTGGTTTCAAGAAGT-1-130', 'TTTGGTTTCATCTGCC-1-130',\n",
       "       'TTTGTCAAGTTGCAGG-1-130', 'TTTGTCACAATCGGTT-1-130',\n",
       "       'TTTGTCACACGAGGTA-1-130', 'TTTGTCAGTATAGGTA-1-130',\n",
       "       'TTTGTCAGTCGATTGT-1-130', 'TTTGTCATCTTCGAGA-1-130'],\n",
       "      dtype='object', length=1753)"
      ]
     },
     "execution_count": 150,
     "metadata": {},
     "output_type": "execute_result"
    }
   ],
   "source": [
    "adata_norm.obs.index"
   ]
  },
  {
   "cell_type": "code",
   "execution_count": 151,
   "id": "550a9178",
   "metadata": {},
   "outputs": [
    {
     "data": {
      "text/plain": [
       "Index(['AAACCTGCAGATCTGT-1', 'AAACCTGTCCTGTACC-1', 'AAACGGGAGAGCTGCA-1',\n",
       "       'AAACGGGAGAGTCGGT-1', 'AAACGGGAGCGGCTTC-1', 'AAACGGGGTCTAGGTT-1',\n",
       "       'AAACGGGTCCTCAATT-1', 'AAAGATGAGAGTCGGT-1', 'AAAGATGAGCCAACAG-1',\n",
       "       'AAAGATGCATGGAATA-1',\n",
       "       ...\n",
       "       'TTTGGTTAGAGTAATC-1', 'TTTGGTTCACACTGCG-1', 'TTTGGTTTCAAGAAGT-1',\n",
       "       'TTTGGTTTCATCTGCC-1', 'TTTGTCAAGTTGCAGG-1', 'TTTGTCACAATCGGTT-1',\n",
       "       'TTTGTCACACGAGGTA-1', 'TTTGTCAGTATAGGTA-1', 'TTTGTCAGTCGATTGT-1',\n",
       "       'TTTGTCATCTTCGAGA-1'],\n",
       "      dtype='object', length=1753)"
      ]
     },
     "execution_count": 151,
     "metadata": {},
     "output_type": "execute_result"
    }
   ],
   "source": [
    "adata.obs.index"
   ]
  },
  {
   "cell_type": "code",
   "execution_count": 152,
   "id": "7e4cec5e",
   "metadata": {},
   "outputs": [],
   "source": [
    "adata.obs.index=pd.Index(result)"
   ]
  },
  {
   "cell_type": "code",
   "execution_count": 153,
   "id": "8ca034c3",
   "metadata": {},
   "outputs": [
    {
     "data": {
      "text/plain": [
       "Index(['AAACCTGCAGATCTGT-1-130', 'AAACCTGTCCTGTACC-1-130',\n",
       "       'AAACGGGAGAGCTGCA-1-130', 'AAACGGGAGAGTCGGT-1-130',\n",
       "       'AAACGGGAGCGGCTTC-1-130', 'AAACGGGGTCTAGGTT-1-130',\n",
       "       'AAACGGGTCCTCAATT-1-130', 'AAAGATGAGAGTCGGT-1-130',\n",
       "       'AAAGATGAGCCAACAG-1-130', 'AAAGATGCATGGAATA-1-130',\n",
       "       ...\n",
       "       'TTTGGTTAGAGTAATC-1-130', 'TTTGGTTCACACTGCG-1-130',\n",
       "       'TTTGGTTTCAAGAAGT-1-130', 'TTTGGTTTCATCTGCC-1-130',\n",
       "       'TTTGTCAAGTTGCAGG-1-130', 'TTTGTCACAATCGGTT-1-130',\n",
       "       'TTTGTCACACGAGGTA-1-130', 'TTTGTCAGTATAGGTA-1-130',\n",
       "       'TTTGTCAGTCGATTGT-1-130', 'TTTGTCATCTTCGAGA-1-130'],\n",
       "      dtype='object', length=1753)"
      ]
     },
     "execution_count": 153,
     "metadata": {},
     "output_type": "execute_result"
    }
   ],
   "source": [
    "adata.obs.index"
   ]
  },
  {
   "cell_type": "code",
   "execution_count": 154,
   "id": "5bb58169",
   "metadata": {},
   "outputs": [
    {
     "data": {
      "text/plain": [
       "0"
      ]
     },
     "execution_count": 154,
     "metadata": {},
     "output_type": "execute_result"
    }
   ],
   "source": [
    "#all indexes the same\n",
    "\n",
    "(~(adata.obs.index == adata_norm.obs.index)).sum()"
   ]
  },
  {
   "cell_type": "code",
   "execution_count": 155,
   "id": "15cd56b7",
   "metadata": {},
   "outputs": [
    {
     "data": {
      "text/plain": [
       "View of AnnData object with n_obs × n_vars = 1753 × 8051\n",
       "    obs: 'cell_type', 'n_genes', 'percent_mito', 'percent_ribo', 'n_counts', 'leiden_r2', 'leiden_r2_n_genes_MAD_diff', 'leiden_r2_n_counts_MAD_diff', 'leiden_r2_percent_mito_MAD_diff', 'filter', 'model_group', 'BATCH', 'POOL', 'SAMPLE_SET', 'SAMPLE_TYPE', 'SAMPLE_TISSUE', 'DIAGNOSIS', 'SUBTYPE', 'STATUS', 'eg_code', 'leiden_r1', 'new_cell_type', 'batch_group'\n",
       "    uns: 'neighbors', 'new_cell_type_colors', 'umap'\n",
       "    obsm: 'X_pca', 'X_totalVI', 'X_umap', 'protein_expression', 'protein_expression_clr', 'protein_expression_dsb'\n",
       "    obsp: 'connectivities', 'distances'"
      ]
     },
     "execution_count": 155,
     "metadata": {},
     "output_type": "execute_result"
    }
   ],
   "source": [
    "adata_norm"
   ]
  },
  {
   "cell_type": "code",
   "execution_count": 156,
   "id": "fd7f5081",
   "metadata": {},
   "outputs": [
    {
     "data": {
      "text/plain": [
       "Index(['AAACCTGCAGATCTGT-1-130', 'AAACCTGTCCTGTACC-1-130',\n",
       "       'AAACGGGAGAGCTGCA-1-130', 'AAACGGGAGAGTCGGT-1-130',\n",
       "       'AAACGGGAGCGGCTTC-1-130', 'AAACGGGGTCTAGGTT-1-130',\n",
       "       'AAACGGGTCCTCAATT-1-130', 'AAAGATGAGAGTCGGT-1-130',\n",
       "       'AAAGATGAGCCAACAG-1-130', 'AAAGATGCATGGAATA-1-130',\n",
       "       ...\n",
       "       'TTTGGTTAGAGTAATC-1-130', 'TTTGGTTCACACTGCG-1-130',\n",
       "       'TTTGGTTTCAAGAAGT-1-130', 'TTTGGTTTCATCTGCC-1-130',\n",
       "       'TTTGTCAAGTTGCAGG-1-130', 'TTTGTCACAATCGGTT-1-130',\n",
       "       'TTTGTCACACGAGGTA-1-130', 'TTTGTCAGTATAGGTA-1-130',\n",
       "       'TTTGTCAGTCGATTGT-1-130', 'TTTGTCATCTTCGAGA-1-130'],\n",
       "      dtype='object', length=1753)"
      ]
     },
     "execution_count": 156,
     "metadata": {},
     "output_type": "execute_result"
    }
   ],
   "source": [
    "adata_norm.obsm['protein_expression_clr'].index"
   ]
  },
  {
   "cell_type": "code",
   "execution_count": 157,
   "id": "6342d7bb",
   "metadata": {},
   "outputs": [],
   "source": [
    "clr = adata_norm.obsm['protein_expression_clr']\n",
    "\n",
    "dsb = adata_norm.obsm['protein_expression_dsb']"
   ]
  },
  {
   "cell_type": "code",
   "execution_count": 158,
   "id": "23e93058",
   "metadata": {},
   "outputs": [
    {
     "data": {
      "text/plain": [
       "View of AnnData object with n_obs × n_vars = 1753 × 8051\n",
       "    obs: 'cell_type', 'n_genes', 'percent_mito', 'percent_ribo', 'n_counts', 'leiden_r2', 'leiden_r2_n_genes_MAD_diff', 'leiden_r2_n_counts_MAD_diff', 'leiden_r2_percent_mito_MAD_diff', 'filter', 'model_group', 'BATCH', 'POOL', 'SAMPLE_SET', 'SAMPLE_TYPE', 'SAMPLE_TISSUE', 'DIAGNOSIS', 'SUBTYPE', 'STATUS', 'eg_code', 'leiden_r1', 'new_cell_type', 'batch_group'\n",
       "    uns: 'neighbors', 'new_cell_type_colors', 'umap'\n",
       "    obsm: 'X_pca', 'X_totalVI', 'X_umap', 'protein_expression', 'protein_expression_clr', 'protein_expression_dsb'\n",
       "    obsp: 'connectivities', 'distances'"
      ]
     },
     "execution_count": 158,
     "metadata": {},
     "output_type": "execute_result"
    }
   ],
   "source": [
    "adata_norm"
   ]
  },
  {
   "cell_type": "code",
   "execution_count": 159,
   "id": "3238534f",
   "metadata": {},
   "outputs": [],
   "source": [
    "adata.obsm = adata_norm.obsm"
   ]
  },
  {
   "cell_type": "code",
   "execution_count": 160,
   "id": "4688a5a5",
   "metadata": {},
   "outputs": [
    {
     "data": {
      "text/plain": [
       "AxisArrays with keys: X_pca, X_totalVI, X_umap, protein_expression, protein_expression_clr, protein_expression_dsb"
      ]
     },
     "execution_count": 160,
     "metadata": {},
     "output_type": "execute_result"
    }
   ],
   "source": [
    "adata.obsm"
   ]
  },
  {
   "cell_type": "code",
   "execution_count": 161,
   "id": "e393b292",
   "metadata": {},
   "outputs": [],
   "source": [
    "adata.obs = adata_norm.obs"
   ]
  },
  {
   "cell_type": "code",
   "execution_count": 162,
   "id": "a81de2fa",
   "metadata": {},
   "outputs": [],
   "source": [
    "#save the file!\n",
    "\n",
    "adata.write('/Users/tiinatuononen/Desktop/Thesis/Project/data/EG63_norm.h5ad')"
   ]
  },
  {
   "cell_type": "code",
   "execution_count": null,
   "id": "4fc8fe1d",
   "metadata": {},
   "outputs": [],
   "source": []
  },
  {
   "cell_type": "code",
   "execution_count": null,
   "id": "e79c9885",
   "metadata": {},
   "outputs": [],
   "source": []
  },
  {
   "cell_type": "code",
   "execution_count": null,
   "id": "1bfd0efa",
   "metadata": {},
   "outputs": [],
   "source": []
  }
 ],
 "metadata": {
  "kernelspec": {
   "display_name": "tiina-env",
   "language": "python",
   "name": "tiina-env"
  },
  "language_info": {
   "codemirror_mode": {
    "name": "ipython",
    "version": 3
   },
   "file_extension": ".py",
   "mimetype": "text/x-python",
   "name": "python",
   "nbconvert_exporter": "python",
   "pygments_lexer": "ipython3",
   "version": "3.10.6"
  }
 },
 "nbformat": 4,
 "nbformat_minor": 5
}
