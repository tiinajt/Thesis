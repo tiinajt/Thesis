{
 "cells": [
  {
   "cell_type": "markdown",
   "id": "290ae441",
   "metadata": {},
   "source": [
    "# UMAPs Neurips samples, NK cells"
   ]
  },
  {
   "cell_type": "code",
   "execution_count": 28,
   "id": "a3e0c4fa",
   "metadata": {},
   "outputs": [],
   "source": [
    "import pandas as pd\n",
    "import numpy as np\n",
    "import matplotlib.pyplot as plt\n",
    "import seaborn as sns\n",
    "import anndata as ad\n",
    "import scvi\n",
    "import scanpy as sc\n",
    "import umap\n",
    "\n",
    "from ridgeplot import ridgeplot\n",
    "\n",
    "import warnings\n",
    "\n",
    "warnings.filterwarnings('ignore')\n",
    "\n"
   ]
  },
  {
   "cell_type": "code",
   "execution_count": 29,
   "id": "51e5dc93",
   "metadata": {},
   "outputs": [],
   "source": [
    "#Easigenomics dataset, only one sample\n",
    "\n",
    "adata1 = sc.read_h5ad('/Users/tiinatuononen/Desktop/Thesis/Project/data/easi/EG47.h5ad')"
   ]
  },
  {
   "cell_type": "code",
   "execution_count": 30,
   "id": "973c36df",
   "metadata": {},
   "outputs": [],
   "source": [
    "adata = adata1.copy()"
   ]
  },
  {
   "cell_type": "code",
   "execution_count": 31,
   "id": "18aaff7c",
   "metadata": {},
   "outputs": [],
   "source": [
    "#wholeEasigenomics dataset\n",
    "\n",
    "adata_2 = sc.read_h5ad('/Users/tiinatuononen/Desktop/Thesis/Project/data/adata_easi_norm.h5ad')"
   ]
  },
  {
   "cell_type": "code",
   "execution_count": 32,
   "id": "4465aef1",
   "metadata": {},
   "outputs": [],
   "source": [
    "adata2 = adata_2.copy()"
   ]
  },
  {
   "cell_type": "code",
   "execution_count": 33,
   "id": "68c512a0",
   "metadata": {},
   "outputs": [
    {
     "data": {
      "text/html": [
       "<div>\n",
       "<style scoped>\n",
       "    .dataframe tbody tr th:only-of-type {\n",
       "        vertical-align: middle;\n",
       "    }\n",
       "\n",
       "    .dataframe tbody tr th {\n",
       "        vertical-align: top;\n",
       "    }\n",
       "\n",
       "    .dataframe thead th {\n",
       "        text-align: right;\n",
       "    }\n",
       "</style>\n",
       "<table border=\"1\" class=\"dataframe\">\n",
       "  <thead>\n",
       "    <tr style=\"text-align: right;\">\n",
       "      <th></th>\n",
       "      <th>CD19-1</th>\n",
       "      <th>CD10</th>\n",
       "      <th>CD20</th>\n",
       "      <th>CD3</th>\n",
       "      <th>CD2-1</th>\n",
       "      <th>CD11b</th>\n",
       "      <th>HLADR</th>\n",
       "      <th>CD38-1</th>\n",
       "      <th>CD11c</th>\n",
       "      <th>CD7-1</th>\n",
       "      <th>...</th>\n",
       "      <th>CD5-1</th>\n",
       "      <th>CD15</th>\n",
       "      <th>CD64</th>\n",
       "      <th>CD117</th>\n",
       "      <th>CD24</th>\n",
       "      <th>CD44-1</th>\n",
       "      <th>CD58-1</th>\n",
       "      <th>CD66ace</th>\n",
       "      <th>CD13</th>\n",
       "      <th>CD34-1</th>\n",
       "    </tr>\n",
       "  </thead>\n",
       "  <tbody>\n",
       "    <tr>\n",
       "      <th>AAACCTGCAGTATAAG-1</th>\n",
       "      <td>4.0</td>\n",
       "      <td>6.0</td>\n",
       "      <td>5.0</td>\n",
       "      <td>5.0</td>\n",
       "      <td>53.0</td>\n",
       "      <td>14.0</td>\n",
       "      <td>9.0</td>\n",
       "      <td>6.0</td>\n",
       "      <td>6.0</td>\n",
       "      <td>4.0</td>\n",
       "      <td>...</td>\n",
       "      <td>15.0</td>\n",
       "      <td>4.0</td>\n",
       "      <td>10.0</td>\n",
       "      <td>3.0</td>\n",
       "      <td>4.0</td>\n",
       "      <td>71.0</td>\n",
       "      <td>8.0</td>\n",
       "      <td>9.0</td>\n",
       "      <td>1.0</td>\n",
       "      <td>9.0</td>\n",
       "    </tr>\n",
       "    <tr>\n",
       "      <th>AAACCTGCATGCCTTC-1</th>\n",
       "      <td>3.0</td>\n",
       "      <td>7.0</td>\n",
       "      <td>11.0</td>\n",
       "      <td>2.0</td>\n",
       "      <td>22.0</td>\n",
       "      <td>9.0</td>\n",
       "      <td>7.0</td>\n",
       "      <td>2.0</td>\n",
       "      <td>7.0</td>\n",
       "      <td>9.0</td>\n",
       "      <td>...</td>\n",
       "      <td>14.0</td>\n",
       "      <td>5.0</td>\n",
       "      <td>3.0</td>\n",
       "      <td>2.0</td>\n",
       "      <td>1.0</td>\n",
       "      <td>66.0</td>\n",
       "      <td>1.0</td>\n",
       "      <td>2.0</td>\n",
       "      <td>2.0</td>\n",
       "      <td>11.0</td>\n",
       "    </tr>\n",
       "    <tr>\n",
       "      <th>AAACCTGGTAAGGGAA-1</th>\n",
       "      <td>6.0</td>\n",
       "      <td>3.0</td>\n",
       "      <td>3.0</td>\n",
       "      <td>4.0</td>\n",
       "      <td>15.0</td>\n",
       "      <td>5.0</td>\n",
       "      <td>30.0</td>\n",
       "      <td>4.0</td>\n",
       "      <td>5.0</td>\n",
       "      <td>1.0</td>\n",
       "      <td>...</td>\n",
       "      <td>6.0</td>\n",
       "      <td>6.0</td>\n",
       "      <td>4.0</td>\n",
       "      <td>4.0</td>\n",
       "      <td>2.0</td>\n",
       "      <td>39.0</td>\n",
       "      <td>2.0</td>\n",
       "      <td>2.0</td>\n",
       "      <td>1.0</td>\n",
       "      <td>10.0</td>\n",
       "    </tr>\n",
       "    <tr>\n",
       "      <th>AAACCTGGTCAATGTC-1</th>\n",
       "      <td>6.0</td>\n",
       "      <td>5.0</td>\n",
       "      <td>7.0</td>\n",
       "      <td>5.0</td>\n",
       "      <td>36.0</td>\n",
       "      <td>8.0</td>\n",
       "      <td>9.0</td>\n",
       "      <td>6.0</td>\n",
       "      <td>4.0</td>\n",
       "      <td>3.0</td>\n",
       "      <td>...</td>\n",
       "      <td>6.0</td>\n",
       "      <td>2.0</td>\n",
       "      <td>2.0</td>\n",
       "      <td>6.0</td>\n",
       "      <td>3.0</td>\n",
       "      <td>29.0</td>\n",
       "      <td>3.0</td>\n",
       "      <td>6.0</td>\n",
       "      <td>4.0</td>\n",
       "      <td>7.0</td>\n",
       "    </tr>\n",
       "    <tr>\n",
       "      <th>AAACCTGTCGACGGAA-1</th>\n",
       "      <td>2.0</td>\n",
       "      <td>4.0</td>\n",
       "      <td>4.0</td>\n",
       "      <td>2.0</td>\n",
       "      <td>33.0</td>\n",
       "      <td>10.0</td>\n",
       "      <td>8.0</td>\n",
       "      <td>1.0</td>\n",
       "      <td>6.0</td>\n",
       "      <td>17.0</td>\n",
       "      <td>...</td>\n",
       "      <td>3.0</td>\n",
       "      <td>9.0</td>\n",
       "      <td>0.0</td>\n",
       "      <td>3.0</td>\n",
       "      <td>1.0</td>\n",
       "      <td>55.0</td>\n",
       "      <td>6.0</td>\n",
       "      <td>1.0</td>\n",
       "      <td>3.0</td>\n",
       "      <td>5.0</td>\n",
       "    </tr>\n",
       "    <tr>\n",
       "      <th>...</th>\n",
       "      <td>...</td>\n",
       "      <td>...</td>\n",
       "      <td>...</td>\n",
       "      <td>...</td>\n",
       "      <td>...</td>\n",
       "      <td>...</td>\n",
       "      <td>...</td>\n",
       "      <td>...</td>\n",
       "      <td>...</td>\n",
       "      <td>...</td>\n",
       "      <td>...</td>\n",
       "      <td>...</td>\n",
       "      <td>...</td>\n",
       "      <td>...</td>\n",
       "      <td>...</td>\n",
       "      <td>...</td>\n",
       "      <td>...</td>\n",
       "      <td>...</td>\n",
       "      <td>...</td>\n",
       "      <td>...</td>\n",
       "      <td>...</td>\n",
       "    </tr>\n",
       "    <tr>\n",
       "      <th>TTTGTCAAGAGGGATA-1</th>\n",
       "      <td>2.0</td>\n",
       "      <td>5.0</td>\n",
       "      <td>9.0</td>\n",
       "      <td>6.0</td>\n",
       "      <td>18.0</td>\n",
       "      <td>22.0</td>\n",
       "      <td>12.0</td>\n",
       "      <td>2.0</td>\n",
       "      <td>17.0</td>\n",
       "      <td>3.0</td>\n",
       "      <td>...</td>\n",
       "      <td>3.0</td>\n",
       "      <td>11.0</td>\n",
       "      <td>8.0</td>\n",
       "      <td>7.0</td>\n",
       "      <td>2.0</td>\n",
       "      <td>118.0</td>\n",
       "      <td>3.0</td>\n",
       "      <td>4.0</td>\n",
       "      <td>5.0</td>\n",
       "      <td>11.0</td>\n",
       "    </tr>\n",
       "    <tr>\n",
       "      <th>TTTGTCAAGCGTGAGT-1</th>\n",
       "      <td>5.0</td>\n",
       "      <td>7.0</td>\n",
       "      <td>4.0</td>\n",
       "      <td>0.0</td>\n",
       "      <td>9.0</td>\n",
       "      <td>5.0</td>\n",
       "      <td>17.0</td>\n",
       "      <td>4.0</td>\n",
       "      <td>10.0</td>\n",
       "      <td>4.0</td>\n",
       "      <td>...</td>\n",
       "      <td>2.0</td>\n",
       "      <td>9.0</td>\n",
       "      <td>3.0</td>\n",
       "      <td>6.0</td>\n",
       "      <td>4.0</td>\n",
       "      <td>15.0</td>\n",
       "      <td>2.0</td>\n",
       "      <td>2.0</td>\n",
       "      <td>3.0</td>\n",
       "      <td>9.0</td>\n",
       "    </tr>\n",
       "    <tr>\n",
       "      <th>TTTGTCACACCGGAAA-1</th>\n",
       "      <td>5.0</td>\n",
       "      <td>9.0</td>\n",
       "      <td>5.0</td>\n",
       "      <td>2.0</td>\n",
       "      <td>37.0</td>\n",
       "      <td>6.0</td>\n",
       "      <td>6.0</td>\n",
       "      <td>2.0</td>\n",
       "      <td>1.0</td>\n",
       "      <td>17.0</td>\n",
       "      <td>...</td>\n",
       "      <td>4.0</td>\n",
       "      <td>10.0</td>\n",
       "      <td>4.0</td>\n",
       "      <td>1.0</td>\n",
       "      <td>2.0</td>\n",
       "      <td>47.0</td>\n",
       "      <td>3.0</td>\n",
       "      <td>4.0</td>\n",
       "      <td>5.0</td>\n",
       "      <td>3.0</td>\n",
       "    </tr>\n",
       "    <tr>\n",
       "      <th>TTTGTCACATGCATGT-1</th>\n",
       "      <td>1.0</td>\n",
       "      <td>3.0</td>\n",
       "      <td>4.0</td>\n",
       "      <td>2.0</td>\n",
       "      <td>39.0</td>\n",
       "      <td>4.0</td>\n",
       "      <td>5.0</td>\n",
       "      <td>2.0</td>\n",
       "      <td>4.0</td>\n",
       "      <td>0.0</td>\n",
       "      <td>...</td>\n",
       "      <td>16.0</td>\n",
       "      <td>5.0</td>\n",
       "      <td>1.0</td>\n",
       "      <td>1.0</td>\n",
       "      <td>1.0</td>\n",
       "      <td>61.0</td>\n",
       "      <td>4.0</td>\n",
       "      <td>6.0</td>\n",
       "      <td>0.0</td>\n",
       "      <td>7.0</td>\n",
       "    </tr>\n",
       "    <tr>\n",
       "      <th>TTTGTCATCAAAGTAG-1</th>\n",
       "      <td>6.0</td>\n",
       "      <td>6.0</td>\n",
       "      <td>6.0</td>\n",
       "      <td>5.0</td>\n",
       "      <td>42.0</td>\n",
       "      <td>5.0</td>\n",
       "      <td>12.0</td>\n",
       "      <td>1.0</td>\n",
       "      <td>7.0</td>\n",
       "      <td>4.0</td>\n",
       "      <td>...</td>\n",
       "      <td>10.0</td>\n",
       "      <td>9.0</td>\n",
       "      <td>3.0</td>\n",
       "      <td>4.0</td>\n",
       "      <td>3.0</td>\n",
       "      <td>35.0</td>\n",
       "      <td>0.0</td>\n",
       "      <td>0.0</td>\n",
       "      <td>1.0</td>\n",
       "      <td>12.0</td>\n",
       "    </tr>\n",
       "  </tbody>\n",
       "</table>\n",
       "<p>3523 rows × 33 columns</p>\n",
       "</div>"
      ],
      "text/plain": [
       "                    CD19-1  CD10  CD20  CD3  CD2-1  CD11b  HLADR  CD38-1  \\\n",
       "AAACCTGCAGTATAAG-1     4.0   6.0   5.0  5.0   53.0   14.0    9.0     6.0   \n",
       "AAACCTGCATGCCTTC-1     3.0   7.0  11.0  2.0   22.0    9.0    7.0     2.0   \n",
       "AAACCTGGTAAGGGAA-1     6.0   3.0   3.0  4.0   15.0    5.0   30.0     4.0   \n",
       "AAACCTGGTCAATGTC-1     6.0   5.0   7.0  5.0   36.0    8.0    9.0     6.0   \n",
       "AAACCTGTCGACGGAA-1     2.0   4.0   4.0  2.0   33.0   10.0    8.0     1.0   \n",
       "...                    ...   ...   ...  ...    ...    ...    ...     ...   \n",
       "TTTGTCAAGAGGGATA-1     2.0   5.0   9.0  6.0   18.0   22.0   12.0     2.0   \n",
       "TTTGTCAAGCGTGAGT-1     5.0   7.0   4.0  0.0    9.0    5.0   17.0     4.0   \n",
       "TTTGTCACACCGGAAA-1     5.0   9.0   5.0  2.0   37.0    6.0    6.0     2.0   \n",
       "TTTGTCACATGCATGT-1     1.0   3.0   4.0  2.0   39.0    4.0    5.0     2.0   \n",
       "TTTGTCATCAAAGTAG-1     6.0   6.0   6.0  5.0   42.0    5.0   12.0     1.0   \n",
       "\n",
       "                    CD11c  CD7-1  ...  CD5-1  CD15  CD64  CD117  CD24  CD44-1  \\\n",
       "AAACCTGCAGTATAAG-1    6.0    4.0  ...   15.0   4.0  10.0    3.0   4.0    71.0   \n",
       "AAACCTGCATGCCTTC-1    7.0    9.0  ...   14.0   5.0   3.0    2.0   1.0    66.0   \n",
       "AAACCTGGTAAGGGAA-1    5.0    1.0  ...    6.0   6.0   4.0    4.0   2.0    39.0   \n",
       "AAACCTGGTCAATGTC-1    4.0    3.0  ...    6.0   2.0   2.0    6.0   3.0    29.0   \n",
       "AAACCTGTCGACGGAA-1    6.0   17.0  ...    3.0   9.0   0.0    3.0   1.0    55.0   \n",
       "...                   ...    ...  ...    ...   ...   ...    ...   ...     ...   \n",
       "TTTGTCAAGAGGGATA-1   17.0    3.0  ...    3.0  11.0   8.0    7.0   2.0   118.0   \n",
       "TTTGTCAAGCGTGAGT-1   10.0    4.0  ...    2.0   9.0   3.0    6.0   4.0    15.0   \n",
       "TTTGTCACACCGGAAA-1    1.0   17.0  ...    4.0  10.0   4.0    1.0   2.0    47.0   \n",
       "TTTGTCACATGCATGT-1    4.0    0.0  ...   16.0   5.0   1.0    1.0   1.0    61.0   \n",
       "TTTGTCATCAAAGTAG-1    7.0    4.0  ...   10.0   9.0   3.0    4.0   3.0    35.0   \n",
       "\n",
       "                    CD58-1  CD66ace  CD13  CD34-1  \n",
       "AAACCTGCAGTATAAG-1     8.0      9.0   1.0     9.0  \n",
       "AAACCTGCATGCCTTC-1     1.0      2.0   2.0    11.0  \n",
       "AAACCTGGTAAGGGAA-1     2.0      2.0   1.0    10.0  \n",
       "AAACCTGGTCAATGTC-1     3.0      6.0   4.0     7.0  \n",
       "AAACCTGTCGACGGAA-1     6.0      1.0   3.0     5.0  \n",
       "...                    ...      ...   ...     ...  \n",
       "TTTGTCAAGAGGGATA-1     3.0      4.0   5.0    11.0  \n",
       "TTTGTCAAGCGTGAGT-1     2.0      2.0   3.0     9.0  \n",
       "TTTGTCACACCGGAAA-1     3.0      4.0   5.0     3.0  \n",
       "TTTGTCACATGCATGT-1     4.0      6.0   0.0     7.0  \n",
       "TTTGTCATCAAAGTAG-1     0.0      0.0   1.0    12.0  \n",
       "\n",
       "[3523 rows x 33 columns]"
      ]
     },
     "execution_count": 33,
     "metadata": {},
     "output_type": "execute_result"
    }
   ],
   "source": [
    "adata.obsm['protein_expression']"
   ]
  },
  {
   "cell_type": "code",
   "execution_count": 34,
   "id": "d14a3182",
   "metadata": {},
   "outputs": [
    {
     "data": {
      "text/plain": [
       "AnnData object with n_obs × n_vars = 121340 × 8051\n",
       "    obs: 'cell_type', 'n_genes', 'percent_mito', 'percent_ribo', 'n_counts', 'leiden_r2', 'leiden_r2_n_genes_MAD_diff', 'leiden_r2_n_counts_MAD_diff', 'leiden_r2_percent_mito_MAD_diff', 'filter', 'model_group', 'BATCH', 'POOL', 'SAMPLE_SET', 'SAMPLE_TYPE', 'SAMPLE_TISSUE', 'DIAGNOSIS', 'SUBTYPE', 'STATUS', 'eg_code', 'leiden_r1', 'new_cell_type', 'batch_group'\n",
       "    uns: 'neighbors', 'new_cell_type_colors', 'umap'\n",
       "    obsm: 'X_pca', 'X_totalVI', 'X_umap', 'protein_expression', 'protein_expression_clr', 'protein_expression_dsb'\n",
       "    obsp: 'connectivities', 'distances'"
      ]
     },
     "execution_count": 34,
     "metadata": {},
     "output_type": "execute_result"
    }
   ],
   "source": [
    "adata2"
   ]
  },
  {
   "cell_type": "code",
   "execution_count": 35,
   "id": "15a5da3c",
   "metadata": {},
   "outputs": [
    {
     "data": {
      "text/plain": [
       "(3523, 8051)"
      ]
     },
     "execution_count": 35,
     "metadata": {},
     "output_type": "execute_result"
    }
   ],
   "source": [
    "adata_norm = adata2[adata2.obs[\"eg_code\"] == 'EG47']\n",
    "\n",
    "adata_norm.shape"
   ]
  },
  {
   "cell_type": "code",
   "execution_count": 36,
   "id": "678c87b4",
   "metadata": {},
   "outputs": [
    {
     "data": {
      "text/plain": [
       "Index(['AAACCTGCAGTATAAG-1-145', 'AAACCTGCATGCCTTC-1-145',\n",
       "       'AAACCTGGTAAGGGAA-1-145', 'AAACCTGGTCAATGTC-1-145',\n",
       "       'AAACCTGTCGACGGAA-1-145', 'AAACCTGTCGGAAATA-1-145',\n",
       "       'AAACCTGTCGTCACGG-1-145', 'AAACGGGAGCGTAGTG-1-145',\n",
       "       'AAACGGGCAATGAATG-1-145', 'AAACGGGGTAATTGGA-1-145',\n",
       "       ...\n",
       "       'TTTGGTTAGTCCGGTC-1-145', 'TTTGGTTCAGTAAGCG-1-145',\n",
       "       'TTTGGTTGTTAAGACA-1-145', 'TTTGGTTTCCTAGAAC-1-145',\n",
       "       'TTTGGTTTCGGATGGA-1-145', 'TTTGTCAAGAGGGATA-1-145',\n",
       "       'TTTGTCAAGCGTGAGT-1-145', 'TTTGTCACACCGGAAA-1-145',\n",
       "       'TTTGTCACATGCATGT-1-145', 'TTTGTCATCAAAGTAG-1-145'],\n",
       "      dtype='object', length=3523)"
      ]
     },
     "execution_count": 36,
     "metadata": {},
     "output_type": "execute_result"
    }
   ],
   "source": [
    "adata_norm.obs.index"
   ]
  },
  {
   "cell_type": "code",
   "execution_count": 37,
   "id": "71e700aa",
   "metadata": {},
   "outputs": [
    {
     "data": {
      "text/plain": [
       "Index(['AAACCTGCAGTATAAG-1', 'AAACCTGCATGCCTTC-1', 'AAACCTGGTAAGGGAA-1',\n",
       "       'AAACCTGGTCAATGTC-1', 'AAACCTGTCGACGGAA-1', 'AAACCTGTCGGAAATA-1',\n",
       "       'AAACCTGTCGTCACGG-1', 'AAACGGGAGCGTAGTG-1', 'AAACGGGCAATGAATG-1',\n",
       "       'AAACGGGGTAATTGGA-1',\n",
       "       ...\n",
       "       'TTTGGTTAGTCCGGTC-1', 'TTTGGTTCAGTAAGCG-1', 'TTTGGTTGTTAAGACA-1',\n",
       "       'TTTGGTTTCCTAGAAC-1', 'TTTGGTTTCGGATGGA-1', 'TTTGTCAAGAGGGATA-1',\n",
       "       'TTTGTCAAGCGTGAGT-1', 'TTTGTCACACCGGAAA-1', 'TTTGTCACATGCATGT-1',\n",
       "       'TTTGTCATCAAAGTAG-1'],\n",
       "      dtype='object', length=3523)"
      ]
     },
     "execution_count": 37,
     "metadata": {},
     "output_type": "execute_result"
    }
   ],
   "source": [
    "adata.obs.index"
   ]
  },
  {
   "cell_type": "code",
   "execution_count": null,
   "id": "d0eea7d4",
   "metadata": {},
   "outputs": [],
   "source": []
  },
  {
   "cell_type": "markdown",
   "id": "317dd712",
   "metadata": {},
   "source": [
    "## Adding normalized protein + fixing indexes"
   ]
  },
  {
   "cell_type": "code",
   "execution_count": 38,
   "id": "4d22f605",
   "metadata": {},
   "outputs": [
    {
     "data": {
      "text/plain": [
       "AnnData object with n_obs × n_vars = 3523 × 13827\n",
       "    obs: 'EG_code', 'leiden_r1', 'n_genes', 'percent_mito', 'percent_ribo', 'n_counts', 'leiden_r1_n_genes_MAD_diff', 'leiden_r1_n_counts_MAD_diff', 'leiden_r1_percent_mito_MAD_diff', 'filter'\n",
       "    var: 'gene_ids', 'feature_types', 'n_cells', 'highly_variable', 'means', 'dispersions', 'dispersions_norm'\n",
       "    uns: 'hvg', 'leiden_r1_colors', 'log1p', 'neighbors', 'pca', 'umap'\n",
       "    obsm: 'X_pca', 'X_umap', 'protein_expression'\n",
       "    varm: 'PCs'\n",
       "    obsp: 'connectivities', 'distances'"
      ]
     },
     "execution_count": 38,
     "metadata": {},
     "output_type": "execute_result"
    }
   ],
   "source": [
    "adata"
   ]
  },
  {
   "cell_type": "code",
   "execution_count": 39,
   "id": "72df7961",
   "metadata": {},
   "outputs": [
    {
     "data": {
      "text/plain": [
       "View of AnnData object with n_obs × n_vars = 3523 × 8051\n",
       "    obs: 'cell_type', 'n_genes', 'percent_mito', 'percent_ribo', 'n_counts', 'leiden_r2', 'leiden_r2_n_genes_MAD_diff', 'leiden_r2_n_counts_MAD_diff', 'leiden_r2_percent_mito_MAD_diff', 'filter', 'model_group', 'BATCH', 'POOL', 'SAMPLE_SET', 'SAMPLE_TYPE', 'SAMPLE_TISSUE', 'DIAGNOSIS', 'SUBTYPE', 'STATUS', 'eg_code', 'leiden_r1', 'new_cell_type', 'batch_group'\n",
       "    uns: 'neighbors', 'new_cell_type_colors', 'umap'\n",
       "    obsm: 'X_pca', 'X_totalVI', 'X_umap', 'protein_expression', 'protein_expression_clr', 'protein_expression_dsb'\n",
       "    obsp: 'connectivities', 'distances'"
      ]
     },
     "execution_count": 39,
     "metadata": {},
     "output_type": "execute_result"
    }
   ],
   "source": [
    "#protein info from adata_norm to adata with maching indexes\n",
    "adata_norm"
   ]
  },
  {
   "cell_type": "code",
   "execution_count": 40,
   "id": "10455ac0",
   "metadata": {},
   "outputs": [
    {
     "data": {
      "text/plain": [
       "['EG47']"
      ]
     },
     "execution_count": 40,
     "metadata": {},
     "output_type": "execute_result"
    }
   ],
   "source": [
    "eg_list=adata.obs[\"EG_code\"].unique().tolist()\n",
    "\n",
    "eg_list"
   ]
  },
  {
   "cell_type": "code",
   "execution_count": 41,
   "id": "67b6eaed",
   "metadata": {},
   "outputs": [],
   "source": [
    "result = None\n",
    "\n",
    "for eg in eg_list:\n",
    "    try:\n",
    "        tail = adata_norm.obs[adata_norm.obs[\"eg_code\"] == eg].index[0][-4:]\n",
    "        new_index=adata.obs[adata.obs[\"EG_code\"] == eg].index+tail\n",
    "        if result is None:\n",
    "            result=new_index.tolist()\n",
    "        else:\n",
    "            result+=(new_index.tolist())\n",
    "    except:\n",
    "        new_index=adata_norm.obs[adata_norm.obs[\"eg_code\"] == eg].index\n",
    "        result+=(new_index.tolist())"
   ]
  },
  {
   "cell_type": "code",
   "execution_count": 42,
   "id": "0c001e46",
   "metadata": {},
   "outputs": [
    {
     "data": {
      "text/plain": [
       "Index(['AAACCTGCAGTATAAG-1-145', 'AAACCTGCATGCCTTC-1-145',\n",
       "       'AAACCTGGTAAGGGAA-1-145', 'AAACCTGGTCAATGTC-1-145',\n",
       "       'AAACCTGTCGACGGAA-1-145', 'AAACCTGTCGGAAATA-1-145',\n",
       "       'AAACCTGTCGTCACGG-1-145', 'AAACGGGAGCGTAGTG-1-145',\n",
       "       'AAACGGGCAATGAATG-1-145', 'AAACGGGGTAATTGGA-1-145',\n",
       "       ...\n",
       "       'TTTGGTTAGTCCGGTC-1-145', 'TTTGGTTCAGTAAGCG-1-145',\n",
       "       'TTTGGTTGTTAAGACA-1-145', 'TTTGGTTTCCTAGAAC-1-145',\n",
       "       'TTTGGTTTCGGATGGA-1-145', 'TTTGTCAAGAGGGATA-1-145',\n",
       "       'TTTGTCAAGCGTGAGT-1-145', 'TTTGTCACACCGGAAA-1-145',\n",
       "       'TTTGTCACATGCATGT-1-145', 'TTTGTCATCAAAGTAG-1-145'],\n",
       "      dtype='object', length=3523)"
      ]
     },
     "execution_count": 42,
     "metadata": {},
     "output_type": "execute_result"
    }
   ],
   "source": [
    "adata_norm.obs.index"
   ]
  },
  {
   "cell_type": "code",
   "execution_count": 43,
   "id": "550a9178",
   "metadata": {},
   "outputs": [
    {
     "data": {
      "text/plain": [
       "Index(['AAACCTGCAGTATAAG-1', 'AAACCTGCATGCCTTC-1', 'AAACCTGGTAAGGGAA-1',\n",
       "       'AAACCTGGTCAATGTC-1', 'AAACCTGTCGACGGAA-1', 'AAACCTGTCGGAAATA-1',\n",
       "       'AAACCTGTCGTCACGG-1', 'AAACGGGAGCGTAGTG-1', 'AAACGGGCAATGAATG-1',\n",
       "       'AAACGGGGTAATTGGA-1',\n",
       "       ...\n",
       "       'TTTGGTTAGTCCGGTC-1', 'TTTGGTTCAGTAAGCG-1', 'TTTGGTTGTTAAGACA-1',\n",
       "       'TTTGGTTTCCTAGAAC-1', 'TTTGGTTTCGGATGGA-1', 'TTTGTCAAGAGGGATA-1',\n",
       "       'TTTGTCAAGCGTGAGT-1', 'TTTGTCACACCGGAAA-1', 'TTTGTCACATGCATGT-1',\n",
       "       'TTTGTCATCAAAGTAG-1'],\n",
       "      dtype='object', length=3523)"
      ]
     },
     "execution_count": 43,
     "metadata": {},
     "output_type": "execute_result"
    }
   ],
   "source": [
    "adata.obs.index"
   ]
  },
  {
   "cell_type": "code",
   "execution_count": 44,
   "id": "7e4cec5e",
   "metadata": {},
   "outputs": [],
   "source": [
    "adata.obs.index=pd.Index(result)"
   ]
  },
  {
   "cell_type": "code",
   "execution_count": 45,
   "id": "8ca034c3",
   "metadata": {},
   "outputs": [
    {
     "data": {
      "text/plain": [
       "Index(['AAACCTGCAGTATAAG-1-145', 'AAACCTGCATGCCTTC-1-145',\n",
       "       'AAACCTGGTAAGGGAA-1-145', 'AAACCTGGTCAATGTC-1-145',\n",
       "       'AAACCTGTCGACGGAA-1-145', 'AAACCTGTCGGAAATA-1-145',\n",
       "       'AAACCTGTCGTCACGG-1-145', 'AAACGGGAGCGTAGTG-1-145',\n",
       "       'AAACGGGCAATGAATG-1-145', 'AAACGGGGTAATTGGA-1-145',\n",
       "       ...\n",
       "       'TTTGGTTAGTCCGGTC-1-145', 'TTTGGTTCAGTAAGCG-1-145',\n",
       "       'TTTGGTTGTTAAGACA-1-145', 'TTTGGTTTCCTAGAAC-1-145',\n",
       "       'TTTGGTTTCGGATGGA-1-145', 'TTTGTCAAGAGGGATA-1-145',\n",
       "       'TTTGTCAAGCGTGAGT-1-145', 'TTTGTCACACCGGAAA-1-145',\n",
       "       'TTTGTCACATGCATGT-1-145', 'TTTGTCATCAAAGTAG-1-145'],\n",
       "      dtype='object', length=3523)"
      ]
     },
     "execution_count": 45,
     "metadata": {},
     "output_type": "execute_result"
    }
   ],
   "source": [
    "adata.obs.index"
   ]
  },
  {
   "cell_type": "code",
   "execution_count": 46,
   "id": "5bb58169",
   "metadata": {},
   "outputs": [
    {
     "data": {
      "text/plain": [
       "0"
      ]
     },
     "execution_count": 46,
     "metadata": {},
     "output_type": "execute_result"
    }
   ],
   "source": [
    "#all indexes the same\n",
    "\n",
    "(~(adata.obs.index == adata_norm.obs.index)).sum()"
   ]
  },
  {
   "cell_type": "code",
   "execution_count": 47,
   "id": "15cd56b7",
   "metadata": {},
   "outputs": [
    {
     "data": {
      "text/plain": [
       "View of AnnData object with n_obs × n_vars = 3523 × 8051\n",
       "    obs: 'cell_type', 'n_genes', 'percent_mito', 'percent_ribo', 'n_counts', 'leiden_r2', 'leiden_r2_n_genes_MAD_diff', 'leiden_r2_n_counts_MAD_diff', 'leiden_r2_percent_mito_MAD_diff', 'filter', 'model_group', 'BATCH', 'POOL', 'SAMPLE_SET', 'SAMPLE_TYPE', 'SAMPLE_TISSUE', 'DIAGNOSIS', 'SUBTYPE', 'STATUS', 'eg_code', 'leiden_r1', 'new_cell_type', 'batch_group'\n",
       "    uns: 'neighbors', 'new_cell_type_colors', 'umap'\n",
       "    obsm: 'X_pca', 'X_totalVI', 'X_umap', 'protein_expression', 'protein_expression_clr', 'protein_expression_dsb'\n",
       "    obsp: 'connectivities', 'distances'"
      ]
     },
     "execution_count": 47,
     "metadata": {},
     "output_type": "execute_result"
    }
   ],
   "source": [
    "adata_norm"
   ]
  },
  {
   "cell_type": "code",
   "execution_count": 48,
   "id": "fd7f5081",
   "metadata": {},
   "outputs": [
    {
     "data": {
      "text/plain": [
       "Index(['AAACCTGCAGTATAAG-1-145', 'AAACCTGCATGCCTTC-1-145',\n",
       "       'AAACCTGGTAAGGGAA-1-145', 'AAACCTGGTCAATGTC-1-145',\n",
       "       'AAACCTGTCGACGGAA-1-145', 'AAACCTGTCGGAAATA-1-145',\n",
       "       'AAACCTGTCGTCACGG-1-145', 'AAACGGGAGCGTAGTG-1-145',\n",
       "       'AAACGGGCAATGAATG-1-145', 'AAACGGGGTAATTGGA-1-145',\n",
       "       ...\n",
       "       'TTTGGTTAGTCCGGTC-1-145', 'TTTGGTTCAGTAAGCG-1-145',\n",
       "       'TTTGGTTGTTAAGACA-1-145', 'TTTGGTTTCCTAGAAC-1-145',\n",
       "       'TTTGGTTTCGGATGGA-1-145', 'TTTGTCAAGAGGGATA-1-145',\n",
       "       'TTTGTCAAGCGTGAGT-1-145', 'TTTGTCACACCGGAAA-1-145',\n",
       "       'TTTGTCACATGCATGT-1-145', 'TTTGTCATCAAAGTAG-1-145'],\n",
       "      dtype='object', length=3523)"
      ]
     },
     "execution_count": 48,
     "metadata": {},
     "output_type": "execute_result"
    }
   ],
   "source": [
    "adata_norm.obsm['protein_expression_clr'].index"
   ]
  },
  {
   "cell_type": "code",
   "execution_count": 49,
   "id": "6342d7bb",
   "metadata": {},
   "outputs": [],
   "source": [
    "clr = adata_norm.obsm['protein_expression_clr']\n",
    "\n",
    "dsb = adata_norm.obsm['protein_expression_dsb']"
   ]
  },
  {
   "cell_type": "code",
   "execution_count": 50,
   "id": "23e93058",
   "metadata": {},
   "outputs": [
    {
     "data": {
      "text/plain": [
       "View of AnnData object with n_obs × n_vars = 3523 × 8051\n",
       "    obs: 'cell_type', 'n_genes', 'percent_mito', 'percent_ribo', 'n_counts', 'leiden_r2', 'leiden_r2_n_genes_MAD_diff', 'leiden_r2_n_counts_MAD_diff', 'leiden_r2_percent_mito_MAD_diff', 'filter', 'model_group', 'BATCH', 'POOL', 'SAMPLE_SET', 'SAMPLE_TYPE', 'SAMPLE_TISSUE', 'DIAGNOSIS', 'SUBTYPE', 'STATUS', 'eg_code', 'leiden_r1', 'new_cell_type', 'batch_group'\n",
       "    uns: 'neighbors', 'new_cell_type_colors', 'umap'\n",
       "    obsm: 'X_pca', 'X_totalVI', 'X_umap', 'protein_expression', 'protein_expression_clr', 'protein_expression_dsb'\n",
       "    obsp: 'connectivities', 'distances'"
      ]
     },
     "execution_count": 50,
     "metadata": {},
     "output_type": "execute_result"
    }
   ],
   "source": [
    "adata_norm"
   ]
  },
  {
   "cell_type": "code",
   "execution_count": 51,
   "id": "3238534f",
   "metadata": {},
   "outputs": [],
   "source": [
    "adata.obsm = adata_norm.obsm"
   ]
  },
  {
   "cell_type": "code",
   "execution_count": 52,
   "id": "4688a5a5",
   "metadata": {},
   "outputs": [
    {
     "data": {
      "text/plain": [
       "AxisArrays with keys: X_pca, X_totalVI, X_umap, protein_expression, protein_expression_clr, protein_expression_dsb"
      ]
     },
     "execution_count": 52,
     "metadata": {},
     "output_type": "execute_result"
    }
   ],
   "source": [
    "adata.obsm"
   ]
  },
  {
   "cell_type": "code",
   "execution_count": 53,
   "id": "e393b292",
   "metadata": {},
   "outputs": [],
   "source": [
    "adata.obs = adata_norm.obs"
   ]
  },
  {
   "cell_type": "code",
   "execution_count": 54,
   "id": "a81de2fa",
   "metadata": {},
   "outputs": [],
   "source": [
    "#save the file!\n",
    "\n",
    "adata.write('/Users/tiinatuononen/Desktop/Thesis/Project/data/EG47_norm.h5ad')"
   ]
  },
  {
   "cell_type": "code",
   "execution_count": null,
   "id": "4fc8fe1d",
   "metadata": {},
   "outputs": [],
   "source": []
  },
  {
   "cell_type": "code",
   "execution_count": null,
   "id": "e79c9885",
   "metadata": {},
   "outputs": [],
   "source": []
  },
  {
   "cell_type": "code",
   "execution_count": null,
   "id": "1bfd0efa",
   "metadata": {},
   "outputs": [],
   "source": []
  }
 ],
 "metadata": {
  "kernelspec": {
   "display_name": "tiina-env",
   "language": "python",
   "name": "tiina-env"
  },
  "language_info": {
   "codemirror_mode": {
    "name": "ipython",
    "version": 3
   },
   "file_extension": ".py",
   "mimetype": "text/x-python",
   "name": "python",
   "nbconvert_exporter": "python",
   "pygments_lexer": "ipython3",
   "version": "3.10.6"
  }
 },
 "nbformat": 4,
 "nbformat_minor": 5
}
