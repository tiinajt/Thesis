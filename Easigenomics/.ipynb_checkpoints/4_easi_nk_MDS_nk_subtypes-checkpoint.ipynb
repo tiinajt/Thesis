{
 "cells": [
  {
   "cell_type": "markdown",
   "id": "290ae441",
   "metadata": {},
   "source": [
    "# MDS NK cells"
   ]
  },
  {
   "cell_type": "markdown",
   "id": "cbcf60d8",
   "metadata": {},
   "source": [
    "EG54, EG55, EG56, EG57 and EG58 are MDS cases. All samples are from different donors. \n",
    "\n",
    "In this notebook aplastic anemia samples are merged together and UMAPs are generated based on RNA, proteins or latent space. Only NK cells are selected based on clustering + marker gene/protein analysis done in \"easi_nk_AA_clustering\" -notebook. Leiden clusters are calculated from UMAP based on latent space coordinates and highly expressed genes/markers are searched using scanpy rank_genes_groups -function. \n",
    "\n",
    "Finally, markers received from HRUH Aplastic anemia presentation (unpublished data) and Melsen et al. paper are visualized. "
   ]
  },
  {
   "cell_type": "code",
   "execution_count": 1,
   "id": "a3e0c4fa",
   "metadata": {},
   "outputs": [
    {
     "name": "stderr",
     "output_type": "stream",
     "text": [
      "Global seed set to 0\n",
      "/Users/tiinatuononen/opt/anaconda3/envs/tiina-env/lib/python3.10/site-packages/pytorch_lightning/utilities/warnings.py:53: LightningDeprecationWarning: pytorch_lightning.utilities.warnings.rank_zero_deprecation has been deprecated in v1.6 and will be removed in v1.8. Use the equivalent function from the pytorch_lightning.utilities.rank_zero module instead.\n",
      "  new_rank_zero_deprecation(\n",
      "/Users/tiinatuononen/opt/anaconda3/envs/tiina-env/lib/python3.10/site-packages/pytorch_lightning/utilities/warnings.py:58: LightningDeprecationWarning: The `pytorch_lightning.loggers.base.rank_zero_experiment` is deprecated in v1.7 and will be removed in v1.9. Please use `pytorch_lightning.loggers.logger.rank_zero_experiment` instead.\n",
      "  return new_rank_zero_deprecation(*args, **kwargs)\n"
     ]
    }
   ],
   "source": [
    "import pandas as pd\n",
    "import numpy as np\n",
    "import matplotlib.pyplot as plt\n",
    "import seaborn as sns\n",
    "import anndata as ad\n",
    "import scvi\n",
    "import scanpy as sc\n",
    "import umap\n",
    "\n",
    "from ridgeplot import ridgeplot\n",
    "\n",
    "import warnings\n",
    "\n",
    "warnings.filterwarnings('ignore')\n",
    "\n"
   ]
  },
  {
   "cell_type": "code",
   "execution_count": 2,
   "id": "c4c2c5e3",
   "metadata": {},
   "outputs": [],
   "source": [
    "def get_cluster_proportions(adata,\n",
    "                            cluster_key=\"cluster_final\",\n",
    "                            sample_key=\"replicate\",\n",
    "                            drop_values=None):\n",
    "    \"\"\"\n",
    "    Input\n",
    "    =====\n",
    "    adata : AnnData object\n",
    "    cluster_key : key of `adata.obs` storing cluster info\n",
    "    sample_key : key of `adata.obs` storing sample/replicate info\n",
    "    drop_values : list/iterable of possible values of `sample_key` that you don't want\n",
    "    \n",
    "    Returns\n",
    "    =======\n",
    "    pd.DataFrame with samples as the index and clusters as the columns and 0-100 floats\n",
    "    as values\n",
    "    \"\"\"\n",
    "    \n",
    "    adata_tmp = adata.copy()\n",
    "    sizes = adata_tmp.obs.groupby([cluster_key, sample_key]).size()\n",
    "    props = sizes.groupby(level=1).apply(lambda x: 100 * x / x.sum()).reset_index() \n",
    "    props = props.pivot(columns=sample_key, index=cluster_key).T\n",
    "    props.index = props.index.droplevel(0)\n",
    "    props.fillna(0, inplace=True)\n",
    "    \n",
    "    if drop_values is not None:\n",
    "        for drop_value in drop_values:\n",
    "            props.drop(drop_value, axis=0, inplace=True)\n",
    "    return props\n",
    "\n",
    "\n",
    "def plot_cluster_proportions(cluster_props, \n",
    "                             cluster_palette=None,\n",
    "                             xlabel_rotation=0): \n",
    "    fig, ax = plt.subplots(dpi=300)\n",
    "    fig.patch.set_facecolor(\"white\")\n",
    "    \n",
    "    cmap = None\n",
    "    if cluster_palette is not None:\n",
    "        cmap = sns.palettes.blend_palette(\n",
    "            cluster_palette, \n",
    "            n_colors=len(cluster_palette), \n",
    "            as_cmap=True)\n",
    "   \n",
    "    cluster_props.plot(\n",
    "        kind=\"bar\", \n",
    "        stacked=True, \n",
    "        ax=ax, \n",
    "        legend=None, \n",
    "        colormap=cmap\n",
    "    )\n",
    "    \n",
    "    ax.legend(bbox_to_anchor=(1.01, 1), frameon=False, title=\"Cluster\")\n",
    "    sns.despine(fig, ax)\n",
    "    ax.tick_params(axis=\"x\", rotation=xlabel_rotation)\n",
    "    ax.set_xlabel(cluster_props.index.name.capitalize())\n",
    "    ax.set_ylabel(\"Proportion\")\n",
    "    fig.tight_layout()\n",
    "    \n",
    "    return fig"
   ]
  },
  {
   "cell_type": "code",
   "execution_count": 3,
   "id": "51e5dc93",
   "metadata": {},
   "outputs": [],
   "source": [
    "#Easigenomics dataset, all AA samples merged\n",
    "\n",
    "adata = sc.read_h5ad('/Users/tiinatuononen/Desktop/Thesis/Project/data/MDS_norm.h5ad')"
   ]
  },
  {
   "cell_type": "code",
   "execution_count": 4,
   "id": "cbb8e2a3",
   "metadata": {},
   "outputs": [
    {
     "data": {
      "text/plain": [
       "AnnData object with n_obs × n_vars = 13184 × 5031\n",
       "    obs: 'cell_type', 'n_genes', 'percent_mito', 'percent_ribo', 'n_counts', 'leiden_r2', 'leiden_r2_n_genes_MAD_diff', 'leiden_r2_n_counts_MAD_diff', 'leiden_r2_percent_mito_MAD_diff', 'filter', 'model_group', 'BATCH', 'POOL', 'SAMPLE_SET', 'SAMPLE_TYPE', 'SAMPLE_TISSUE', 'DIAGNOSIS', 'SUBTYPE', 'STATUS', 'eg_code', 'leiden_r1', 'new_cell_type', 'batch_group', 'batch', 'CD19', 'CD10', 'CD20', 'CD3', 'CD2_prot', 'CD11b', 'HLADR', 'CD38_prot', 'CD11c', 'CD7', 'CD45', 'CD33', 'CD81', 'CD73', 'CD123', 'CD14', 'CD45RA', 'CD45RO', 'CD4', 'CD8a', 'CD197', 'CD127', 'CD56', 'CD5', 'CD15', 'CD64', 'CD117', 'CD24', 'CD44_prot', 'CD58', 'CD66ace', 'CD13', 'CD34_prot', 'leiden_0.5', 'leiden_0.3', 'leiden_0.2', 'leiden_0.1', 'leiden_0.15', 'leiden_0.18'\n",
       "    var: 'gene_ids', 'feature_types', 'n_cells-0', 'highly_variable-0', 'means-0', 'dispersions-0', 'dispersions_norm-0', 'n_cells-1', 'highly_variable-1', 'means-1', 'dispersions-1', 'dispersions_norm-1', 'n_cells-2', 'highly_variable-2', 'means-2', 'dispersions-2', 'dispersions_norm-2', 'n_cells-3', 'highly_variable-3', 'means-3', 'dispersions-3', 'dispersions_norm-3', 'n_cells-4', 'highly_variable-4', 'means-4', 'dispersions-4', 'dispersions_norm-4'\n",
       "    uns: 'POOL_colors', 'cell_type_colors', 'eg_code_colors', 'leiden', 'leiden_0.15_colors', 'leiden_0.18_colors', 'leiden_0.1_colors', 'leiden_0.2_colors', 'leiden_0.3_colors', 'leiden_0.5_colors', 'neighbors', 'umap'\n",
       "    obsm: 'X_pca', 'X_totalVI', 'X_umap', 'protein_expression', 'protein_expression_clr', 'protein_expression_dsb'\n",
       "    obsp: 'connectivities', 'distances'"
      ]
     },
     "execution_count": 4,
     "metadata": {},
     "output_type": "execute_result"
    }
   ],
   "source": [
    "adata"
   ]
  },
  {
   "cell_type": "code",
   "execution_count": null,
   "id": "1c035384",
   "metadata": {},
   "outputs": [],
   "source": [
    "#Calculating neighbors for UMAPs\n",
    "\n",
    "sc.pp.neighbors(adata, use_rep=\"X_totalVI\")    \n",
    "\n",
    "sc.tl.umap(adata)\n"
   ]
  },
  {
   "cell_type": "code",
   "execution_count": null,
   "id": "21b67c56",
   "metadata": {
    "scrolled": false
   },
   "outputs": [],
   "source": [
    "#latent space\n",
    "\n",
    "sc.pl.umap(adata, color = ['cell_type'], color_map = 'viridis')\n",
    "\n",
    "sc.pl.umap(adata, color = ['POOL'], color_map = 'viridis')\n",
    "\n",
    "sc.pl.umap(adata, color = ['leiden_0.15'], color_map = 'viridis')\n"
   ]
  },
  {
   "cell_type": "code",
   "execution_count": null,
   "id": "e1610dc2",
   "metadata": {},
   "outputs": [],
   "source": [
    "#selecting only NK cells (=cluster 0), identified in earlier notebook\n",
    "\n",
    "adata_nk = adata[adata.obs['leiden_0.15'] == \"0\"]"
   ]
  },
  {
   "cell_type": "code",
   "execution_count": null,
   "id": "15adf57c",
   "metadata": {},
   "outputs": [],
   "source": [
    "#Within the NK cell cluster there are cells annotated as \"non-leukemic\", these cells are removed from analysis \n",
    "\n",
    "adata_nk = adata_nk[adata_nk.obs['cell_type'] == \"NKT\"]"
   ]
  },
  {
   "cell_type": "code",
   "execution_count": null,
   "id": "66fb6401",
   "metadata": {},
   "outputs": [],
   "source": [
    "adata_nk"
   ]
  },
  {
   "cell_type": "code",
   "execution_count": null,
   "id": "4f230b75",
   "metadata": {},
   "outputs": [],
   "source": [
    "#Calculating neighbors for UMAPs, only NK cells\n",
    "\n",
    "sc.pp.neighbors(adata_nk, use_rep=\"X_totalVI\")    \n",
    "\n",
    "sc.tl.umap(adata_nk)"
   ]
  },
  {
   "cell_type": "code",
   "execution_count": null,
   "id": "90eec0fd",
   "metadata": {},
   "outputs": [],
   "source": [
    "sc.pl.umap(adata_nk, color = ['eg_code'], color_map = 'viridis')"
   ]
  },
  {
   "cell_type": "markdown",
   "id": "52f65075",
   "metadata": {},
   "source": [
    "## Clustering by protein expression"
   ]
  },
  {
   "cell_type": "code",
   "execution_count": null,
   "id": "6f518374",
   "metadata": {},
   "outputs": [],
   "source": [
    "adata_nk_prot = adata_nk.copy()"
   ]
  },
  {
   "cell_type": "code",
   "execution_count": null,
   "id": "84bdc0c8",
   "metadata": {},
   "outputs": [],
   "source": [
    "#Calculating neighbors for UMAPs\n",
    "\n",
    "sc.pp.neighbors(adata_nk_prot, use_rep=\"protein_expression_dsb\")    \n",
    "\n",
    "sc.tl.umap(adata_nk_prot)"
   ]
  },
  {
   "cell_type": "code",
   "execution_count": null,
   "id": "ba8af572",
   "metadata": {
    "scrolled": true
   },
   "outputs": [],
   "source": [
    "sc.pl.umap(adata_nk_prot, color = ['POOL'], color_map = 'viridis')"
   ]
  },
  {
   "cell_type": "markdown",
   "id": "efa71428",
   "metadata": {},
   "source": [
    "## Clustering by RNA"
   ]
  },
  {
   "cell_type": "code",
   "execution_count": null,
   "id": "8b7e08fd",
   "metadata": {},
   "outputs": [],
   "source": [
    "adata_nk_rna = adata_nk.copy()"
   ]
  },
  {
   "cell_type": "code",
   "execution_count": null,
   "id": "d0f8cab7",
   "metadata": {},
   "outputs": [],
   "source": [
    "sc.pp.pca(adata_nk_rna)"
   ]
  },
  {
   "cell_type": "code",
   "execution_count": null,
   "id": "1c516506",
   "metadata": {},
   "outputs": [],
   "source": [
    "#calculating neighbors\n",
    "\n",
    "sc.pp.neighbors(adata_nk_rna)\n",
    "\n",
    "sc.tl.umap(adata_nk_rna)"
   ]
  },
  {
   "cell_type": "code",
   "execution_count": null,
   "id": "5ebbd205",
   "metadata": {},
   "outputs": [],
   "source": [
    "sc.pl.umap(adata_nk_rna, color = ['POOL'], color_map = 'viridis')"
   ]
  },
  {
   "cell_type": "code",
   "execution_count": null,
   "id": "075d391d",
   "metadata": {},
   "outputs": [],
   "source": [
    "#Calculating leidens for latent object\n",
    "sc.tl.leiden(adata_nk, resolution = 0.3, key_added = \"leiden_0.3\")\n",
    "sc.tl.leiden(adata_nk, resolution = 0.5, key_added = \"leiden_0.5\")\n",
    "sc.tl.leiden(adata_nk, resolution = 0.6, key_added = \"leiden_0.6\")\n",
    "sc.tl.leiden(adata_nk, resolution = 0.7, key_added = \"leiden_0.7\")\n",
    "sc.tl.leiden(adata_nk, resolution = 0.8, key_added = \"leiden_0.8\")\n"
   ]
  },
  {
   "cell_type": "code",
   "execution_count": null,
   "id": "e6eff05b",
   "metadata": {},
   "outputs": [],
   "source": [
    "sc.pl.umap(adata_nk, color = ['eg_code'], color_map = 'viridis')\n",
    "sc.pl.umap(adata_nk, color=['leiden_0.3', 'leiden_0.5','leiden_0.6', 'leiden_0.7', 'leiden_0.8'], ncols =3)"
   ]
  },
  {
   "cell_type": "code",
   "execution_count": null,
   "id": "7fc1117a",
   "metadata": {
    "scrolled": false
   },
   "outputs": [],
   "source": [
    "sc.pl.umap(adata_nk, color=['leiden_0.5'], ncols =3)\n",
    "\n",
    "sc.tl.rank_genes_groups(adata_nk, 'leiden_0.5', method='wilcoxon')\n",
    "sc.pl.rank_genes_groups(adata_nk, n_genes=25, sharey=False, ncols=2)"
   ]
  },
  {
   "cell_type": "code",
   "execution_count": null,
   "id": "498423cb",
   "metadata": {},
   "outputs": [],
   "source": []
  },
  {
   "cell_type": "code",
   "execution_count": null,
   "id": "6bd5a855",
   "metadata": {},
   "outputs": [],
   "source": [
    "#Removing mitochondrial and ribosomal genes\n",
    "\n",
    "#genes to be removed\n",
    "mito_genes = adata_nk.var_names.str.startswith('MT-')\n",
    "ribo_genes = adata_nk.var_names.str.startswith('RPL')\n",
    "ribo_genes1 = adata_nk.var_names.str.startswith('RPS')\n",
    "\n",
    "remove = np.add(mito_genes, ribo_genes)\n",
    "remove = np.add(remove, ribo_genes1)\n",
    "\n",
    "#other genes kept\n",
    "keep = np.invert(remove)\n",
    "\n",
    "adata_nk = adata_nk[:,keep]\n",
    "\n",
    "#print(adata_gex.n_obs, adata_gex.n_vars)"
   ]
  },
  {
   "cell_type": "code",
   "execution_count": null,
   "id": "90bd872f",
   "metadata": {},
   "outputs": [],
   "source": [
    "#New colors for clusters\n",
    "cols = ['#1874CD', '#FF8C00', 'Green', 'Red']\n",
    "\n",
    "adata_nk.uns['leiden_0.5_colors'] = cols\n"
   ]
  },
  {
   "cell_type": "code",
   "execution_count": null,
   "id": "6b44781c",
   "metadata": {},
   "outputs": [],
   "source": [
    "cluster_names = [\n",
    "    '0', '1',\n",
    "    '2', '3']\n",
    "\n",
    "adata_nk.rename_categories('leiden_0.5', cluster_names)"
   ]
  },
  {
   "cell_type": "code",
   "execution_count": null,
   "id": "4676a7bb",
   "metadata": {},
   "outputs": [],
   "source": [
    "sc.pl.umap(adata_nk, color=['leiden_0.5'], ncols =3)\n",
    "\n",
    "sc.tl.rank_genes_groups(adata_nk, 'leiden_0.5', method='wilcoxon')\n",
    "sc.pl.rank_genes_groups(adata_nk, n_genes=25, sharey=False, ncols=2)"
   ]
  },
  {
   "cell_type": "code",
   "execution_count": null,
   "id": "582fc942",
   "metadata": {},
   "outputs": [],
   "source": [
    "cluster_props = get_cluster_proportions(adata_nk,\n",
    "                            cluster_key=\"leiden_0.5\",\n",
    "                            sample_key=\"eg_code\",\n",
    "                            drop_values=None)\n",
    "\n",
    "\n",
    "plot_cluster_proportions(cluster_props, \n",
    "                             cluster_palette=None,\n",
    "                             xlabel_rotation=45)\n"
   ]
  },
  {
   "cell_type": "code",
   "execution_count": null,
   "id": "9a6d94d1",
   "metadata": {},
   "outputs": [],
   "source": [
    "sc.pl.umap(adata_nk, color=['GZMB'], vmax=\"p99\")"
   ]
  },
  {
   "cell_type": "code",
   "execution_count": null,
   "id": "85fe58cd",
   "metadata": {},
   "outputs": [],
   "source": [
    "## DC56bright markers by Melsen\n",
    "\n",
    "#Melsen et al.\n",
    "\n",
    "cd56bright_mels = ['NCAM1', 'KIT', 'SELL', 'CD2', 'IL7R', 'KLRC1']\n",
    "\n",
    "cd56bright_mels_prot= ['CD56',\"CD2_prot\", 'CD127', 'CD117'] #CD62L not found\n",
    "\n",
    "\n",
    "listOfmarkers= cd56bright_mels\n",
    "cd56bright_melsen = []\n",
    "\n",
    "for x in listOfmarkers:\n",
    "    if x in adata_nk.var_names:\n",
    "        print(x)\n",
    "        cd56bright_melsen.append(x)\n",
    "        \n",
    "    "
   ]
  },
  {
   "cell_type": "code",
   "execution_count": null,
   "id": "90701e89",
   "metadata": {},
   "outputs": [],
   "source": [
    "print(\"RNA markers\")\n",
    "sc.pl.umap(adata_nk, color=cd56bright_melsen, ncols = 3, vmax=\"p99\")\n",
    "\n",
    "print(\"Protein markers\")\n",
    "sc.pl.umap(adata_nk, color=cd56bright_mels_prot, vmax=\"p99\")"
   ]
  },
  {
   "cell_type": "code",
   "execution_count": null,
   "id": "d5abb267",
   "metadata": {},
   "outputs": [],
   "source": [
    "#CD56bright markers\n",
    "\n",
    "sc.pl.violin(adata_nk, ['SELL'], groupby='leiden_0.5') #IL7R, GZMK not found\n",
    "\n",
    "sc.pl.violin(adata_nk, ['CD56', 'CD2_prot', 'CD127'], groupby='leiden_0.5')"
   ]
  },
  {
   "cell_type": "code",
   "execution_count": null,
   "id": "f59e0c64",
   "metadata": {},
   "outputs": [],
   "source": [
    "## Mature CD56dim by Melsen\n",
    "\n",
    "#cluster 1\n",
    "\n",
    "cd56dim_1= ['S100A4', 'S100A6', 'ACTB', 'ACTG1', 'CORO1A', 'PFN1']\n",
    "\n",
    "#cluster 7 (suggested to be intermediate stage between CD56bright and CD56dim NK cells)\n",
    "\n",
    "cd56dim_7 = ['GZMK', 'SELL'] #higher expression compared to cluster 1\n",
    "cd56dim_7_prot = ['CD62L']"
   ]
  },
  {
   "cell_type": "code",
   "execution_count": null,
   "id": "c1d2f69e",
   "metadata": {},
   "outputs": [],
   "source": [
    "listOfmarkers= cd56dim_1\n",
    "cd56dim_1_melsen = []\n",
    "\n",
    "for x in listOfmarkers:\n",
    "    if x in adata_nk.var_names:\n",
    "        print(x)\n",
    "        cd56dim_1_melsen.append(x)\n",
    "        "
   ]
  },
  {
   "cell_type": "code",
   "execution_count": null,
   "id": "ed00c240",
   "metadata": {},
   "outputs": [],
   "source": [
    "#Cluster 1 (more mature)\n",
    "sc.pl.umap(adata_nk, color=cd56dim_1_melsen, ncols = 3, vmax=\"p99\")"
   ]
  },
  {
   "cell_type": "code",
   "execution_count": null,
   "id": "8860977e",
   "metadata": {},
   "outputs": [],
   "source": [
    "listOfmarkers= cd56dim_7\n",
    "cd56dim_7_melsen = []\n",
    "\n",
    "for x in listOfmarkers:\n",
    "    if x in adata_nk.var_names:\n",
    "        print(x)\n",
    "        cd56dim_7_melsen.append(x)"
   ]
  },
  {
   "cell_type": "code",
   "execution_count": null,
   "id": "074b40e6",
   "metadata": {},
   "outputs": [],
   "source": [
    "#Cluster 7 (transitional state)\n",
    "sc.pl.umap(adata_nk, color=cd56dim_7_melsen, ncols = 3, vmax=\"p99\")"
   ]
  },
  {
   "cell_type": "code",
   "execution_count": null,
   "id": "0c93aece",
   "metadata": {},
   "outputs": [],
   "source": [
    "## Tissue-resident NK by Melsen\n",
    "\n",
    "tr_mels= ['CCL3', 'CCL4', 'XCL1', 'GZMK', 'CD160', 'DUSP2', 'CXCR4', 'BTG1']\n",
    "\n",
    "listOfmarkers= tr_mels\n",
    "tr_melsen = []\n",
    "\n",
    "for x in listOfmarkers:\n",
    "    if x in adata_nk.var_names:\n",
    "        print(x)\n",
    "        tr_melsen.append(x)"
   ]
  },
  {
   "cell_type": "code",
   "execution_count": null,
   "id": "2fc0943f",
   "metadata": {},
   "outputs": [],
   "source": [
    "sc.pl.umap(adata_nk, color=tr_melsen, ncols = 3, vmax=\"p99\")"
   ]
  },
  {
   "cell_type": "code",
   "execution_count": null,
   "id": "87310838",
   "metadata": {},
   "outputs": [],
   "source": [
    "#tissue resident markers identified by regressors (were protein, these are RNA)\n",
    "\n",
    "sc.pl.umap(adata_nk, color=['CD24', 'CD69', 'CD83'], ncols = 3, vmax=\"p99\")"
   ]
  },
  {
   "cell_type": "code",
   "execution_count": null,
   "id": "dc68979f",
   "metadata": {},
   "outputs": [],
   "source": [
    "## Adaptive NK by Dufva\n",
    "\n",
    "#Dufva et al. \n",
    "\n",
    "adaptive = ['LAG3', 'GZMH', 'KLRG1', 'KLRC3', 'HLA-DR', 'CD2', 'CD52', 'RHOB']\n",
    "\n",
    "\n",
    "listOfmarkers= adaptive\n",
    "markers_adaptive = []\n",
    "\n",
    "for x in listOfmarkers:\n",
    "    if x in adata_nk.var_names:\n",
    "        print(x)\n",
    "        markers_adaptive.append(x)"
   ]
  },
  {
   "cell_type": "code",
   "execution_count": null,
   "id": "0a3978d8",
   "metadata": {},
   "outputs": [],
   "source": [
    "sc.pl.umap(adata_nk, color=markers_adaptive, ncols = 3, vmax=\"p99\")"
   ]
  },
  {
   "cell_type": "code",
   "execution_count": null,
   "id": "06de9289",
   "metadata": {},
   "outputs": [],
   "source": [
    "## Adaptive NK by Yang \n",
    "\n",
    "#Yang et al. \n",
    "\n",
    "adaptive2 = ['KLRC2', 'CD52', 'CD3E', 'CD3D', 'CD3G']\n",
    "\n",
    "listOfmarkers= adaptive2\n",
    "markers_adaptive_yang = []\n",
    "\n",
    "for x in listOfmarkers:\n",
    "    if x in adata_nk.var_names:\n",
    "        print(x)\n",
    "        markers_adaptive_yang.append(x)"
   ]
  },
  {
   "cell_type": "code",
   "execution_count": null,
   "id": "5cf27614",
   "metadata": {},
   "outputs": [],
   "source": [
    "sc.pl.umap(adata_nk, color=markers_adaptive_yang, ncols = 3, vmax=\"p99\")"
   ]
  },
  {
   "cell_type": "code",
   "execution_count": null,
   "id": "17b70657",
   "metadata": {},
   "outputs": [],
   "source": [
    "## Activated NK by Yang\n",
    "\n",
    "#Activated by Yang\n",
    "\n",
    "activated = ['NFKBIA', 'JUN', 'JUNB', 'ZFP36', 'DOS', 'FOSB', 'DUSP1', 'NR4A2', 'CXCR4']\n",
    "\n",
    "\n",
    "listOfmarkers= activated\n",
    "markers_activated = []\n",
    "\n",
    "for x in listOfmarkers:\n",
    "    if x in adata_nk.var_names:\n",
    "        print(x)\n",
    "        markers_activated.append(x)"
   ]
  },
  {
   "cell_type": "code",
   "execution_count": null,
   "id": "f5a254f5",
   "metadata": {},
   "outputs": [],
   "source": [
    "sc.pl.umap(adata_nk, color=markers_activated, ncols = 3, vmax=\"p99\")\n",
    "\n",
    "sc.pl.violin(adata_nk, markers_activated, groupby='leiden_0.5')"
   ]
  },
  {
   "cell_type": "code",
   "execution_count": null,
   "id": "13871437",
   "metadata": {},
   "outputs": [],
   "source": [
    "## Mature NK by Yang\n",
    "\n",
    "#by Yang et al. \n",
    "\n",
    "mature = ['B3GAT1', 'PRF1', 'GZMA', 'GZMB', 'GZMH', 'ACTB', 'ARPC2', 'CORO1A', 'CFL1', 'CST7', 'PFN1', 'ANXA1']\n",
    "\n",
    "listOfmarkers= mature\n",
    "markers_mature = []\n",
    "\n",
    "for x in listOfmarkers:\n",
    "    if x in adata_nk.var_names:\n",
    "        print(x)\n",
    "        markers_mature.append(x)"
   ]
  },
  {
   "cell_type": "code",
   "execution_count": null,
   "id": "b7c5b286",
   "metadata": {},
   "outputs": [],
   "source": [
    "sc.pl.umap(adata_nk, color=markers_mature, ncols = 3, vmax=\"p99\")\n",
    "\n",
    "sc.pl.violin(adata_nk, markers_mature, groupby='leiden_0.5')"
   ]
  },
  {
   "cell_type": "code",
   "execution_count": null,
   "id": "252f4130",
   "metadata": {},
   "outputs": [],
   "source": [
    "sc.pl.violin(adata_nk, ['GZMB'], groupby='leiden_0.5')"
   ]
  },
  {
   "cell_type": "code",
   "execution_count": null,
   "id": "3b2d31c4",
   "metadata": {},
   "outputs": [],
   "source": [
    "sc.pl.violin(adata_nk, ['NFKBIA'], groupby='leiden_0.5')"
   ]
  },
  {
   "cell_type": "code",
   "execution_count": null,
   "id": "8d64dc75",
   "metadata": {},
   "outputs": [],
   "source": [
    "## Terminal markers Yang et al.\n",
    "\n",
    "#by Yang et al. \n",
    "\n",
    "terminal = ['ZEB2', 'CX3CR1', 'HAVCR2'] \n",
    "\n",
    "listOfmarkers= terminal\n",
    "markers_terminal = []\n",
    "\n",
    "for x in listOfmarkers:\n",
    "    if x in adata_nk.var_names:\n",
    "        print(x)\n",
    "        markers_terminal.append(x)"
   ]
  },
  {
   "cell_type": "code",
   "execution_count": null,
   "id": "b0a8e355",
   "metadata": {},
   "outputs": [],
   "source": [
    "sc.pl.umap(adata_nk, color=markers_terminal, ncols = 3, vmax=\"p99\")\n",
    "\n",
    "sc.pl.violin(adata_nk, markers_terminal, groupby='leiden_0.5')"
   ]
  },
  {
   "cell_type": "code",
   "execution_count": null,
   "id": "2a76940b",
   "metadata": {},
   "outputs": [],
   "source": []
  },
  {
   "cell_type": "code",
   "execution_count": null,
   "id": "59990fea",
   "metadata": {},
   "outputs": [],
   "source": []
  },
  {
   "cell_type": "code",
   "execution_count": null,
   "id": "352c7db5",
   "metadata": {},
   "outputs": [],
   "source": []
  },
  {
   "cell_type": "code",
   "execution_count": null,
   "id": "306eccfa",
   "metadata": {},
   "outputs": [],
   "source": []
  },
  {
   "cell_type": "code",
   "execution_count": null,
   "id": "1232f171",
   "metadata": {},
   "outputs": [],
   "source": []
  },
  {
   "cell_type": "code",
   "execution_count": null,
   "id": "edb02dfa",
   "metadata": {},
   "outputs": [],
   "source": []
  }
 ],
 "metadata": {
  "kernelspec": {
   "display_name": "tiina-env",
   "language": "python",
   "name": "tiina-env"
  },
  "language_info": {
   "codemirror_mode": {
    "name": "ipython",
    "version": 3
   },
   "file_extension": ".py",
   "mimetype": "text/x-python",
   "name": "python",
   "nbconvert_exporter": "python",
   "pygments_lexer": "ipython3",
   "version": "3.10.6"
  }
 },
 "nbformat": 4,
 "nbformat_minor": 5
}
