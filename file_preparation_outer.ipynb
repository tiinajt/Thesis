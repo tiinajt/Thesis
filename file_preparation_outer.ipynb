{
 "cells": [
  {
   "cell_type": "markdown",
   "id": "d663156f",
   "metadata": {},
   "source": [
    "# File preparations"
   ]
  },
  {
   "cell_type": "code",
   "execution_count": 18,
   "id": "75e6471b",
   "metadata": {},
   "outputs": [],
   "source": [
    "import pandas as pd\n",
    "import numpy as np\n",
    "import matplotlib.pyplot as plt\n",
    "import seaborn as sns\n",
    "import anndata as ad\n",
    "import scvi\n",
    "import scanpy as sc\n",
    "import umap\n",
    "\n",
    "from ridgeplot import ridgeplot\n",
    "from muon import prot as pt\n",
    "import anndata\n",
    "\n",
    "import warnings\n",
    "\n",
    "warnings.filterwarnings('ignore')"
   ]
  },
  {
   "cell_type": "markdown",
   "id": "f8ce2956",
   "metadata": {},
   "source": [
    "## CLR normalization"
   ]
  },
  {
   "cell_type": "code",
   "execution_count": 30,
   "id": "a5daea26",
   "metadata": {},
   "outputs": [],
   "source": [
    "from muon import prot as pt\n",
    "import anndata"
   ]
  },
  {
   "cell_type": "code",
   "execution_count": 31,
   "id": "8e302fc0",
   "metadata": {},
   "outputs": [],
   "source": [
    "#raw protein data, all datasets\n",
    "\n",
    "adata = sc.read_h5ad('/Users/tiinatuononen/Desktop/Thesis/Project/data/healthy_malig_outer_!m.h5ad')\n",
    "\n",
    "\n"
   ]
  },
  {
   "cell_type": "code",
   "execution_count": 32,
   "id": "287dd4f1",
   "metadata": {},
   "outputs": [
    {
     "data": {
      "text/plain": [
       "AnnData object with n_obs × n_vars = 289154 × 21720\n",
       "    obs: 'GEX_n_genes_by_counts', 'GEX_pct_counts_mt', 'GEX_size_factors', 'GEX_phase', 'ADT_n_antibodies_by_counts', 'ADT_total_counts', 'ADT_iso_count', 'cell_type', 'batch', 'ADT_pseudotime_order', 'GEX_pseudotime_order', 'Samplename', 'Site', 'DonorNumber', 'Modality', 'VendorLot', 'DonorID', 'DonorAge', 'DonorBMI', 'DonorBloodType', 'DonorRace', 'Ethnicity', 'DonorGender', 'QCMeds', 'DonorSmoker', 'is_train', 'n_genes', 'percent_mito', 'percent_ribo', 'n_counts', 'leiden_r2', 'leiden_r2_n_genes_MAD_diff', 'leiden_r2_n_counts_MAD_diff', 'leiden_r2_percent_mito_MAD_diff', 'filter', 'model_group', 'BATCH', 'POOL', 'SAMPLE_SET', 'SAMPLE_TYPE', 'SAMPLE_TISSUE', 'DIAGNOSIS', 'SUBTYPE', 'STATUS'\n",
       "    obsm: 'ADT_X_pca', 'ADT_X_umap', 'ADT_isotype_controls', 'GEX_X_pca', 'GEX_X_umap', 'X_pca', 'X_umap', 'protein_expression'\n",
       "    layers: 'counts'"
      ]
     },
     "execution_count": 32,
     "metadata": {},
     "output_type": "execute_result"
    }
   ],
   "source": [
    "adata"
   ]
  },
  {
   "cell_type": "code",
   "execution_count": 33,
   "id": "b3909370",
   "metadata": {},
   "outputs": [
    {
     "data": {
      "text/plain": [
       "['N', 'S', 'Granja', 'Caron', 'HCA']"
      ]
     },
     "execution_count": 33,
     "metadata": {},
     "output_type": "execute_result"
    }
   ],
   "source": [
    "adata.obs['SAMPLE_SET'].unique().tolist()"
   ]
  },
  {
   "cell_type": "markdown",
   "id": "94eb5cfa",
   "metadata": {},
   "source": [
    "## Neurips"
   ]
  },
  {
   "cell_type": "code",
   "execution_count": null,
   "id": "800cd158",
   "metadata": {},
   "outputs": [],
   "source": []
  },
  {
   "cell_type": "code",
   "execution_count": 34,
   "id": "b3563662",
   "metadata": {},
   "outputs": [],
   "source": [
    "#Selecting only Neurips, raw data from original anndata file\n",
    "\n",
    "adata_neurips=adata[adata.obs['SAMPLE_SET'] == 'N' ].copy()"
   ]
  },
  {
   "cell_type": "code",
   "execution_count": 35,
   "id": "f3a75be9",
   "metadata": {},
   "outputs": [
    {
     "data": {
      "text/plain": [
       "AnnData object with n_obs × n_vars = 80998 × 21720\n",
       "    obs: 'GEX_n_genes_by_counts', 'GEX_pct_counts_mt', 'GEX_size_factors', 'GEX_phase', 'ADT_n_antibodies_by_counts', 'ADT_total_counts', 'ADT_iso_count', 'cell_type', 'batch', 'ADT_pseudotime_order', 'GEX_pseudotime_order', 'Samplename', 'Site', 'DonorNumber', 'Modality', 'VendorLot', 'DonorID', 'DonorAge', 'DonorBMI', 'DonorBloodType', 'DonorRace', 'Ethnicity', 'DonorGender', 'QCMeds', 'DonorSmoker', 'is_train', 'n_genes', 'percent_mito', 'percent_ribo', 'n_counts', 'leiden_r2', 'leiden_r2_n_genes_MAD_diff', 'leiden_r2_n_counts_MAD_diff', 'leiden_r2_percent_mito_MAD_diff', 'filter', 'model_group', 'BATCH', 'POOL', 'SAMPLE_SET', 'SAMPLE_TYPE', 'SAMPLE_TISSUE', 'DIAGNOSIS', 'SUBTYPE', 'STATUS'\n",
       "    obsm: 'ADT_X_pca', 'ADT_X_umap', 'ADT_isotype_controls', 'GEX_X_pca', 'GEX_X_umap', 'X_pca', 'X_umap', 'protein_expression'\n",
       "    layers: 'counts'"
      ]
     },
     "execution_count": 35,
     "metadata": {},
     "output_type": "execute_result"
    }
   ],
   "source": [
    "adata_neurips"
   ]
  },
  {
   "cell_type": "code",
   "execution_count": 15,
   "id": "00617653",
   "metadata": {},
   "outputs": [],
   "source": [
    "df=adata_neurips.obsm['protein_expression'].astype(float)\n"
   ]
  },
  {
   "cell_type": "code",
   "execution_count": 16,
   "id": "ae06bfe8",
   "metadata": {},
   "outputs": [
    {
     "data": {
      "text/plain": [
       "(80998, 139)"
      ]
     },
     "execution_count": 16,
     "metadata": {},
     "output_type": "execute_result"
    }
   ],
   "source": [
    "adata_neurips.obsm['protein_expression'].shape\n",
    "\n"
   ]
  },
  {
   "cell_type": "code",
   "execution_count": 20,
   "id": "19cdb3b6",
   "metadata": {},
   "outputs": [],
   "source": [
    "#empty anndata file with correct shape\n",
    "\n",
    "adata_e = anndata.AnnData(np.random.poisson(1, size=(80998, 139)))"
   ]
  },
  {
   "cell_type": "code",
   "execution_count": 21,
   "id": "d5f54d49",
   "metadata": {},
   "outputs": [],
   "source": [
    "adata_e.X=df"
   ]
  },
  {
   "cell_type": "code",
   "execution_count": 22,
   "id": "86dc7cb2",
   "metadata": {},
   "outputs": [],
   "source": [
    "adata_e.obs_names = df.index\n",
    "adata_e.var_names = df.columns"
   ]
  },
  {
   "cell_type": "code",
   "execution_count": 23,
   "id": "9cf9feba",
   "metadata": {},
   "outputs": [],
   "source": [
    "#normalization\n",
    "pt.pp.clr(adata_e)"
   ]
  },
  {
   "cell_type": "code",
   "execution_count": 24,
   "id": "ecf0f914",
   "metadata": {},
   "outputs": [],
   "source": [
    "neurips_prot=adata_e.to_df()"
   ]
  },
  {
   "cell_type": "code",
   "execution_count": 25,
   "id": "ad86ca27",
   "metadata": {},
   "outputs": [],
   "source": [
    "#save as new df to obsm\n",
    "adata_neurips.obsm['protein_expression_clr_neurips'] = neurips_prot"
   ]
  },
  {
   "cell_type": "code",
   "execution_count": 26,
   "id": "fab66173",
   "metadata": {},
   "outputs": [
    {
     "data": {
      "text/plain": [
       "AnnData object with n_obs × n_vars = 80998 × 21720\n",
       "    obs: 'GEX_n_genes_by_counts', 'GEX_pct_counts_mt', 'GEX_size_factors', 'GEX_phase', 'ADT_n_antibodies_by_counts', 'ADT_total_counts', 'ADT_iso_count', 'cell_type', 'batch', 'ADT_pseudotime_order', 'GEX_pseudotime_order', 'Samplename', 'Site', 'DonorNumber', 'Modality', 'VendorLot', 'DonorID', 'DonorAge', 'DonorBMI', 'DonorBloodType', 'DonorRace', 'Ethnicity', 'DonorGender', 'QCMeds', 'DonorSmoker', 'is_train', 'n_genes', 'percent_mito', 'percent_ribo', 'n_counts', 'leiden_r2', 'leiden_r2_n_genes_MAD_diff', 'leiden_r2_n_counts_MAD_diff', 'leiden_r2_percent_mito_MAD_diff', 'filter', 'model_group', 'BATCH', 'POOL', 'SAMPLE_SET', 'SAMPLE_TYPE', 'SAMPLE_TISSUE', 'DIAGNOSIS', 'SUBTYPE', 'STATUS'\n",
       "    obsm: 'ADT_X_pca', 'ADT_X_umap', 'ADT_isotype_controls', 'GEX_X_pca', 'GEX_X_umap', 'X_pca', 'X_umap', 'protein_expression', 'protein_expression_clr_neurips'\n",
       "    layers: 'counts'"
      ]
     },
     "execution_count": 26,
     "metadata": {},
     "output_type": "execute_result"
    }
   ],
   "source": [
    "adata_neurips"
   ]
  },
  {
   "cell_type": "code",
   "execution_count": 27,
   "id": "62d386c6",
   "metadata": {},
   "outputs": [],
   "source": [
    "#save the file!\n",
    "\n",
    "adata_neurips.write('/Users/tiinatuononen/Desktop/Thesis/Project/data/adata_neurips_norm_outer.h5ad')"
   ]
  },
  {
   "cell_type": "code",
   "execution_count": 29,
   "id": "c7f93e11",
   "metadata": {},
   "outputs": [
    {
     "data": {
      "text/html": [
       "<div>\n",
       "<style scoped>\n",
       "    .dataframe tbody tr th:only-of-type {\n",
       "        vertical-align: middle;\n",
       "    }\n",
       "\n",
       "    .dataframe tbody tr th {\n",
       "        vertical-align: top;\n",
       "    }\n",
       "\n",
       "    .dataframe thead th {\n",
       "        text-align: right;\n",
       "    }\n",
       "</style>\n",
       "<table border=\"1\" class=\"dataframe\">\n",
       "  <thead>\n",
       "    <tr style=\"text-align: right;\">\n",
       "      <th></th>\n",
       "      <th>CD86</th>\n",
       "      <th>CD274</th>\n",
       "      <th>CD270</th>\n",
       "      <th>CD155</th>\n",
       "      <th>CD112</th>\n",
       "      <th>CD47</th>\n",
       "      <th>CD48</th>\n",
       "      <th>CD40</th>\n",
       "      <th>CD154</th>\n",
       "      <th>CD52</th>\n",
       "      <th>...</th>\n",
       "      <th>HLA-E</th>\n",
       "      <th>CD82</th>\n",
       "      <th>CD101</th>\n",
       "      <th>CD88</th>\n",
       "      <th>CD224</th>\n",
       "      <th>CD197</th>\n",
       "      <th>CD34</th>\n",
       "      <th>CD10</th>\n",
       "      <th>CD90</th>\n",
       "      <th>CD15</th>\n",
       "    </tr>\n",
       "  </thead>\n",
       "  <tbody>\n",
       "    <tr>\n",
       "      <th>GTAGTACCAATCCTTT-1-s4d1</th>\n",
       "      <td>0.652674</td>\n",
       "      <td>1.447594</td>\n",
       "      <td>1.489354</td>\n",
       "      <td>0.890243</td>\n",
       "      <td>1.290341</td>\n",
       "      <td>1.988618</td>\n",
       "      <td>1.733474</td>\n",
       "      <td>0.850004</td>\n",
       "      <td>1.531390</td>\n",
       "      <td>0.694828</td>\n",
       "      <td>...</td>\n",
       "      <td>1.532575</td>\n",
       "      <td>0.614600</td>\n",
       "      <td>0.900688</td>\n",
       "      <td>1.389844</td>\n",
       "      <td>0.918109</td>\n",
       "      <td>0.0</td>\n",
       "      <td>0.0</td>\n",
       "      <td>0.0</td>\n",
       "      <td>0.0</td>\n",
       "      <td>0.0</td>\n",
       "    </tr>\n",
       "    <tr>\n",
       "      <th>CTCAAGAGTCACAGAG-1-s4d1</th>\n",
       "      <td>0.652674</td>\n",
       "      <td>1.069339</td>\n",
       "      <td>1.657770</td>\n",
       "      <td>0.890243</td>\n",
       "      <td>1.377072</td>\n",
       "      <td>1.264995</td>\n",
       "      <td>1.863027</td>\n",
       "      <td>1.101769</td>\n",
       "      <td>1.562259</td>\n",
       "      <td>1.072649</td>\n",
       "      <td>...</td>\n",
       "      <td>1.283465</td>\n",
       "      <td>0.614600</td>\n",
       "      <td>1.786480</td>\n",
       "      <td>0.762359</td>\n",
       "      <td>1.112478</td>\n",
       "      <td>0.0</td>\n",
       "      <td>0.0</td>\n",
       "      <td>0.0</td>\n",
       "      <td>0.0</td>\n",
       "      <td>0.0</td>\n",
       "    </tr>\n",
       "    <tr>\n",
       "      <th>CTGTGGGTCATGCGGC-1-s4d1</th>\n",
       "      <td>0.378666</td>\n",
       "      <td>1.132949</td>\n",
       "      <td>1.153412</td>\n",
       "      <td>0.730824</td>\n",
       "      <td>1.195368</td>\n",
       "      <td>1.546005</td>\n",
       "      <td>1.090567</td>\n",
       "      <td>1.173337</td>\n",
       "      <td>1.303511</td>\n",
       "      <td>1.013739</td>\n",
       "      <td>...</td>\n",
       "      <td>1.344431</td>\n",
       "      <td>0.353792</td>\n",
       "      <td>0.860303</td>\n",
       "      <td>0.979461</td>\n",
       "      <td>1.147198</td>\n",
       "      <td>0.0</td>\n",
       "      <td>0.0</td>\n",
       "      <td>0.0</td>\n",
       "      <td>0.0</td>\n",
       "      <td>0.0</td>\n",
       "    </tr>\n",
       "    <tr>\n",
       "      <th>CGTGATAGTTATCTGG-1-s4d1</th>\n",
       "      <td>0.000000</td>\n",
       "      <td>1.249182</td>\n",
       "      <td>1.335424</td>\n",
       "      <td>1.256332</td>\n",
       "      <td>2.674106</td>\n",
       "      <td>1.322314</td>\n",
       "      <td>0.289336</td>\n",
       "      <td>1.240123</td>\n",
       "      <td>1.397398</td>\n",
       "      <td>1.525053</td>\n",
       "      <td>...</td>\n",
       "      <td>0.859205</td>\n",
       "      <td>1.527772</td>\n",
       "      <td>0.629556</td>\n",
       "      <td>0.854928</td>\n",
       "      <td>1.000442</td>\n",
       "      <td>0.0</td>\n",
       "      <td>0.0</td>\n",
       "      <td>0.0</td>\n",
       "      <td>0.0</td>\n",
       "      <td>0.0</td>\n",
       "    </tr>\n",
       "    <tr>\n",
       "      <th>AGATCCAAGATCGGTG-1-s4d1</th>\n",
       "      <td>2.784459</td>\n",
       "      <td>1.132949</td>\n",
       "      <td>1.674846</td>\n",
       "      <td>1.669058</td>\n",
       "      <td>1.663981</td>\n",
       "      <td>2.101246</td>\n",
       "      <td>2.112640</td>\n",
       "      <td>1.417276</td>\n",
       "      <td>1.884321</td>\n",
       "      <td>1.861734</td>\n",
       "      <td>...</td>\n",
       "      <td>1.429432</td>\n",
       "      <td>1.031029</td>\n",
       "      <td>2.808629</td>\n",
       "      <td>2.007436</td>\n",
       "      <td>2.064066</td>\n",
       "      <td>0.0</td>\n",
       "      <td>0.0</td>\n",
       "      <td>0.0</td>\n",
       "      <td>0.0</td>\n",
       "      <td>0.0</td>\n",
       "    </tr>\n",
       "    <tr>\n",
       "      <th>...</th>\n",
       "      <td>...</td>\n",
       "      <td>...</td>\n",
       "      <td>...</td>\n",
       "      <td>...</td>\n",
       "      <td>...</td>\n",
       "      <td>...</td>\n",
       "      <td>...</td>\n",
       "      <td>...</td>\n",
       "      <td>...</td>\n",
       "      <td>...</td>\n",
       "      <td>...</td>\n",
       "      <td>...</td>\n",
       "      <td>...</td>\n",
       "      <td>...</td>\n",
       "      <td>...</td>\n",
       "      <td>...</td>\n",
       "      <td>...</td>\n",
       "      <td>...</td>\n",
       "      <td>...</td>\n",
       "      <td>...</td>\n",
       "      <td>...</td>\n",
       "    </tr>\n",
       "    <tr>\n",
       "      <th>GTGGTTAGTCGAGTTT-1-s1d3</th>\n",
       "      <td>0.000000</td>\n",
       "      <td>0.175083</td>\n",
       "      <td>0.734526</td>\n",
       "      <td>0.000000</td>\n",
       "      <td>0.505917</td>\n",
       "      <td>1.235054</td>\n",
       "      <td>1.241451</td>\n",
       "      <td>0.512721</td>\n",
       "      <td>0.502246</td>\n",
       "      <td>1.766372</td>\n",
       "      <td>...</td>\n",
       "      <td>0.374154</td>\n",
       "      <td>0.425643</td>\n",
       "      <td>0.519947</td>\n",
       "      <td>0.484666</td>\n",
       "      <td>0.497623</td>\n",
       "      <td>0.0</td>\n",
       "      <td>0.0</td>\n",
       "      <td>0.0</td>\n",
       "      <td>0.0</td>\n",
       "      <td>0.0</td>\n",
       "    </tr>\n",
       "    <tr>\n",
       "      <th>GCTACAACAGTGCGCT-1-s1d3</th>\n",
       "      <td>0.378666</td>\n",
       "      <td>0.453643</td>\n",
       "      <td>0.894450</td>\n",
       "      <td>0.000000</td>\n",
       "      <td>0.766577</td>\n",
       "      <td>1.058199</td>\n",
       "      <td>1.529611</td>\n",
       "      <td>0.512721</td>\n",
       "      <td>0.663922</td>\n",
       "      <td>1.766372</td>\n",
       "      <td>...</td>\n",
       "      <td>1.074485</td>\n",
       "      <td>0.100854</td>\n",
       "      <td>1.415230</td>\n",
       "      <td>0.854928</td>\n",
       "      <td>0.560915</td>\n",
       "      <td>0.0</td>\n",
       "      <td>0.0</td>\n",
       "      <td>0.0</td>\n",
       "      <td>0.0</td>\n",
       "      <td>0.0</td>\n",
       "    </tr>\n",
       "    <tr>\n",
       "      <th>AACAAAGGTTGGTACT-1-s1d3</th>\n",
       "      <td>0.378666</td>\n",
       "      <td>0.324031</td>\n",
       "      <td>1.094684</td>\n",
       "      <td>0.306698</td>\n",
       "      <td>0.401377</td>\n",
       "      <td>1.983838</td>\n",
       "      <td>2.156735</td>\n",
       "      <td>0.512721</td>\n",
       "      <td>0.835018</td>\n",
       "      <td>2.400949</td>\n",
       "      <td>...</td>\n",
       "      <td>1.149104</td>\n",
       "      <td>1.324148</td>\n",
       "      <td>1.315806</td>\n",
       "      <td>0.605141</td>\n",
       "      <td>0.357584</td>\n",
       "      <td>0.0</td>\n",
       "      <td>0.0</td>\n",
       "      <td>0.0</td>\n",
       "      <td>0.0</td>\n",
       "      <td>0.0</td>\n",
       "    </tr>\n",
       "    <tr>\n",
       "      <th>TGACAGTCATGGCTGC-1-s1d3</th>\n",
       "      <td>0.378666</td>\n",
       "      <td>0.764571</td>\n",
       "      <td>0.776968</td>\n",
       "      <td>0.306698</td>\n",
       "      <td>0.152401</td>\n",
       "      <td>1.358780</td>\n",
       "      <td>1.753042</td>\n",
       "      <td>0.201533</td>\n",
       "      <td>0.586348</td>\n",
       "      <td>1.543085</td>\n",
       "      <td>...</td>\n",
       "      <td>1.373575</td>\n",
       "      <td>0.276377</td>\n",
       "      <td>1.113769</td>\n",
       "      <td>0.660339</td>\n",
       "      <td>0.960123</td>\n",
       "      <td>0.0</td>\n",
       "      <td>0.0</td>\n",
       "      <td>0.0</td>\n",
       "      <td>0.0</td>\n",
       "      <td>0.0</td>\n",
       "    </tr>\n",
       "    <tr>\n",
       "      <th>CTGGCAGGTCTCACGG-1-s1d3</th>\n",
       "      <td>0.000000</td>\n",
       "      <td>0.568367</td>\n",
       "      <td>0.965743</td>\n",
       "      <td>0.000000</td>\n",
       "      <td>0.401377</td>\n",
       "      <td>1.589583</td>\n",
       "      <td>1.935554</td>\n",
       "      <td>0.749707</td>\n",
       "      <td>0.700563</td>\n",
       "      <td>2.113165</td>\n",
       "      <td>...</td>\n",
       "      <td>1.401893</td>\n",
       "      <td>0.723263</td>\n",
       "      <td>0.939506</td>\n",
       "      <td>0.484666</td>\n",
       "      <td>0.357584</td>\n",
       "      <td>0.0</td>\n",
       "      <td>0.0</td>\n",
       "      <td>0.0</td>\n",
       "      <td>0.0</td>\n",
       "      <td>0.0</td>\n",
       "    </tr>\n",
       "  </tbody>\n",
       "</table>\n",
       "<p>80998 rows × 139 columns</p>\n",
       "</div>"
      ],
      "text/plain": [
       "                             CD86     CD274     CD270     CD155     CD112  \\\n",
       "GTAGTACCAATCCTTT-1-s4d1  0.652674  1.447594  1.489354  0.890243  1.290341   \n",
       "CTCAAGAGTCACAGAG-1-s4d1  0.652674  1.069339  1.657770  0.890243  1.377072   \n",
       "CTGTGGGTCATGCGGC-1-s4d1  0.378666  1.132949  1.153412  0.730824  1.195368   \n",
       "CGTGATAGTTATCTGG-1-s4d1  0.000000  1.249182  1.335424  1.256332  2.674106   \n",
       "AGATCCAAGATCGGTG-1-s4d1  2.784459  1.132949  1.674846  1.669058  1.663981   \n",
       "...                           ...       ...       ...       ...       ...   \n",
       "GTGGTTAGTCGAGTTT-1-s1d3  0.000000  0.175083  0.734526  0.000000  0.505917   \n",
       "GCTACAACAGTGCGCT-1-s1d3  0.378666  0.453643  0.894450  0.000000  0.766577   \n",
       "AACAAAGGTTGGTACT-1-s1d3  0.378666  0.324031  1.094684  0.306698  0.401377   \n",
       "TGACAGTCATGGCTGC-1-s1d3  0.378666  0.764571  0.776968  0.306698  0.152401   \n",
       "CTGGCAGGTCTCACGG-1-s1d3  0.000000  0.568367  0.965743  0.000000  0.401377   \n",
       "\n",
       "                             CD47      CD48      CD40     CD154      CD52  \\\n",
       "GTAGTACCAATCCTTT-1-s4d1  1.988618  1.733474  0.850004  1.531390  0.694828   \n",
       "CTCAAGAGTCACAGAG-1-s4d1  1.264995  1.863027  1.101769  1.562259  1.072649   \n",
       "CTGTGGGTCATGCGGC-1-s4d1  1.546005  1.090567  1.173337  1.303511  1.013739   \n",
       "CGTGATAGTTATCTGG-1-s4d1  1.322314  0.289336  1.240123  1.397398  1.525053   \n",
       "AGATCCAAGATCGGTG-1-s4d1  2.101246  2.112640  1.417276  1.884321  1.861734   \n",
       "...                           ...       ...       ...       ...       ...   \n",
       "GTGGTTAGTCGAGTTT-1-s1d3  1.235054  1.241451  0.512721  0.502246  1.766372   \n",
       "GCTACAACAGTGCGCT-1-s1d3  1.058199  1.529611  0.512721  0.663922  1.766372   \n",
       "AACAAAGGTTGGTACT-1-s1d3  1.983838  2.156735  0.512721  0.835018  2.400949   \n",
       "TGACAGTCATGGCTGC-1-s1d3  1.358780  1.753042  0.201533  0.586348  1.543085   \n",
       "CTGGCAGGTCTCACGG-1-s1d3  1.589583  1.935554  0.749707  0.700563  2.113165   \n",
       "\n",
       "                         ...     HLA-E      CD82     CD101      CD88  \\\n",
       "GTAGTACCAATCCTTT-1-s4d1  ...  1.532575  0.614600  0.900688  1.389844   \n",
       "CTCAAGAGTCACAGAG-1-s4d1  ...  1.283465  0.614600  1.786480  0.762359   \n",
       "CTGTGGGTCATGCGGC-1-s4d1  ...  1.344431  0.353792  0.860303  0.979461   \n",
       "CGTGATAGTTATCTGG-1-s4d1  ...  0.859205  1.527772  0.629556  0.854928   \n",
       "AGATCCAAGATCGGTG-1-s4d1  ...  1.429432  1.031029  2.808629  2.007436   \n",
       "...                      ...       ...       ...       ...       ...   \n",
       "GTGGTTAGTCGAGTTT-1-s1d3  ...  0.374154  0.425643  0.519947  0.484666   \n",
       "GCTACAACAGTGCGCT-1-s1d3  ...  1.074485  0.100854  1.415230  0.854928   \n",
       "AACAAAGGTTGGTACT-1-s1d3  ...  1.149104  1.324148  1.315806  0.605141   \n",
       "TGACAGTCATGGCTGC-1-s1d3  ...  1.373575  0.276377  1.113769  0.660339   \n",
       "CTGGCAGGTCTCACGG-1-s1d3  ...  1.401893  0.723263  0.939506  0.484666   \n",
       "\n",
       "                            CD224  CD197  CD34  CD10  CD90  CD15  \n",
       "GTAGTACCAATCCTTT-1-s4d1  0.918109    0.0   0.0   0.0   0.0   0.0  \n",
       "CTCAAGAGTCACAGAG-1-s4d1  1.112478    0.0   0.0   0.0   0.0   0.0  \n",
       "CTGTGGGTCATGCGGC-1-s4d1  1.147198    0.0   0.0   0.0   0.0   0.0  \n",
       "CGTGATAGTTATCTGG-1-s4d1  1.000442    0.0   0.0   0.0   0.0   0.0  \n",
       "AGATCCAAGATCGGTG-1-s4d1  2.064066    0.0   0.0   0.0   0.0   0.0  \n",
       "...                           ...    ...   ...   ...   ...   ...  \n",
       "GTGGTTAGTCGAGTTT-1-s1d3  0.497623    0.0   0.0   0.0   0.0   0.0  \n",
       "GCTACAACAGTGCGCT-1-s1d3  0.560915    0.0   0.0   0.0   0.0   0.0  \n",
       "AACAAAGGTTGGTACT-1-s1d3  0.357584    0.0   0.0   0.0   0.0   0.0  \n",
       "TGACAGTCATGGCTGC-1-s1d3  0.960123    0.0   0.0   0.0   0.0   0.0  \n",
       "CTGGCAGGTCTCACGG-1-s1d3  0.357584    0.0   0.0   0.0   0.0   0.0  \n",
       "\n",
       "[80998 rows x 139 columns]"
      ]
     },
     "execution_count": 29,
     "metadata": {},
     "output_type": "execute_result"
    }
   ],
   "source": [
    "adata_neurips.obsm['protein_expression_clr_neurips']"
   ]
  },
  {
   "cell_type": "code",
   "execution_count": null,
   "id": "7c5a345e",
   "metadata": {},
   "outputs": [],
   "source": []
  }
 ],
 "metadata": {
  "kernelspec": {
   "display_name": "tiina-env",
   "language": "python",
   "name": "tiina-env"
  },
  "language_info": {
   "codemirror_mode": {
    "name": "ipython",
    "version": 3
   },
   "file_extension": ".py",
   "mimetype": "text/x-python",
   "name": "python",
   "nbconvert_exporter": "python",
   "pygments_lexer": "ipython3",
   "version": "3.10.6"
  }
 },
 "nbformat": 4,
 "nbformat_minor": 5
}
