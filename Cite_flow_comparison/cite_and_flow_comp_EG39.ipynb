{
 "cells": [
  {
   "cell_type": "markdown",
   "id": "3871f798",
   "metadata": {},
   "source": [
    "# EG39 CITE-seq and flow cytometry comparisons"
   ]
  },
  {
   "cell_type": "code",
   "execution_count": 1,
   "id": "45e64e2e",
   "metadata": {},
   "outputs": [
    {
     "name": "stderr",
     "output_type": "stream",
     "text": [
      "Global seed set to 0\n",
      "/Users/tiinatuononen/opt/anaconda3/envs/tiina-env/lib/python3.10/site-packages/pytorch_lightning/utilities/warnings.py:53: LightningDeprecationWarning: pytorch_lightning.utilities.warnings.rank_zero_deprecation has been deprecated in v1.6 and will be removed in v1.8. Use the equivalent function from the pytorch_lightning.utilities.rank_zero module instead.\n",
      "  new_rank_zero_deprecation(\n",
      "/Users/tiinatuononen/opt/anaconda3/envs/tiina-env/lib/python3.10/site-packages/pytorch_lightning/utilities/warnings.py:58: LightningDeprecationWarning: The `pytorch_lightning.loggers.base.rank_zero_experiment` is deprecated in v1.7 and will be removed in v1.9. Please use `pytorch_lightning.loggers.logger.rank_zero_experiment` instead.\n",
      "  return new_rank_zero_deprecation(*args, **kwargs)\n"
     ]
    }
   ],
   "source": [
    "import pandas as pd\n",
    "import numpy as np\n",
    "import matplotlib.pyplot as plt\n",
    "import seaborn as sns\n",
    "import anndata as ad\n",
    "import scvi\n",
    "import scanpy as sc\n",
    "from ridgeplot import ridgeplot\n",
    "\n",
    "import sklearn.mixture\n",
    "\n",
    "import warnings\n",
    "\n",
    "warnings.filterwarnings('ignore')"
   ]
  },
  {
   "cell_type": "markdown",
   "id": "e37e193f",
   "metadata": {},
   "source": [
    "Sample used in this notebook is EG39. \n",
    "\n",
    "### Sample information:\n",
    "- MDS\n",
    "- diagnosis\n",
    "- 11% of bonemarrow cells are blasts\n"
   ]
  },
  {
   "cell_type": "markdown",
   "id": "303e686d",
   "metadata": {},
   "source": [
    "## Preparing files"
   ]
  },
  {
   "cell_type": "code",
   "execution_count": 2,
   "id": "3168cefd",
   "metadata": {},
   "outputs": [
    {
     "data": {
      "text/plain": [
       "(121340, 8051)"
      ]
     },
     "execution_count": 2,
     "metadata": {},
     "output_type": "execute_result"
    }
   ],
   "source": [
    "#raw protein data, all datasets, raw + CLR and DSB normalized\n",
    "\n",
    "adata = sc.read_h5ad('/Users/tiinatuononen/Desktop/Thesis/Project/data/adata_easi_norm.h5ad')\n",
    "\n",
    "adata.shape"
   ]
  },
  {
   "cell_type": "code",
   "execution_count": 3,
   "id": "21a13ab9",
   "metadata": {},
   "outputs": [],
   "source": [
    "#select sample\n",
    "adata_sample=adata[adata.obs['eg_code'] == 'EG39']"
   ]
  },
  {
   "cell_type": "code",
   "execution_count": 4,
   "id": "7aad0861",
   "metadata": {},
   "outputs": [
    {
     "data": {
      "text/plain": [
       "Series([], Name: new_cell_type, dtype: category\n",
       "Categories (0, object): [])"
      ]
     },
     "execution_count": 4,
     "metadata": {},
     "output_type": "execute_result"
    }
   ],
   "source": [
    "#selecting only leukemic cells\n",
    "\n",
    "eg_blasts=adata_sample[adata_sample.obs['new_cell_type'] == 'leukemic']\n",
    "\n",
    "eg_blasts.obs['new_cell_type']"
   ]
  },
  {
   "cell_type": "code",
   "execution_count": 5,
   "id": "7c4979db",
   "metadata": {},
   "outputs": [
    {
     "data": {
      "text/html": [
       "<div>\n",
       "<style scoped>\n",
       "    .dataframe tbody tr th:only-of-type {\n",
       "        vertical-align: middle;\n",
       "    }\n",
       "\n",
       "    .dataframe tbody tr th {\n",
       "        vertical-align: top;\n",
       "    }\n",
       "\n",
       "    .dataframe thead th {\n",
       "        text-align: right;\n",
       "    }\n",
       "</style>\n",
       "<table border=\"1\" class=\"dataframe\">\n",
       "  <thead>\n",
       "    <tr style=\"text-align: right;\">\n",
       "      <th></th>\n",
       "      <th>CD19</th>\n",
       "      <th>CD10</th>\n",
       "      <th>CD20</th>\n",
       "      <th>CD3</th>\n",
       "      <th>CD2</th>\n",
       "      <th>CD11b</th>\n",
       "      <th>HLADR</th>\n",
       "      <th>CD38</th>\n",
       "      <th>CD11c</th>\n",
       "      <th>CD7</th>\n",
       "      <th>...</th>\n",
       "      <th>CD5</th>\n",
       "      <th>CD15</th>\n",
       "      <th>CD64</th>\n",
       "      <th>CD117</th>\n",
       "      <th>CD24</th>\n",
       "      <th>CD44</th>\n",
       "      <th>CD58</th>\n",
       "      <th>CD66ace</th>\n",
       "      <th>CD13</th>\n",
       "      <th>CD34</th>\n",
       "    </tr>\n",
       "  </thead>\n",
       "  <tbody>\n",
       "  </tbody>\n",
       "</table>\n",
       "<p>0 rows × 33 columns</p>\n",
       "</div>"
      ],
      "text/plain": [
       "Empty DataFrameView\n",
       "Columns: [CD19, CD10, CD20, CD3, CD2, CD11b, HLADR, CD38, CD11c, CD7, CD45, CD33, CD81, CD73, CD123, CD14, CD45RA, CD45RO, CD4, CD8a, CD197, CD127, CD56, CD5, CD15, CD64, CD117, CD24, CD44, CD58, CD66ace, CD13, CD34]\n",
       "Index: []\n",
       "\n",
       "[0 rows x 33 columns]"
      ]
     },
     "execution_count": 5,
     "metadata": {},
     "output_type": "execute_result"
    }
   ],
   "source": [
    "#select CLR normalized protein counts (only leukemic cells)\n",
    "\n",
    "prot_clr=eg_blasts.obsm['protein_expression_clr']\n",
    "\n",
    "prot_clr"
   ]
  },
  {
   "cell_type": "code",
   "execution_count": 6,
   "id": "60e6e23e",
   "metadata": {
    "scrolled": true
   },
   "outputs": [
    {
     "data": {
      "text/html": [
       "<div>\n",
       "<style scoped>\n",
       "    .dataframe tbody tr th:only-of-type {\n",
       "        vertical-align: middle;\n",
       "    }\n",
       "\n",
       "    .dataframe tbody tr th {\n",
       "        vertical-align: top;\n",
       "    }\n",
       "\n",
       "    .dataframe thead th {\n",
       "        text-align: right;\n",
       "    }\n",
       "</style>\n",
       "<table border=\"1\" class=\"dataframe\">\n",
       "  <thead>\n",
       "    <tr style=\"text-align: right;\">\n",
       "      <th></th>\n",
       "      <th>CD19</th>\n",
       "      <th>CD10</th>\n",
       "      <th>CD20</th>\n",
       "      <th>CD3</th>\n",
       "      <th>CD2</th>\n",
       "      <th>CD11b</th>\n",
       "      <th>HLADR</th>\n",
       "      <th>CD38</th>\n",
       "      <th>CD11c</th>\n",
       "      <th>CD7</th>\n",
       "      <th>...</th>\n",
       "      <th>CD5</th>\n",
       "      <th>CD15</th>\n",
       "      <th>CD64</th>\n",
       "      <th>CD117</th>\n",
       "      <th>CD24</th>\n",
       "      <th>CD44</th>\n",
       "      <th>CD58</th>\n",
       "      <th>CD66ace</th>\n",
       "      <th>CD13</th>\n",
       "      <th>CD34</th>\n",
       "    </tr>\n",
       "  </thead>\n",
       "  <tbody>\n",
       "  </tbody>\n",
       "</table>\n",
       "<p>0 rows × 33 columns</p>\n",
       "</div>"
      ],
      "text/plain": [
       "Empty DataFrameView\n",
       "Columns: [CD19, CD10, CD20, CD3, CD2, CD11b, HLADR, CD38, CD11c, CD7, CD45, CD33, CD81, CD73, CD123, CD14, CD45RA, CD45RO, CD4, CD8a, CD197, CD127, CD56, CD5, CD15, CD64, CD117, CD24, CD44, CD58, CD66ace, CD13, CD34]\n",
       "Index: []\n",
       "\n",
       "[0 rows x 33 columns]"
      ]
     },
     "execution_count": 6,
     "metadata": {},
     "output_type": "execute_result"
    }
   ],
   "source": [
    "#select DSB normalized protein counts\n",
    "\n",
    "prot_dsb=eg_blasts.obsm['protein_expression_dsb']\n",
    "\n",
    "prot_dsb"
   ]
  },
  {
   "cell_type": "code",
   "execution_count": 7,
   "id": "0b3f86e4",
   "metadata": {},
   "outputs": [],
   "source": [
    "#convert excel to csv (flow data)\n",
    "\n",
    "#read_file = pd.read_excel (r'/Users/tiinatuononen/Desktop/Thesis/Project/data/flow.xlsx')\n",
    "#read_file.to_csv (r'/Users/tiinatuononen/Desktop/Thesis/Project/data/flow.csv', index = None, header=True)"
   ]
  },
  {
   "cell_type": "code",
   "execution_count": 8,
   "id": "39a6005c",
   "metadata": {},
   "outputs": [],
   "source": [
    "#get flow data\n",
    "\n",
    "flow= pd.read_csv('/Users/tiinatuononen/Desktop/Thesis/Project/data/flow.csv')"
   ]
  },
  {
   "cell_type": "markdown",
   "id": "35358c3c",
   "metadata": {},
   "source": [
    "### Depending on used dataset, celltype annotations are varying (made by different groups). \"new_cell_types\" is made based on these, it is a \"standardized\" version of cell type annotations. "
   ]
  },
  {
   "cell_type": "code",
   "execution_count": 9,
   "id": "bdb5e661",
   "metadata": {},
   "outputs": [
    {
     "data": {
      "text/plain": [
       "['NK',\n",
       " 'non-leukemic',\n",
       " 'preleukemic',\n",
       " 'non-leukemic?',\n",
       " nan,\n",
       " 'leukemic',\n",
       " 'leukemic?',\n",
       " 'doublets?',\n",
       " 'unknown',\n",
       " '0',\n",
       " 'preleukemic?']"
      ]
     },
     "execution_count": 9,
     "metadata": {},
     "output_type": "execute_result"
    }
   ],
   "source": [
    "#Cell types offered by new_cell_type\n",
    "\n",
    "adata.obs['new_cell_type'].unique().tolist()"
   ]
  },
  {
   "cell_type": "code",
   "execution_count": 10,
   "id": "a937360c",
   "metadata": {},
   "outputs": [
    {
     "data": {
      "text/plain": [
       "['NKT',\n",
       " 'non-leukemic',\n",
       " 'preleukemic',\n",
       " 'non-leukemic?',\n",
       " nan,\n",
       " 'leukemic',\n",
       " 'leukemic?',\n",
       " 'doublets?',\n",
       " 'unknown',\n",
       " '0',\n",
       " 'preleukemic?']"
      ]
     },
     "execution_count": 10,
     "metadata": {},
     "output_type": "execute_result"
    }
   ],
   "source": [
    "#cell type annotations offered by cell_type\n",
    "\n",
    "adata.obs['cell_type'].unique().tolist()"
   ]
  },
  {
   "cell_type": "markdown",
   "id": "d7e09802",
   "metadata": {},
   "source": [
    "## CLR normalized\n",
    "\n"
   ]
  },
  {
   "cell_type": "code",
   "execution_count": 11,
   "id": "cf341f9c",
   "metadata": {},
   "outputs": [
    {
     "data": {
      "text/html": [
       "<div>\n",
       "<style scoped>\n",
       "    .dataframe tbody tr th:only-of-type {\n",
       "        vertical-align: middle;\n",
       "    }\n",
       "\n",
       "    .dataframe tbody tr th {\n",
       "        vertical-align: top;\n",
       "    }\n",
       "\n",
       "    .dataframe thead th {\n",
       "        text-align: right;\n",
       "    }\n",
       "</style>\n",
       "<table border=\"1\" class=\"dataframe\">\n",
       "  <thead>\n",
       "    <tr style=\"text-align: right;\">\n",
       "      <th></th>\n",
       "      <th>CD19</th>\n",
       "      <th>CD10</th>\n",
       "      <th>CD20</th>\n",
       "      <th>CD3</th>\n",
       "      <th>CD2</th>\n",
       "      <th>CD11b</th>\n",
       "      <th>HLADR</th>\n",
       "      <th>CD38</th>\n",
       "      <th>CD11c</th>\n",
       "      <th>CD7</th>\n",
       "      <th>...</th>\n",
       "      <th>CD5</th>\n",
       "      <th>CD15</th>\n",
       "      <th>CD64</th>\n",
       "      <th>CD117</th>\n",
       "      <th>CD24</th>\n",
       "      <th>CD44</th>\n",
       "      <th>CD58</th>\n",
       "      <th>CD66ace</th>\n",
       "      <th>CD13</th>\n",
       "      <th>CD34</th>\n",
       "    </tr>\n",
       "  </thead>\n",
       "  <tbody>\n",
       "  </tbody>\n",
       "</table>\n",
       "<p>0 rows × 33 columns</p>\n",
       "</div>"
      ],
      "text/plain": [
       "Empty DataFrameView\n",
       "Columns: [CD19, CD10, CD20, CD3, CD2, CD11b, HLADR, CD38, CD11c, CD7, CD45, CD33, CD81, CD73, CD123, CD14, CD45RA, CD45RO, CD4, CD8a, CD197, CD127, CD56, CD5, CD15, CD64, CD117, CD24, CD44, CD58, CD66ace, CD13, CD34]\n",
       "Index: []\n",
       "\n",
       "[0 rows x 33 columns]"
      ]
     },
     "execution_count": 11,
     "metadata": {},
     "output_type": "execute_result"
    }
   ],
   "source": [
    "#CLR normalized, only leukemic cells\n",
    "\n",
    "prot_clr"
   ]
  },
  {
   "cell_type": "code",
   "execution_count": 12,
   "id": "619f0d61",
   "metadata": {},
   "outputs": [
    {
     "data": {
      "text/html": [
       "<div>\n",
       "<style scoped>\n",
       "    .dataframe tbody tr th:only-of-type {\n",
       "        vertical-align: middle;\n",
       "    }\n",
       "\n",
       "    .dataframe tbody tr th {\n",
       "        vertical-align: top;\n",
       "    }\n",
       "\n",
       "    .dataframe thead th {\n",
       "        text-align: right;\n",
       "    }\n",
       "</style>\n",
       "<table border=\"1\" class=\"dataframe\">\n",
       "  <thead>\n",
       "    <tr style=\"text-align: right;\">\n",
       "      <th></th>\n",
       "      <th>EG_code</th>\n",
       "      <th>CD13</th>\n",
       "      <th>CD15</th>\n",
       "      <th>CD34</th>\n",
       "      <th>CD71</th>\n",
       "      <th>CD105</th>\n",
       "      <th>CD123</th>\n",
       "      <th>CD133</th>\n",
       "    </tr>\n",
       "  </thead>\n",
       "  <tbody>\n",
       "    <tr>\n",
       "      <th>17</th>\n",
       "      <td>EG39</td>\n",
       "      <td>1.0</td>\n",
       "      <td>0.05</td>\n",
       "      <td>1.0</td>\n",
       "      <td>1.0</td>\n",
       "      <td>1.0</td>\n",
       "      <td>1.0</td>\n",
       "      <td>0.57</td>\n",
       "    </tr>\n",
       "  </tbody>\n",
       "</table>\n",
       "</div>"
      ],
      "text/plain": [
       "   EG_code  CD13  CD15  CD34  CD71  CD105  CD123  CD133\n",
       "17    EG39   1.0  0.05   1.0   1.0    1.0    1.0   0.57"
      ]
     },
     "execution_count": 12,
     "metadata": {},
     "output_type": "execute_result"
    }
   ],
   "source": [
    "#flow results for selected sample\n",
    "\n",
    "egflow=flow[flow['EG_code'] == 'EG39'].dropna(axis=1)\n",
    "\n",
    "egflow"
   ]
  },
  {
   "cell_type": "code",
   "execution_count": 13,
   "id": "14f9cffa",
   "metadata": {},
   "outputs": [
    {
     "data": {
      "text/html": [
       "<div>\n",
       "<style scoped>\n",
       "    .dataframe tbody tr th:only-of-type {\n",
       "        vertical-align: middle;\n",
       "    }\n",
       "\n",
       "    .dataframe tbody tr th {\n",
       "        vertical-align: top;\n",
       "    }\n",
       "\n",
       "    .dataframe thead th {\n",
       "        text-align: right;\n",
       "    }\n",
       "</style>\n",
       "<table border=\"1\" class=\"dataframe\">\n",
       "  <thead>\n",
       "    <tr style=\"text-align: right;\">\n",
       "      <th></th>\n",
       "      <th>CD13</th>\n",
       "      <th>CD15</th>\n",
       "      <th>CD34</th>\n",
       "      <th>CD71</th>\n",
       "      <th>CD105</th>\n",
       "      <th>CD123</th>\n",
       "      <th>CD133</th>\n",
       "    </tr>\n",
       "  </thead>\n",
       "  <tbody>\n",
       "    <tr>\n",
       "      <th>17</th>\n",
       "      <td>1.0</td>\n",
       "      <td>0.05</td>\n",
       "      <td>1.0</td>\n",
       "      <td>1.0</td>\n",
       "      <td>1.0</td>\n",
       "      <td>1.0</td>\n",
       "      <td>0.57</td>\n",
       "    </tr>\n",
       "  </tbody>\n",
       "</table>\n",
       "</div>"
      ],
      "text/plain": [
       "    CD13  CD15  CD34  CD71  CD105  CD123  CD133\n",
       "17   1.0  0.05   1.0   1.0    1.0    1.0   0.57"
      ]
     },
     "execution_count": 13,
     "metadata": {},
     "output_type": "execute_result"
    }
   ],
   "source": [
    "#drop EG_code\n",
    "\n",
    "egflow=egflow.drop(\"EG_code\", axis=1)\n",
    "\n",
    "egflow"
   ]
  },
  {
   "cell_type": "code",
   "execution_count": 14,
   "id": "f91e3e90",
   "metadata": {},
   "outputs": [
    {
     "data": {
      "image/png": "[encoded data removed]",
      "text/plain": [
       "<Figure size 1500x800 with 1 Axes>"
      ]
     },
     "metadata": {},
     "output_type": "display_data"
    }
   ],
   "source": [
    "df=egflow * 100 #multiplied by 100 to get percentages\n",
    "\n",
    "df1=df.T\n",
    "\n",
    "df1.plot.bar(xlabel=\"Marker\", ylabel=\"% of blasts\",\n",
    "            figsize= (15,8),\n",
    "           fontsize=\"large\") ;\n",
    "\n",
    "plt.title('Blast phenotype', fontsize=20) ;"
   ]
  },
  {
   "cell_type": "code",
   "execution_count": 15,
   "id": "edab43af",
   "metadata": {},
   "outputs": [],
   "source": [
    "egflow=egflow*100"
   ]
  },
  {
   "cell_type": "code",
   "execution_count": 16,
   "id": "bdfd63f2",
   "metadata": {},
   "outputs": [
    {
     "data": {
      "text/plain": [
       "Index(['CD13', 'CD15', 'CD34', 'CD71', 'CD105', 'CD123', 'CD133'], dtype='object')"
      ]
     },
     "execution_count": 16,
     "metadata": {},
     "output_type": "execute_result"
    }
   ],
   "source": [
    "flow_markers=egflow.columns\n",
    "flow_markers"
   ]
  },
  {
   "cell_type": "code",
   "execution_count": 17,
   "id": "ae178391",
   "metadata": {},
   "outputs": [
    {
     "name": "stdout",
     "output_type": "stream",
     "text": [
      "CD13 Yes\n",
      "CD15 Yes\n",
      "CD34 Yes\n",
      "CD71 No\n",
      "CD105 No\n",
      "CD123 Yes\n",
      "CD133 No\n",
      "['CD13', 'CD15', 'CD34', 'CD123']\n"
     ]
    }
   ],
   "source": [
    "#Selecting common markers between flow and cite-seq\n",
    "\n",
    "listOfMarkers=flow_markers\n",
    "column_names=list()    #list including the common markers\n",
    "\n",
    "for x in listOfMarkers:\n",
    "    if x in prot_clr.columns:\n",
    "        print(x, \"Yes\")\n",
    "        column_names.append(x)\n",
    "    else:\n",
    "        print(x, \"No\") \n",
    "        \n",
    "print(column_names)"
   ]
  },
  {
   "cell_type": "code",
   "execution_count": 18,
   "id": "ed3456d8",
   "metadata": {},
   "outputs": [
    {
     "data": {
      "text/plain": [
       "(0, 33)"
      ]
     },
     "execution_count": 18,
     "metadata": {},
     "output_type": "execute_result"
    }
   ],
   "source": [
    "prot_clr.shape"
   ]
  },
  {
   "cell_type": "code",
   "execution_count": 19,
   "id": "be92539e",
   "metadata": {
    "scrolled": false
   },
   "outputs": [
    {
     "ename": "ValueError",
     "evalue": "Found array with 0 sample(s) (shape=(0, 1)) while a minimum of 2 is required by GaussianMixture.",
     "output_type": "error",
     "traceback": [
      "\u001b[0;31m---------------------------------------------------------------------------\u001b[0m",
      "\u001b[0;31mValueError\u001b[0m                                Traceback (most recent call last)",
      "Cell \u001b[0;32mIn [19], line 17\u001b[0m\n\u001b[1;32m     15\u001b[0m x\u001b[38;5;241m=\u001b[39m data[column_name]\n\u001b[1;32m     16\u001b[0m x\u001b[38;5;241m=\u001b[39mx\u001b[38;5;241m.\u001b[39mvalues\u001b[38;5;241m.\u001b[39mreshape(\u001b[38;5;241m-\u001b[39m\u001b[38;5;241m1\u001b[39m, \u001b[38;5;241m1\u001b[39m)\n\u001b[0;32m---> 17\u001b[0m \u001b[43mgmm\u001b[49m\u001b[38;5;241;43m.\u001b[39;49m\u001b[43mfit\u001b[49m\u001b[43m(\u001b[49m\u001b[43mx\u001b[49m\u001b[43m)\u001b[49m\n\u001b[1;32m     18\u001b[0m labels \u001b[38;5;241m=\u001b[39m gmm\u001b[38;5;241m.\u001b[39mpredict(x)\n\u001b[1;32m     20\u001b[0m x0 \u001b[38;5;241m=\u001b[39m data[column_name]\u001b[38;5;241m.\u001b[39mreset_index(drop\u001b[38;5;241m=\u001b[39m\u001b[38;5;28;01mTrue\u001b[39;00m)[labels \u001b[38;5;241m==\u001b[39m \u001b[38;5;241m0\u001b[39m]\u001b[38;5;241m.\u001b[39mmean()\n",
      "File \u001b[0;32m~/opt/anaconda3/envs/tiina-env/lib/python3.10/site-packages/sklearn/mixture/_base.py:200\u001b[0m, in \u001b[0;36mBaseMixture.fit\u001b[0;34m(self, X, y)\u001b[0m\n\u001b[1;32m    174\u001b[0m \u001b[38;5;28;01mdef\u001b[39;00m \u001b[38;5;21mfit\u001b[39m(\u001b[38;5;28mself\u001b[39m, X, y\u001b[38;5;241m=\u001b[39m\u001b[38;5;28;01mNone\u001b[39;00m):\n\u001b[1;32m    175\u001b[0m     \u001b[38;5;124;03m\"\"\"Estimate model parameters with the EM algorithm.\u001b[39;00m\n\u001b[1;32m    176\u001b[0m \n\u001b[1;32m    177\u001b[0m \u001b[38;5;124;03m    The method fits the model ``n_init`` times and sets the parameters with\u001b[39;00m\n\u001b[0;32m   (...)\u001b[0m\n\u001b[1;32m    198\u001b[0m \u001b[38;5;124;03m        The fitted mixture.\u001b[39;00m\n\u001b[1;32m    199\u001b[0m \u001b[38;5;124;03m    \"\"\"\u001b[39;00m\n\u001b[0;32m--> 200\u001b[0m     \u001b[38;5;28;43mself\u001b[39;49m\u001b[38;5;241;43m.\u001b[39;49m\u001b[43mfit_predict\u001b[49m\u001b[43m(\u001b[49m\u001b[43mX\u001b[49m\u001b[43m,\u001b[49m\u001b[43m \u001b[49m\u001b[43my\u001b[49m\u001b[43m)\u001b[49m\n\u001b[1;32m    201\u001b[0m     \u001b[38;5;28;01mreturn\u001b[39;00m \u001b[38;5;28mself\u001b[39m\n",
      "File \u001b[0;32m~/opt/anaconda3/envs/tiina-env/lib/python3.10/site-packages/sklearn/mixture/_base.py:230\u001b[0m, in \u001b[0;36mBaseMixture.fit_predict\u001b[0;34m(self, X, y)\u001b[0m\n\u001b[1;32m    203\u001b[0m \u001b[38;5;28;01mdef\u001b[39;00m \u001b[38;5;21mfit_predict\u001b[39m(\u001b[38;5;28mself\u001b[39m, X, y\u001b[38;5;241m=\u001b[39m\u001b[38;5;28;01mNone\u001b[39;00m):\n\u001b[1;32m    204\u001b[0m     \u001b[38;5;124;03m\"\"\"Estimate model parameters using X and predict the labels for X.\u001b[39;00m\n\u001b[1;32m    205\u001b[0m \n\u001b[1;32m    206\u001b[0m \u001b[38;5;124;03m    The method fits the model n_init times and sets the parameters with\u001b[39;00m\n\u001b[0;32m   (...)\u001b[0m\n\u001b[1;32m    228\u001b[0m \u001b[38;5;124;03m        Component labels.\u001b[39;00m\n\u001b[1;32m    229\u001b[0m \u001b[38;5;124;03m    \"\"\"\u001b[39;00m\n\u001b[0;32m--> 230\u001b[0m     X \u001b[38;5;241m=\u001b[39m \u001b[38;5;28;43mself\u001b[39;49m\u001b[38;5;241;43m.\u001b[39;49m\u001b[43m_validate_data\u001b[49m\u001b[43m(\u001b[49m\u001b[43mX\u001b[49m\u001b[43m,\u001b[49m\u001b[43m \u001b[49m\u001b[43mdtype\u001b[49m\u001b[38;5;241;43m=\u001b[39;49m\u001b[43m[\u001b[49m\u001b[43mnp\u001b[49m\u001b[38;5;241;43m.\u001b[39;49m\u001b[43mfloat64\u001b[49m\u001b[43m,\u001b[49m\u001b[43m \u001b[49m\u001b[43mnp\u001b[49m\u001b[38;5;241;43m.\u001b[39;49m\u001b[43mfloat32\u001b[49m\u001b[43m]\u001b[49m\u001b[43m,\u001b[49m\u001b[43m \u001b[49m\u001b[43mensure_min_samples\u001b[49m\u001b[38;5;241;43m=\u001b[39;49m\u001b[38;5;241;43m2\u001b[39;49m\u001b[43m)\u001b[49m\n\u001b[1;32m    231\u001b[0m     \u001b[38;5;28;01mif\u001b[39;00m X\u001b[38;5;241m.\u001b[39mshape[\u001b[38;5;241m0\u001b[39m] \u001b[38;5;241m<\u001b[39m \u001b[38;5;28mself\u001b[39m\u001b[38;5;241m.\u001b[39mn_components:\n\u001b[1;32m    232\u001b[0m         \u001b[38;5;28;01mraise\u001b[39;00m \u001b[38;5;167;01mValueError\u001b[39;00m(\n\u001b[1;32m    233\u001b[0m             \u001b[38;5;124m\"\u001b[39m\u001b[38;5;124mExpected n_samples >= n_components \u001b[39m\u001b[38;5;124m\"\u001b[39m\n\u001b[1;32m    234\u001b[0m             \u001b[38;5;124mf\u001b[39m\u001b[38;5;124m\"\u001b[39m\u001b[38;5;124mbut got n_components = \u001b[39m\u001b[38;5;132;01m{\u001b[39;00m\u001b[38;5;28mself\u001b[39m\u001b[38;5;241m.\u001b[39mn_components\u001b[38;5;132;01m}\u001b[39;00m\u001b[38;5;124m, \u001b[39m\u001b[38;5;124m\"\u001b[39m\n\u001b[1;32m    235\u001b[0m             \u001b[38;5;124mf\u001b[39m\u001b[38;5;124m\"\u001b[39m\u001b[38;5;124mn_samples = \u001b[39m\u001b[38;5;132;01m{\u001b[39;00mX\u001b[38;5;241m.\u001b[39mshape[\u001b[38;5;241m0\u001b[39m]\u001b[38;5;132;01m}\u001b[39;00m\u001b[38;5;124m\"\u001b[39m\n\u001b[1;32m    236\u001b[0m         )\n",
      "File \u001b[0;32m~/opt/anaconda3/envs/tiina-env/lib/python3.10/site-packages/sklearn/base.py:577\u001b[0m, in \u001b[0;36mBaseEstimator._validate_data\u001b[0;34m(self, X, y, reset, validate_separately, **check_params)\u001b[0m\n\u001b[1;32m    575\u001b[0m     \u001b[38;5;28;01mraise\u001b[39;00m \u001b[38;5;167;01mValueError\u001b[39;00m(\u001b[38;5;124m\"\u001b[39m\u001b[38;5;124mValidation should be done on X, y or both.\u001b[39m\u001b[38;5;124m\"\u001b[39m)\n\u001b[1;32m    576\u001b[0m \u001b[38;5;28;01melif\u001b[39;00m \u001b[38;5;129;01mnot\u001b[39;00m no_val_X \u001b[38;5;129;01mand\u001b[39;00m no_val_y:\n\u001b[0;32m--> 577\u001b[0m     X \u001b[38;5;241m=\u001b[39m \u001b[43mcheck_array\u001b[49m\u001b[43m(\u001b[49m\u001b[43mX\u001b[49m\u001b[43m,\u001b[49m\u001b[43m \u001b[49m\u001b[43minput_name\u001b[49m\u001b[38;5;241;43m=\u001b[39;49m\u001b[38;5;124;43m\"\u001b[39;49m\u001b[38;5;124;43mX\u001b[39;49m\u001b[38;5;124;43m\"\u001b[39;49m\u001b[43m,\u001b[49m\u001b[43m \u001b[49m\u001b[38;5;241;43m*\u001b[39;49m\u001b[38;5;241;43m*\u001b[39;49m\u001b[43mcheck_params\u001b[49m\u001b[43m)\u001b[49m\n\u001b[1;32m    578\u001b[0m     out \u001b[38;5;241m=\u001b[39m X\n\u001b[1;32m    579\u001b[0m \u001b[38;5;28;01melif\u001b[39;00m no_val_X \u001b[38;5;129;01mand\u001b[39;00m \u001b[38;5;129;01mnot\u001b[39;00m no_val_y:\n",
      "File \u001b[0;32m~/opt/anaconda3/envs/tiina-env/lib/python3.10/site-packages/sklearn/utils/validation.py:909\u001b[0m, in \u001b[0;36mcheck_array\u001b[0;34m(array, accept_sparse, accept_large_sparse, dtype, order, copy, force_all_finite, ensure_2d, allow_nd, ensure_min_samples, ensure_min_features, estimator, input_name)\u001b[0m\n\u001b[1;32m    907\u001b[0m     n_samples \u001b[38;5;241m=\u001b[39m _num_samples(array)\n\u001b[1;32m    908\u001b[0m     \u001b[38;5;28;01mif\u001b[39;00m n_samples \u001b[38;5;241m<\u001b[39m ensure_min_samples:\n\u001b[0;32m--> 909\u001b[0m         \u001b[38;5;28;01mraise\u001b[39;00m \u001b[38;5;167;01mValueError\u001b[39;00m(\n\u001b[1;32m    910\u001b[0m             \u001b[38;5;124m\"\u001b[39m\u001b[38;5;124mFound array with \u001b[39m\u001b[38;5;132;01m%d\u001b[39;00m\u001b[38;5;124m sample(s) (shape=\u001b[39m\u001b[38;5;132;01m%s\u001b[39;00m\u001b[38;5;124m) while a\u001b[39m\u001b[38;5;124m\"\u001b[39m\n\u001b[1;32m    911\u001b[0m             \u001b[38;5;124m\"\u001b[39m\u001b[38;5;124m minimum of \u001b[39m\u001b[38;5;132;01m%d\u001b[39;00m\u001b[38;5;124m is required\u001b[39m\u001b[38;5;132;01m%s\u001b[39;00m\u001b[38;5;124m.\u001b[39m\u001b[38;5;124m\"\u001b[39m\n\u001b[1;32m    912\u001b[0m             \u001b[38;5;241m%\u001b[39m (n_samples, array\u001b[38;5;241m.\u001b[39mshape, ensure_min_samples, context)\n\u001b[1;32m    913\u001b[0m         )\n\u001b[1;32m    915\u001b[0m \u001b[38;5;28;01mif\u001b[39;00m ensure_min_features \u001b[38;5;241m>\u001b[39m \u001b[38;5;241m0\u001b[39m \u001b[38;5;129;01mand\u001b[39;00m array\u001b[38;5;241m.\u001b[39mndim \u001b[38;5;241m==\u001b[39m \u001b[38;5;241m2\u001b[39m:\n\u001b[1;32m    916\u001b[0m     n_features \u001b[38;5;241m=\u001b[39m array\u001b[38;5;241m.\u001b[39mshape[\u001b[38;5;241m1\u001b[39m]\n",
      "\u001b[0;31mValueError\u001b[0m: Found array with 0 sample(s) (shape=(0, 1)) while a minimum of 2 is required by GaussianMixture."
     ]
    },
    {
     "data": {
      "image/png": "[encoded data removed]",
      "text/plain": [
       "<Figure size 1500x500 with 2 Axes>"
      ]
     },
     "metadata": {},
     "output_type": "display_data"
    }
   ],
   "source": [
    "#model\n",
    "gmm = sklearn.mixture.GaussianMixture(n_components = 2,\n",
    "                                      covariance_type = \"full\",\n",
    "                                      random_state = 42\n",
    "                                        )\n",
    "#data\n",
    "\n",
    "data=prot_clr\n",
    "n_cells=len(prot_clr)\n",
    "egflow=egflow\n",
    "for column_name in column_names:\n",
    "    fig, ax =plt.subplots(1,2,tight_layout=True, figsize=(15, 5))\n",
    "    fig.show()\n",
    "    \n",
    "    x= data[column_name]\n",
    "    x=x.values.reshape(-1, 1)\n",
    "    gmm.fit(x)\n",
    "    labels = gmm.predict(x)\n",
    "    \n",
    "    x0 = data[column_name].reset_index(drop=True)[labels == 0].mean()\n",
    "    x1 = data[column_name].reset_index(drop=True)[labels == 1].mean()\n",
    "    if x0 < x1:\n",
    "        labels = (~(labels == 1)).astype(int)\n",
    "    \n",
    "    ax1 = sns.kdeplot(data=data, x=column_name, hue=labels, multiple=\"stack\", ax=ax[0]) ;\n",
    "    ax1.title.set_text('GMM')\n",
    "       \n",
    "    #Calculate zeros\n",
    "    n_zeros = np.count_nonzero(labels==0)\n",
    "    result_zeros=(n_zeros/n_cells * 100)\n",
    "    #Calculate ones\n",
    "    n_ones=np.count_nonzero(labels)\n",
    "    result_ones=(n_ones/n_cells * 100)\n",
    "    #Dataframes\n",
    "    all_data = {\"GMM\":[result_ones],\n",
    "        \"Flow\": egflow[column_name],\n",
    "        };\n",
    "\n",
    "    all_data= pd.DataFrame(data=all_data);\n",
    "    \n",
    "    ax2=all_data.plot.bar(rot=15, title=column_name,ax=ax[1]);\n",
    "    ax2.title.set_text('Proportions')\n",
    "    \n",
    "    print(\"Percentage of positive cells, based on GMM:\", result_ones)\n",
    "    \n",
    "    plt.show()"
   ]
  },
  {
   "cell_type": "markdown",
   "id": "0eae4441",
   "metadata": {},
   "source": [
    "## DSB Normalized"
   ]
  },
  {
   "cell_type": "code",
   "execution_count": null,
   "id": "5938edac",
   "metadata": {},
   "outputs": [],
   "source": [
    "prot_dsb"
   ]
  },
  {
   "cell_type": "code",
   "execution_count": null,
   "id": "a95389dd",
   "metadata": {},
   "outputs": [],
   "source": [
    "#Selecting common markers between flow and cite-seq\n",
    "\n",
    "listOfMarkers=flow_markers\n",
    "column_names=list()    #list including the common markers\n",
    "\n",
    "for x in listOfMarkers:\n",
    "    if x in prot_dsb.columns:\n",
    "        print(x, \"Yes\")\n",
    "        column_names.append(x)\n",
    "    else:\n",
    "        print(x, \"No\") \n",
    "        \n",
    "print(column_names)"
   ]
  },
  {
   "cell_type": "code",
   "execution_count": null,
   "id": "25540c36",
   "metadata": {
    "scrolled": false
   },
   "outputs": [],
   "source": [
    "#model\n",
    "gmm = sklearn.mixture.GaussianMixture(n_components = 2,\n",
    "                                      covariance_type = \"full\",\n",
    "                                      random_state = 42\n",
    "                                        )\n",
    "#data\n",
    "\n",
    "data_dsb=prot_dsb\n",
    "n_cells=len(prot_dsb)\n",
    "egflow=egflow \n",
    "for column_name in column_names:\n",
    "    fig, ax =plt.subplots(1,2,tight_layout=True, figsize=(15, 5))\n",
    "    fig.show()\n",
    "    \n",
    "    x2= data_dsb[column_name]\n",
    "    x2=x2.values.reshape(-1, 1)\n",
    "    gmm.fit(x2)\n",
    "    labels2 = gmm.predict(x2)\n",
    "    \n",
    "    x0 = data[column_name].reset_index(drop=True)[labels2 == 0].mean()\n",
    "    x1 = data[column_name].reset_index(drop=True)[labels2 == 1].mean()\n",
    "    if x0 < x1:\n",
    "        labels2 = (~(labels2 == 1)).astype(int)\n",
    "    \n",
    "    ax1 = sns.kdeplot(data=data_dsb, x=column_name, hue=labels2, multiple=\"stack\", ax=ax[0]) ;\n",
    "    ax1.title.set_text('GMM')\n",
    "       \n",
    "    #Calculate zeros\n",
    "    n_zeros = np.count_nonzero(labels2==0)\n",
    "    result_zeros2=(n_zeros/n_cells * 100)\n",
    "    #Calculate ones\n",
    "    n_ones=np.count_nonzero(labels2)\n",
    "    result_ones2=(n_ones/n_cells * 100)\n",
    "    #Dataframes\n",
    "    all_data2 = {\"GMM\":[result_ones2],\n",
    "        \"Flow\": egflow[column_name],\n",
    "        };\n",
    "\n",
    "    all_data2= pd.DataFrame(data=all_data2);\n",
    "    \n",
    "    ax2=all_data2.plot.bar(rot=15, title=column_name,ax=ax[1]);\n",
    "    ax2.title.set_text('Proportions')\n",
    "    \n",
    "    print(\"Percentage of positive cells:\", result_ones2)\n",
    "    \n",
    "    plt.show()"
   ]
  },
  {
   "cell_type": "code",
   "execution_count": null,
   "id": "b5ffc3a4",
   "metadata": {},
   "outputs": [],
   "source": [
    "#Different covariance type used in the model\n",
    "\n",
    "#model\n",
    "gmm = sklearn.mixture.GaussianMixture(n_components = 2,\n",
    "                                      covariance_type = \"spherical\",\n",
    "                                      random_state = 42\n",
    "                                        )\n",
    "#data\n",
    "\n",
    "data_dsb=prot_dsb\n",
    "n_cells=len(prot_dsb)\n",
    "egflow=egflow\n",
    "for column_name in column_names:\n",
    "    fig, ax =plt.subplots(1,2,tight_layout=True, figsize=(15, 5))\n",
    "    fig.show()\n",
    "    \n",
    "    x3= data_dsb[column_name]\n",
    "    x3=x3.values.reshape(-1, 1)\n",
    "    gmm.fit(x3)\n",
    "    labels3 = gmm.predict(x3)\n",
    "    \n",
    "    x0 = data[column_name].reset_index(drop=True)[labels3 == 0].mean()\n",
    "    x1 = data[column_name].reset_index(drop=True)[labels3 == 1].mean()\n",
    "    if x0 < x1:\n",
    "        labels3 = (~(labels3 == 1)).astype(int)\n",
    "    \n",
    "    ax1 = sns.kdeplot(data=data_dsb, x=column_name, hue=labels3, multiple=\"stack\", ax=ax[0]) ;\n",
    "    ax1.title.set_text('GMM')\n",
    "       \n",
    "    #Calculate zeros\n",
    "    n_zeros = np.count_nonzero(labels3==0)\n",
    "    result_zeros3=(n_zeros/n_cells * 100)\n",
    "    #Calculate ones\n",
    "    n_ones=np.count_nonzero(labels3)\n",
    "    result_ones3=(n_ones/n_cells * 100)\n",
    "    #Dataframes\n",
    "    all_data3 = {\"GMM\":[result_ones3],\n",
    "        \"Flow\": egflow[column_name],\n",
    "        };\n",
    "\n",
    "    all_data3= pd.DataFrame(data=all_data3);\n",
    "    \n",
    "    ax2=all_data3.plot.bar(rot=15, title=column_name,ax=ax[1]);\n",
    "    ax2.title.set_text('Proportions')\n",
    "    \n",
    "    print(\"Percentage of positive cells:\", result_ones3)\n",
    "    \n",
    "    plt.show()"
   ]
  },
  {
   "cell_type": "code",
   "execution_count": null,
   "id": "e2c4a1cf",
   "metadata": {},
   "outputs": [],
   "source": [
    "#Different covariance type used in the model\n",
    "\n",
    "#model\n",
    "gmm = sklearn.mixture.GaussianMixture(n_components = 2,\n",
    "                                      covariance_type = \"tied\",\n",
    "                                      random_state = 42\n",
    "                                        )\n",
    "#data\n",
    "\n",
    "data_dsb=prot_dsb\n",
    "n_cells=len(prot_dsb)\n",
    "egflow=egflow\n",
    "for column_name in column_names:\n",
    "    fig, ax =plt.subplots(1,2,tight_layout=True, figsize=(15, 5))\n",
    "    fig.show()\n",
    "    \n",
    "    x4= data_dsb[column_name]\n",
    "    x4=x4.values.reshape(-1, 1)\n",
    "    gmm.fit(x4)\n",
    "    labels4 = gmm.predict(x4)\n",
    "    \n",
    "    ax1 = sns.kdeplot(data=data_dsb, x=column_name, hue=labels4, multiple=\"stack\", ax=ax[0]) ;\n",
    "    ax1.title.set_text('GMM')\n",
    "       \n",
    "    #Calculate zeros\n",
    "    n_zeros = np.count_nonzero(labels4==0)\n",
    "    result_zeros4=(n_zeros/n_cells * 100)\n",
    "    #Calculate ones\n",
    "    n_ones=np.count_nonzero(labels4)\n",
    "    result_ones4=(n_ones/n_cells * 100)\n",
    "    #Dataframes\n",
    "    all_data4 = {\"GMM\":[result_ones4],\n",
    "        \"Flow\": egflow[column_name],\n",
    "        };\n",
    "\n",
    "    all_data4= pd.DataFrame(data=all_data4);\n",
    "    \n",
    "    ax2=all_data4.plot.bar(rot=15, title=column_name,ax=ax[1]);\n",
    "    ax2.title.set_text('Proportions')\n",
    "    \n",
    "    print(\"Percentage of positive cells:\", result_ones4)\n",
    "    \n",
    "    plt.show()"
   ]
  },
  {
   "cell_type": "code",
   "execution_count": null,
   "id": "adb11ba4",
   "metadata": {},
   "outputs": [],
   "source": [
    "#Different covariance type used in the model\n",
    "\n",
    "#model\n",
    "gmm = sklearn.mixture.GaussianMixture(n_components = 2,\n",
    "                                      covariance_type = \"diag\",\n",
    "                                      random_state = 42\n",
    "                                        )\n",
    "#data\n",
    "\n",
    "data_dsb=prot_dsb\n",
    "n_cells=len(prot_dsb)\n",
    "egflow=egflow\n",
    "for column_name in column_names:\n",
    "    fig, ax =plt.subplots(1,2,tight_layout=True, figsize=(15, 5))\n",
    "    fig.show()\n",
    "    \n",
    "    x5= data_dsb[column_name]\n",
    "    x5=x5.values.reshape(-1, 1)\n",
    "    gmm.fit(x5)\n",
    "    labels5= gmm.predict(x5)\n",
    "    \n",
    "    x0 = data[column_name].reset_index(drop=True)[labels5 == 0].mean()\n",
    "    x1 = data[column_name].reset_index(drop=True)[labels5 == 1].mean()\n",
    "    if x0 < x1:\n",
    "        labels5 = (~(labels5 == 1)).astype(int)\n",
    "    \n",
    "    ax1 = sns.kdeplot(data=data_dsb, x=column_name, hue=labels5, multiple=\"stack\", ax=ax[0]) ;\n",
    "    ax1.title.set_text('GMM')\n",
    "       \n",
    "    #Calculate zeros\n",
    "    n_zeros = np.count_nonzero(labels5==0)\n",
    "    result_zeros5=(n_zeros/n_cells * 100)\n",
    "    #Calculate ones\n",
    "    n_ones=np.count_nonzero(labels5)\n",
    "    result_ones5=(n_ones/n_cells * 100)\n",
    "    #Dataframes\n",
    "    all_data5 = {\"GMM\":[result_ones5],\n",
    "        \"Flow\": egflow[column_name],\n",
    "        };\n",
    "\n",
    "    all_data5= pd.DataFrame(data=all_data5);\n",
    "    \n",
    "    ax2=all_data5.plot.bar(rot=15, title=column_name,ax=ax[1]);\n",
    "    ax2.title.set_text('Proportions')\n",
    "    \n",
    "    print(\"Percentage of positive cells:\", result_ones5)\n",
    "    \n",
    "    plt.show()"
   ]
  },
  {
   "cell_type": "code",
   "execution_count": null,
   "id": "09ff0685",
   "metadata": {},
   "outputs": [],
   "source": [
    "labels_CLR"
   ]
  },
  {
   "cell_type": "markdown",
   "id": "421f5c5c",
   "metadata": {},
   "source": [
    "## Both normalization methods"
   ]
  },
  {
   "cell_type": "code",
   "execution_count": null,
   "id": "17d64b43",
   "metadata": {},
   "outputs": [],
   "source": [
    "#model\n",
    "gmm = sklearn.mixture.GaussianMixture(n_components = 2,\n",
    "                                      covariance_type = \"full\",\n",
    "                                      random_state = 42\n",
    "                                        )\n",
    "\n",
    "\n",
    "for column_name in column_names:\n",
    "    fig, ax =plt.subplots(1,6,tight_layout=True, figsize=(15, 5))\n",
    "    fig.show()\n",
    "    \n",
    "    #Original density plots\n",
    "    ax1 = sns.kdeplot(data=prot_clr, x=column_name, multiple=\"stack\", ax=ax[0]) ;\n",
    "    ax2 = sns.kdeplot(data=prot_dsb, x=column_name, multiple=\"stack\", color=\"g\", ax=ax[1]) ;\n",
    "\n",
    "    \n",
    "    ax1.title.set_text('CLR')    #headings for subplots\n",
    "    ax2.title.set_text('DSB')\n",
    "\n",
    "    \n",
    "    #CLR\n",
    "    x_CLR= prot_clr[column_name]\n",
    "    x_CLR=x_CLR.values.reshape(-1, 1)\n",
    "    gmm.fit(x_CLR)\n",
    "    labels_CLR = gmm.predict(x_CLR)\n",
    "    labels_CLR = pd.Series(labels_CLR)\n",
    "    \n",
    "    x0 = prot_clr[column_name].reset_index(drop=True)[labels_CLR == 0].mean()\n",
    "    x1 = prot_clr[column_name].reset_index(drop=True)[labels_CLR == 1].mean()\n",
    "    if x0 < x1:\n",
    "        labels_CLR = (~(labels_CLR == 1)).astype(int)\n",
    "    \n",
    "    #ax3 = sns.kdeplot(data=prot_clr, x=column_name, hue=labels_CLR, multiple=\"stack\", ax=ax[2]) ;\n",
    "    #ax3.title.set_text('CLR')   \n",
    "    \n",
    "    #DSB\n",
    "    x_DSB = prot_dsb[column_name]\n",
    "    x_DSB=x_DSB.values.reshape(-1, 1)\n",
    "    gmm.fit(x_DSB)\n",
    "    labels_DSB = gmm.predict(x_DSB)\n",
    "\n",
    "    x0 = prot_dsb[column_name].reset_index(drop=True)[labels_DSB == 0].mean()\n",
    "    x1 = prot_dsb[column_name].reset_index(drop=True)[labels_DSB == 1].mean()\n",
    "    if x0 < x1:\n",
    "        labels_DSB = (~(labels_DSB == 1)).astype(int)\n",
    "    \n",
    "    ax4 = sns.kdeplot(data=prot_dsb, x=column_name, hue=labels_DSB, multiple=\"stack\", color=\"g\", ax=ax[3]) ;\n",
    "    \n",
    "    ax4.title.set_text('DSB')\n",
    "\n",
    "    #Calculate zeros\n",
    "    n_zeros1 = np.count_nonzero(labels_CLR==0)\n",
    "    n_zeros2 = np.count_nonzero(labels_DSB==0)\n",
    "    result_zeros_CLR=(n_zeros1/n_cells * 100)\n",
    "    result_zeros_DSB=(n_zeros2/n_cells * 100)\n",
    "    #Calculate ones\n",
    "    n_ones_CLR=np.count_nonzero(labels_CLR)\n",
    "    n_ones_DSB=np.count_nonzero(labels_DSB)\n",
    "    #percentages\n",
    "    result_ones_CLR=(n_ones_CLR/n_cells * 100)\n",
    "    result_ones_DSB=(n_ones_DSB/n_cells * 100)\n",
    "    #Dataframes\n",
    "    data_CLR = {\"0s\":[result_zeros_CLR],\n",
    "        \"1s\":[result_ones_CLR]\n",
    "        };\n",
    "\n",
    "    dataFrame_CLR = pd.DataFrame(data=data_CLR)\n",
    "    \n",
    "    data_DSB = { \"0s\":[result_zeros_DSB],\n",
    "        \"1s\":[result_ones_DSB]\n",
    "        };\n",
    "    dataFrame_DSB = pd.DataFrame(data=data_DSB)\n",
    "    \n",
    "    ax5= dataFrame_CLR.plot.bar(title=column_name, ax=ax[4]);\n",
    "    ax6= dataFrame_DSB.plot.bar(title=column_name, ax=ax[5]);\n",
    "\n",
    "    ax5.title.set_text('CLR')    #headings for subplots\n",
    "    ax6.title.set_text('DSB')\n",
    "    plt.show()\n",
    "\n"
   ]
  },
  {
   "cell_type": "code",
   "execution_count": null,
   "id": "153cd0c5",
   "metadata": {},
   "outputs": [],
   "source": []
  }
 ],
 "metadata": {
  "kernelspec": {
   "display_name": "Python 3 (ipykernel)",
   "language": "python",
   "name": "python3"
  },
  "language_info": {
   "codemirror_mode": {
    "name": "ipython",
    "version": 3
   },
   "file_extension": ".py",
   "mimetype": "text/x-python",
   "name": "python",
   "nbconvert_exporter": "python",
   "pygments_lexer": "ipython3",
   "version": "3.10.6"
  }
 },
 "nbformat": 4,
 "nbformat_minor": 5
}
